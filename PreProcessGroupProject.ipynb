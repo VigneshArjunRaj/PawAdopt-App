{
  "cells": [
    {
      "cell_type": "markdown",
      "metadata": {
        "id": "DxaqharfV56L"
      },
      "source": [
        "## Reading the Scrapped Data"
      ]
    },
    {
      "cell_type": "code",
      "execution_count": null,
      "metadata": {
        "id": "IdTBUgtsdW0N"
      },
      "outputs": [],
      "source": [
        "import pandas as pd"
      ]
    },
    {
      "cell_type": "code",
      "execution_count": null,
      "metadata": {
        "colab": {
          "base_uri": "https://localhost:8080/",
          "height": 240
        },
        "id": "lMs75ntNAa1A",
        "outputId": "056e1bbd-be01-4a58-de82-100d6d2da283"
      },
      "outputs": [
        {
          "output_type": "error",
          "ename": "FileNotFoundError",
          "evalue": "ignored",
          "traceback": [
            "\u001b[0;31m---------------------------------------------------------------------------\u001b[0m",
            "\u001b[0;31mFileNotFoundError\u001b[0m                         Traceback (most recent call last)",
            "\u001b[0;32m<ipython-input-4-7dc1146cc814>\u001b[0m in \u001b[0;36m<cell line: 9>\u001b[0;34m()\u001b[0m\n\u001b[1;32m      7\u001b[0m \u001b[0mcaptions_list\u001b[0m \u001b[0;34m=\u001b[0m \u001b[0;34m[\u001b[0m\u001b[0;34m]\u001b[0m\u001b[0;34m\u001b[0m\u001b[0;34m\u001b[0m\u001b[0m\n\u001b[1;32m      8\u001b[0m \u001b[0;31m# for all the collected data in path\u001b[0m\u001b[0;34m\u001b[0m\u001b[0;34m\u001b[0m\u001b[0m\n\u001b[0;32m----> 9\u001b[0;31m \u001b[0;32mfor\u001b[0m \u001b[0mfile\u001b[0m \u001b[0;32min\u001b[0m \u001b[0mos\u001b[0m\u001b[0;34m.\u001b[0m\u001b[0mlistdir\u001b[0m\u001b[0;34m(\u001b[0m\u001b[0mdata_path\u001b[0m\u001b[0;34m)\u001b[0m\u001b[0;34m:\u001b[0m\u001b[0;34m\u001b[0m\u001b[0;34m\u001b[0m\u001b[0m\n\u001b[0m\u001b[1;32m     10\u001b[0m      \u001b[0mfilename\u001b[0m \u001b[0;34m=\u001b[0m \u001b[0mos\u001b[0m\u001b[0;34m.\u001b[0m\u001b[0mfsdecode\u001b[0m\u001b[0;34m(\u001b[0m\u001b[0mfile\u001b[0m\u001b[0;34m)\u001b[0m\u001b[0;34m\u001b[0m\u001b[0;34m\u001b[0m\u001b[0m\n\u001b[1;32m     11\u001b[0m      \u001b[0;32mif\u001b[0m \u001b[0mfilename\u001b[0m\u001b[0;34m.\u001b[0m\u001b[0mendswith\u001b[0m\u001b[0;34m(\u001b[0m\u001b[0;34m\".json\"\u001b[0m\u001b[0;34m)\u001b[0m \u001b[0;34m:\u001b[0m\u001b[0;34m\u001b[0m\u001b[0;34m\u001b[0m\u001b[0m\n",
            "\u001b[0;31mFileNotFoundError\u001b[0m: [Errno 2] No such file or directory: '/content/drive/MyDrive/GroupProject/Data/'"
          ]
        }
      ],
      "source": [
        "import os\n",
        "import json\n",
        "data_path = \"/content/drive/MyDrive/GroupProject/Data/\"\n",
        "image_list = []\n",
        "comments_list = [\n",
        "]\n",
        "captions_list = []\n",
        "# for all the collected data in path\n",
        "for file in os.listdir(data_path):\n",
        "     filename = os.fsdecode(file)\n",
        "     if filename.endswith(\".json\") : \n",
        "          full_path = os.path.join(data_path, filename)\n",
        "          with open(full_path,\"r\") as f:\n",
        "            json_d = f.read()\n",
        "          data = json.loads(json_d)\n",
        "          #print(data)\n",
        "          for d in data:\n",
        "            if d['Image'] in image_list:\n",
        "              continue\n",
        "            else:\n",
        "              image_list.append(d[\"Image\"])\n",
        "              comments_list.append(d[\"Comments\"])\n",
        "              captions_list.append(d[\"caption\"])\n",
        "     else:\n",
        "         continue\n",
        "print(image_list)"
      ]
    },
    {
      "cell_type": "code",
      "execution_count": null,
      "metadata": {
        "colab": {
          "base_uri": "https://localhost:8080/"
        },
        "id": "B_qbhsvyCSI3",
        "outputId": "17446860-c835-4ec0-82a9-6f2b418a9e8a"
      },
      "outputs": [
        {
          "name": "stdout",
          "output_type": "stream",
          "text": [
            "1646\n"
          ]
        }
      ],
      "source": [
        "print(len(image_list))"
      ]
    },
    {
      "cell_type": "markdown",
      "metadata": {
        "id": "d86ml6fPrsMR"
      },
      "source": [
        "## For Downloading Images"
      ]
    },
    {
      "cell_type": "code",
      "execution_count": null,
      "metadata": {
        "colab": {
          "base_uri": "https://localhost:8080/",
          "height": 1000
        },
        "id": "R-kzAxINKvZY",
        "outputId": "c6b996f3-cc95-459c-bd86-72acdbfa27b0"
      },
      "outputs": [
        {
          "name": "stdout",
          "output_type": "stream",
          "text": [
            "Downloaded q5hxiq9tljoa1.jpg\n",
            "Written  q5hxiq9tljoa1\n",
            "Downloaded 6g0wuj582vka1.jpg\n",
            "Written  6g0wuj582vka1\n",
            "Downloaded i3uzxp5qe7ia1.png\n",
            "Written  i3uzxp5qe7ia1\n",
            "Downloaded n8knay8tweoa1.jpg\n",
            "Written  n8knay8tweoa1\n",
            "Downloaded 6ehwjtoho3la1.jpg\n",
            "Written  6ehwjtoho3la1\n",
            "Downloaded 3rExkHp.jpg\n",
            "Written  3rExkHp\n",
            "Downloaded vn9qd2v.jpg\n",
            "Written  vn9qd2v\n",
            "Downloaded xoostvr1ieoa1.jpg\n",
            "Written  xoostvr1ieoa1\n",
            "Downloaded hwcaydokvvaa1.jpg\n",
            "Written  hwcaydokvvaa1\n",
            "Downloaded 07ab0z57x4ca1.jpg\n",
            "Written  07ab0z57x4ca1\n",
            "Downloaded uxmexz121afa1.jpg\n",
            "Written  uxmexz121afa1\n",
            "Downloaded 7qsulpwnhmga1.jpg\n",
            "Written  7qsulpwnhmga1\n",
            "Downloaded jkwrrylj9s7a1.jpg\n",
            "Written  jkwrrylj9s7a1\n",
            "Downloaded kzgxatgzazfa1.jpg\n",
            "Written  kzgxatgzazfa1\n",
            "Downloaded 1deaj7oddaia1.jpg\n",
            "Written  1deaj7oddaia1\n",
            "Downloaded 1japi49hlila1.jpg\n",
            "Written  1japi49hlila1\n",
            "Downloaded 7t36s3hof7ka1.jpg\n",
            "Written  7t36s3hof7ka1\n",
            "Downloaded fck8pcu7upna1.jpg\n",
            "Written  fck8pcu7upna1\n"
          ]
        },
        {
          "ename": "KeyboardInterrupt",
          "evalue": "ignored",
          "output_type": "error",
          "traceback": [
            "\u001b[0;31m---------------------------------------------------------------------------\u001b[0m",
            "\u001b[0;31mKeyboardInterrupt\u001b[0m                         Traceback (most recent call last)",
            "\u001b[0;32m<ipython-input-7-640bc487269a>\u001b[0m in \u001b[0;36m<cell line: 5>\u001b[0;34m()\u001b[0m\n\u001b[1;32m      6\u001b[0m     \u001b[0;32mtry\u001b[0m\u001b[0;34m:\u001b[0m\u001b[0;34m\u001b[0m\u001b[0;34m\u001b[0m\u001b[0m\n\u001b[1;32m      7\u001b[0m         \u001b[0;31m# open the URL image\u001b[0m\u001b[0;34m\u001b[0m\u001b[0;34m\u001b[0m\u001b[0m\n\u001b[0;32m----> 8\u001b[0;31m         \u001b[0;32mwith\u001b[0m \u001b[0murllib\u001b[0m\u001b[0;34m.\u001b[0m\u001b[0mrequest\u001b[0m\u001b[0;34m.\u001b[0m\u001b[0murlopen\u001b[0m\u001b[0;34m(\u001b[0m\u001b[0murl\u001b[0m\u001b[0;34m)\u001b[0m \u001b[0;32mas\u001b[0m \u001b[0murl_image\u001b[0m\u001b[0;34m:\u001b[0m\u001b[0;34m\u001b[0m\u001b[0;34m\u001b[0m\u001b[0m\n\u001b[0m\u001b[1;32m      9\u001b[0m             \u001b[0;31m# read the image data\u001b[0m\u001b[0;34m\u001b[0m\u001b[0;34m\u001b[0m\u001b[0m\n\u001b[1;32m     10\u001b[0m             \u001b[0mimage_data\u001b[0m \u001b[0;34m=\u001b[0m \u001b[0murl_image\u001b[0m\u001b[0;34m.\u001b[0m\u001b[0mread\u001b[0m\u001b[0;34m(\u001b[0m\u001b[0;34m)\u001b[0m\u001b[0;34m\u001b[0m\u001b[0;34m\u001b[0m\u001b[0m\n",
            "\u001b[0;32m/usr/lib/python3.9/urllib/request.py\u001b[0m in \u001b[0;36murlopen\u001b[0;34m(url, data, timeout, cafile, capath, cadefault, context)\u001b[0m\n\u001b[1;32m    212\u001b[0m     \u001b[0;32melse\u001b[0m\u001b[0;34m:\u001b[0m\u001b[0;34m\u001b[0m\u001b[0;34m\u001b[0m\u001b[0m\n\u001b[1;32m    213\u001b[0m         \u001b[0mopener\u001b[0m \u001b[0;34m=\u001b[0m \u001b[0m_opener\u001b[0m\u001b[0;34m\u001b[0m\u001b[0;34m\u001b[0m\u001b[0m\n\u001b[0;32m--> 214\u001b[0;31m     \u001b[0;32mreturn\u001b[0m \u001b[0mopener\u001b[0m\u001b[0;34m.\u001b[0m\u001b[0mopen\u001b[0m\u001b[0;34m(\u001b[0m\u001b[0murl\u001b[0m\u001b[0;34m,\u001b[0m \u001b[0mdata\u001b[0m\u001b[0;34m,\u001b[0m \u001b[0mtimeout\u001b[0m\u001b[0;34m)\u001b[0m\u001b[0;34m\u001b[0m\u001b[0;34m\u001b[0m\u001b[0m\n\u001b[0m\u001b[1;32m    215\u001b[0m \u001b[0;34m\u001b[0m\u001b[0m\n\u001b[1;32m    216\u001b[0m \u001b[0;32mdef\u001b[0m \u001b[0minstall_opener\u001b[0m\u001b[0;34m(\u001b[0m\u001b[0mopener\u001b[0m\u001b[0;34m)\u001b[0m\u001b[0;34m:\u001b[0m\u001b[0;34m\u001b[0m\u001b[0;34m\u001b[0m\u001b[0m\n",
            "\u001b[0;32m/usr/lib/python3.9/urllib/request.py\u001b[0m in \u001b[0;36mopen\u001b[0;34m(self, fullurl, data, timeout)\u001b[0m\n\u001b[1;32m    515\u001b[0m \u001b[0;34m\u001b[0m\u001b[0m\n\u001b[1;32m    516\u001b[0m         \u001b[0msys\u001b[0m\u001b[0;34m.\u001b[0m\u001b[0maudit\u001b[0m\u001b[0;34m(\u001b[0m\u001b[0;34m'urllib.Request'\u001b[0m\u001b[0;34m,\u001b[0m \u001b[0mreq\u001b[0m\u001b[0;34m.\u001b[0m\u001b[0mfull_url\u001b[0m\u001b[0;34m,\u001b[0m \u001b[0mreq\u001b[0m\u001b[0;34m.\u001b[0m\u001b[0mdata\u001b[0m\u001b[0;34m,\u001b[0m \u001b[0mreq\u001b[0m\u001b[0;34m.\u001b[0m\u001b[0mheaders\u001b[0m\u001b[0;34m,\u001b[0m \u001b[0mreq\u001b[0m\u001b[0;34m.\u001b[0m\u001b[0mget_method\u001b[0m\u001b[0;34m(\u001b[0m\u001b[0;34m)\u001b[0m\u001b[0;34m)\u001b[0m\u001b[0;34m\u001b[0m\u001b[0;34m\u001b[0m\u001b[0m\n\u001b[0;32m--> 517\u001b[0;31m         \u001b[0mresponse\u001b[0m \u001b[0;34m=\u001b[0m \u001b[0mself\u001b[0m\u001b[0;34m.\u001b[0m\u001b[0m_open\u001b[0m\u001b[0;34m(\u001b[0m\u001b[0mreq\u001b[0m\u001b[0;34m,\u001b[0m \u001b[0mdata\u001b[0m\u001b[0;34m)\u001b[0m\u001b[0;34m\u001b[0m\u001b[0;34m\u001b[0m\u001b[0m\n\u001b[0m\u001b[1;32m    518\u001b[0m \u001b[0;34m\u001b[0m\u001b[0m\n\u001b[1;32m    519\u001b[0m         \u001b[0;31m# post-process response\u001b[0m\u001b[0;34m\u001b[0m\u001b[0;34m\u001b[0m\u001b[0m\n",
            "\u001b[0;32m/usr/lib/python3.9/urllib/request.py\u001b[0m in \u001b[0;36m_open\u001b[0;34m(self, req, data)\u001b[0m\n\u001b[1;32m    532\u001b[0m \u001b[0;34m\u001b[0m\u001b[0m\n\u001b[1;32m    533\u001b[0m         \u001b[0mprotocol\u001b[0m \u001b[0;34m=\u001b[0m \u001b[0mreq\u001b[0m\u001b[0;34m.\u001b[0m\u001b[0mtype\u001b[0m\u001b[0;34m\u001b[0m\u001b[0;34m\u001b[0m\u001b[0m\n\u001b[0;32m--> 534\u001b[0;31m         result = self._call_chain(self.handle_open, protocol, protocol +\n\u001b[0m\u001b[1;32m    535\u001b[0m                                   '_open', req)\n\u001b[1;32m    536\u001b[0m         \u001b[0;32mif\u001b[0m \u001b[0mresult\u001b[0m\u001b[0;34m:\u001b[0m\u001b[0;34m\u001b[0m\u001b[0;34m\u001b[0m\u001b[0m\n",
            "\u001b[0;32m/usr/lib/python3.9/urllib/request.py\u001b[0m in \u001b[0;36m_call_chain\u001b[0;34m(self, chain, kind, meth_name, *args)\u001b[0m\n\u001b[1;32m    492\u001b[0m         \u001b[0;32mfor\u001b[0m \u001b[0mhandler\u001b[0m \u001b[0;32min\u001b[0m \u001b[0mhandlers\u001b[0m\u001b[0;34m:\u001b[0m\u001b[0;34m\u001b[0m\u001b[0;34m\u001b[0m\u001b[0m\n\u001b[1;32m    493\u001b[0m             \u001b[0mfunc\u001b[0m \u001b[0;34m=\u001b[0m \u001b[0mgetattr\u001b[0m\u001b[0;34m(\u001b[0m\u001b[0mhandler\u001b[0m\u001b[0;34m,\u001b[0m \u001b[0mmeth_name\u001b[0m\u001b[0;34m)\u001b[0m\u001b[0;34m\u001b[0m\u001b[0;34m\u001b[0m\u001b[0m\n\u001b[0;32m--> 494\u001b[0;31m             \u001b[0mresult\u001b[0m \u001b[0;34m=\u001b[0m \u001b[0mfunc\u001b[0m\u001b[0;34m(\u001b[0m\u001b[0;34m*\u001b[0m\u001b[0margs\u001b[0m\u001b[0;34m)\u001b[0m\u001b[0;34m\u001b[0m\u001b[0;34m\u001b[0m\u001b[0m\n\u001b[0m\u001b[1;32m    495\u001b[0m             \u001b[0;32mif\u001b[0m \u001b[0mresult\u001b[0m \u001b[0;32mis\u001b[0m \u001b[0;32mnot\u001b[0m \u001b[0;32mNone\u001b[0m\u001b[0;34m:\u001b[0m\u001b[0;34m\u001b[0m\u001b[0;34m\u001b[0m\u001b[0m\n\u001b[1;32m    496\u001b[0m                 \u001b[0;32mreturn\u001b[0m \u001b[0mresult\u001b[0m\u001b[0;34m\u001b[0m\u001b[0;34m\u001b[0m\u001b[0m\n",
            "\u001b[0;32m/usr/lib/python3.9/urllib/request.py\u001b[0m in \u001b[0;36mhttps_open\u001b[0;34m(self, req)\u001b[0m\n\u001b[1;32m   1387\u001b[0m \u001b[0;34m\u001b[0m\u001b[0m\n\u001b[1;32m   1388\u001b[0m         \u001b[0;32mdef\u001b[0m \u001b[0mhttps_open\u001b[0m\u001b[0;34m(\u001b[0m\u001b[0mself\u001b[0m\u001b[0;34m,\u001b[0m \u001b[0mreq\u001b[0m\u001b[0;34m)\u001b[0m\u001b[0;34m:\u001b[0m\u001b[0;34m\u001b[0m\u001b[0;34m\u001b[0m\u001b[0m\n\u001b[0;32m-> 1389\u001b[0;31m             return self.do_open(http.client.HTTPSConnection, req,\n\u001b[0m\u001b[1;32m   1390\u001b[0m                 context=self._context, check_hostname=self._check_hostname)\n\u001b[1;32m   1391\u001b[0m \u001b[0;34m\u001b[0m\u001b[0m\n",
            "\u001b[0;32m/usr/lib/python3.9/urllib/request.py\u001b[0m in \u001b[0;36mdo_open\u001b[0;34m(self, http_class, req, **http_conn_args)\u001b[0m\n\u001b[1;32m   1348\u001b[0m             \u001b[0;32mexcept\u001b[0m \u001b[0mOSError\u001b[0m \u001b[0;32mas\u001b[0m \u001b[0merr\u001b[0m\u001b[0;34m:\u001b[0m \u001b[0;31m# timeout error\u001b[0m\u001b[0;34m\u001b[0m\u001b[0;34m\u001b[0m\u001b[0m\n\u001b[1;32m   1349\u001b[0m                 \u001b[0;32mraise\u001b[0m \u001b[0mURLError\u001b[0m\u001b[0;34m(\u001b[0m\u001b[0merr\u001b[0m\u001b[0;34m)\u001b[0m\u001b[0;34m\u001b[0m\u001b[0;34m\u001b[0m\u001b[0m\n\u001b[0;32m-> 1350\u001b[0;31m             \u001b[0mr\u001b[0m \u001b[0;34m=\u001b[0m \u001b[0mh\u001b[0m\u001b[0;34m.\u001b[0m\u001b[0mgetresponse\u001b[0m\u001b[0;34m(\u001b[0m\u001b[0;34m)\u001b[0m\u001b[0;34m\u001b[0m\u001b[0;34m\u001b[0m\u001b[0m\n\u001b[0m\u001b[1;32m   1351\u001b[0m         \u001b[0;32mexcept\u001b[0m\u001b[0;34m:\u001b[0m\u001b[0;34m\u001b[0m\u001b[0;34m\u001b[0m\u001b[0m\n\u001b[1;32m   1352\u001b[0m             \u001b[0mh\u001b[0m\u001b[0;34m.\u001b[0m\u001b[0mclose\u001b[0m\u001b[0;34m(\u001b[0m\u001b[0;34m)\u001b[0m\u001b[0;34m\u001b[0m\u001b[0;34m\u001b[0m\u001b[0m\n",
            "\u001b[0;32m/usr/lib/python3.9/http/client.py\u001b[0m in \u001b[0;36mgetresponse\u001b[0;34m(self)\u001b[0m\n\u001b[1;32m   1375\u001b[0m         \u001b[0;32mtry\u001b[0m\u001b[0;34m:\u001b[0m\u001b[0;34m\u001b[0m\u001b[0;34m\u001b[0m\u001b[0m\n\u001b[1;32m   1376\u001b[0m             \u001b[0;32mtry\u001b[0m\u001b[0;34m:\u001b[0m\u001b[0;34m\u001b[0m\u001b[0;34m\u001b[0m\u001b[0m\n\u001b[0;32m-> 1377\u001b[0;31m                 \u001b[0mresponse\u001b[0m\u001b[0;34m.\u001b[0m\u001b[0mbegin\u001b[0m\u001b[0;34m(\u001b[0m\u001b[0;34m)\u001b[0m\u001b[0;34m\u001b[0m\u001b[0;34m\u001b[0m\u001b[0m\n\u001b[0m\u001b[1;32m   1378\u001b[0m             \u001b[0;32mexcept\u001b[0m \u001b[0mConnectionError\u001b[0m\u001b[0;34m:\u001b[0m\u001b[0;34m\u001b[0m\u001b[0;34m\u001b[0m\u001b[0m\n\u001b[1;32m   1379\u001b[0m                 \u001b[0mself\u001b[0m\u001b[0;34m.\u001b[0m\u001b[0mclose\u001b[0m\u001b[0;34m(\u001b[0m\u001b[0;34m)\u001b[0m\u001b[0;34m\u001b[0m\u001b[0;34m\u001b[0m\u001b[0m\n",
            "\u001b[0;32m/usr/lib/python3.9/http/client.py\u001b[0m in \u001b[0;36mbegin\u001b[0;34m(self)\u001b[0m\n\u001b[1;32m    318\u001b[0m         \u001b[0;31m# read until we get a non-100 response\u001b[0m\u001b[0;34m\u001b[0m\u001b[0;34m\u001b[0m\u001b[0m\n\u001b[1;32m    319\u001b[0m         \u001b[0;32mwhile\u001b[0m \u001b[0;32mTrue\u001b[0m\u001b[0;34m:\u001b[0m\u001b[0;34m\u001b[0m\u001b[0;34m\u001b[0m\u001b[0m\n\u001b[0;32m--> 320\u001b[0;31m             \u001b[0mversion\u001b[0m\u001b[0;34m,\u001b[0m \u001b[0mstatus\u001b[0m\u001b[0;34m,\u001b[0m \u001b[0mreason\u001b[0m \u001b[0;34m=\u001b[0m \u001b[0mself\u001b[0m\u001b[0;34m.\u001b[0m\u001b[0m_read_status\u001b[0m\u001b[0;34m(\u001b[0m\u001b[0;34m)\u001b[0m\u001b[0;34m\u001b[0m\u001b[0;34m\u001b[0m\u001b[0m\n\u001b[0m\u001b[1;32m    321\u001b[0m             \u001b[0;32mif\u001b[0m \u001b[0mstatus\u001b[0m \u001b[0;34m!=\u001b[0m \u001b[0mCONTINUE\u001b[0m\u001b[0;34m:\u001b[0m\u001b[0;34m\u001b[0m\u001b[0;34m\u001b[0m\u001b[0m\n\u001b[1;32m    322\u001b[0m                 \u001b[0;32mbreak\u001b[0m\u001b[0;34m\u001b[0m\u001b[0;34m\u001b[0m\u001b[0m\n",
            "\u001b[0;32m/usr/lib/python3.9/http/client.py\u001b[0m in \u001b[0;36m_read_status\u001b[0;34m(self)\u001b[0m\n\u001b[1;32m    279\u001b[0m \u001b[0;34m\u001b[0m\u001b[0m\n\u001b[1;32m    280\u001b[0m     \u001b[0;32mdef\u001b[0m \u001b[0m_read_status\u001b[0m\u001b[0;34m(\u001b[0m\u001b[0mself\u001b[0m\u001b[0;34m)\u001b[0m\u001b[0;34m:\u001b[0m\u001b[0;34m\u001b[0m\u001b[0;34m\u001b[0m\u001b[0m\n\u001b[0;32m--> 281\u001b[0;31m         \u001b[0mline\u001b[0m \u001b[0;34m=\u001b[0m \u001b[0mstr\u001b[0m\u001b[0;34m(\u001b[0m\u001b[0mself\u001b[0m\u001b[0;34m.\u001b[0m\u001b[0mfp\u001b[0m\u001b[0;34m.\u001b[0m\u001b[0mreadline\u001b[0m\u001b[0;34m(\u001b[0m\u001b[0m_MAXLINE\u001b[0m \u001b[0;34m+\u001b[0m \u001b[0;36m1\u001b[0m\u001b[0;34m)\u001b[0m\u001b[0;34m,\u001b[0m \u001b[0;34m\"iso-8859-1\"\u001b[0m\u001b[0;34m)\u001b[0m\u001b[0;34m\u001b[0m\u001b[0;34m\u001b[0m\u001b[0m\n\u001b[0m\u001b[1;32m    282\u001b[0m         \u001b[0;32mif\u001b[0m \u001b[0mlen\u001b[0m\u001b[0;34m(\u001b[0m\u001b[0mline\u001b[0m\u001b[0;34m)\u001b[0m \u001b[0;34m>\u001b[0m \u001b[0m_MAXLINE\u001b[0m\u001b[0;34m:\u001b[0m\u001b[0;34m\u001b[0m\u001b[0;34m\u001b[0m\u001b[0m\n\u001b[1;32m    283\u001b[0m             \u001b[0;32mraise\u001b[0m \u001b[0mLineTooLong\u001b[0m\u001b[0;34m(\u001b[0m\u001b[0;34m\"status line\"\u001b[0m\u001b[0;34m)\u001b[0m\u001b[0;34m\u001b[0m\u001b[0;34m\u001b[0m\u001b[0m\n",
            "\u001b[0;32m/usr/lib/python3.9/socket.py\u001b[0m in \u001b[0;36mreadinto\u001b[0;34m(self, b)\u001b[0m\n\u001b[1;32m    702\u001b[0m         \u001b[0;32mwhile\u001b[0m \u001b[0;32mTrue\u001b[0m\u001b[0;34m:\u001b[0m\u001b[0;34m\u001b[0m\u001b[0;34m\u001b[0m\u001b[0m\n\u001b[1;32m    703\u001b[0m             \u001b[0;32mtry\u001b[0m\u001b[0;34m:\u001b[0m\u001b[0;34m\u001b[0m\u001b[0;34m\u001b[0m\u001b[0m\n\u001b[0;32m--> 704\u001b[0;31m                 \u001b[0;32mreturn\u001b[0m \u001b[0mself\u001b[0m\u001b[0;34m.\u001b[0m\u001b[0m_sock\u001b[0m\u001b[0;34m.\u001b[0m\u001b[0mrecv_into\u001b[0m\u001b[0;34m(\u001b[0m\u001b[0mb\u001b[0m\u001b[0;34m)\u001b[0m\u001b[0;34m\u001b[0m\u001b[0;34m\u001b[0m\u001b[0m\n\u001b[0m\u001b[1;32m    705\u001b[0m             \u001b[0;32mexcept\u001b[0m \u001b[0mtimeout\u001b[0m\u001b[0;34m:\u001b[0m\u001b[0;34m\u001b[0m\u001b[0;34m\u001b[0m\u001b[0m\n\u001b[1;32m    706\u001b[0m                 \u001b[0mself\u001b[0m\u001b[0;34m.\u001b[0m\u001b[0m_timeout_occurred\u001b[0m \u001b[0;34m=\u001b[0m \u001b[0;32mTrue\u001b[0m\u001b[0;34m\u001b[0m\u001b[0;34m\u001b[0m\u001b[0m\n",
            "\u001b[0;32m/usr/lib/python3.9/ssl.py\u001b[0m in \u001b[0;36mrecv_into\u001b[0;34m(self, buffer, nbytes, flags)\u001b[0m\n\u001b[1;32m   1240\u001b[0m                   \u001b[0;34m\"non-zero flags not allowed in calls to recv_into() on %s\"\u001b[0m \u001b[0;34m%\u001b[0m\u001b[0;34m\u001b[0m\u001b[0;34m\u001b[0m\u001b[0m\n\u001b[1;32m   1241\u001b[0m                   self.__class__)\n\u001b[0;32m-> 1242\u001b[0;31m             \u001b[0;32mreturn\u001b[0m \u001b[0mself\u001b[0m\u001b[0;34m.\u001b[0m\u001b[0mread\u001b[0m\u001b[0;34m(\u001b[0m\u001b[0mnbytes\u001b[0m\u001b[0;34m,\u001b[0m \u001b[0mbuffer\u001b[0m\u001b[0;34m)\u001b[0m\u001b[0;34m\u001b[0m\u001b[0;34m\u001b[0m\u001b[0m\n\u001b[0m\u001b[1;32m   1243\u001b[0m         \u001b[0;32melse\u001b[0m\u001b[0;34m:\u001b[0m\u001b[0;34m\u001b[0m\u001b[0;34m\u001b[0m\u001b[0m\n\u001b[1;32m   1244\u001b[0m             \u001b[0;32mreturn\u001b[0m \u001b[0msuper\u001b[0m\u001b[0;34m(\u001b[0m\u001b[0;34m)\u001b[0m\u001b[0;34m.\u001b[0m\u001b[0mrecv_into\u001b[0m\u001b[0;34m(\u001b[0m\u001b[0mbuffer\u001b[0m\u001b[0;34m,\u001b[0m \u001b[0mnbytes\u001b[0m\u001b[0;34m,\u001b[0m \u001b[0mflags\u001b[0m\u001b[0;34m)\u001b[0m\u001b[0;34m\u001b[0m\u001b[0;34m\u001b[0m\u001b[0m\n",
            "\u001b[0;32m/usr/lib/python3.9/ssl.py\u001b[0m in \u001b[0;36mread\u001b[0;34m(self, len, buffer)\u001b[0m\n\u001b[1;32m   1098\u001b[0m         \u001b[0;32mtry\u001b[0m\u001b[0;34m:\u001b[0m\u001b[0;34m\u001b[0m\u001b[0;34m\u001b[0m\u001b[0m\n\u001b[1;32m   1099\u001b[0m             \u001b[0;32mif\u001b[0m \u001b[0mbuffer\u001b[0m \u001b[0;32mis\u001b[0m \u001b[0;32mnot\u001b[0m \u001b[0;32mNone\u001b[0m\u001b[0;34m:\u001b[0m\u001b[0;34m\u001b[0m\u001b[0;34m\u001b[0m\u001b[0m\n\u001b[0;32m-> 1100\u001b[0;31m                 \u001b[0;32mreturn\u001b[0m \u001b[0mself\u001b[0m\u001b[0;34m.\u001b[0m\u001b[0m_sslobj\u001b[0m\u001b[0;34m.\u001b[0m\u001b[0mread\u001b[0m\u001b[0;34m(\u001b[0m\u001b[0mlen\u001b[0m\u001b[0;34m,\u001b[0m \u001b[0mbuffer\u001b[0m\u001b[0;34m)\u001b[0m\u001b[0;34m\u001b[0m\u001b[0;34m\u001b[0m\u001b[0m\n\u001b[0m\u001b[1;32m   1101\u001b[0m             \u001b[0;32melse\u001b[0m\u001b[0;34m:\u001b[0m\u001b[0;34m\u001b[0m\u001b[0;34m\u001b[0m\u001b[0m\n\u001b[1;32m   1102\u001b[0m                 \u001b[0;32mreturn\u001b[0m \u001b[0mself\u001b[0m\u001b[0;34m.\u001b[0m\u001b[0m_sslobj\u001b[0m\u001b[0;34m.\u001b[0m\u001b[0mread\u001b[0m\u001b[0;34m(\u001b[0m\u001b[0mlen\u001b[0m\u001b[0;34m)\u001b[0m\u001b[0;34m\u001b[0m\u001b[0;34m\u001b[0m\u001b[0m\n",
            "\u001b[0;31mKeyboardInterrupt\u001b[0m: "
          ]
        }
      ],
      "source": [
        "import urllib.request\n",
        "\n",
        "\n",
        "# loop through the image URLs and download each one\n",
        "for i,url in enumerate(image_list):\n",
        "    try:\n",
        "        # open the URL image\n",
        "        with urllib.request.urlopen(url) as url_image:\n",
        "            # read the image data\n",
        "            image_data = url_image.read()\n",
        "        \n",
        "        # get the file name from the URL\n",
        "        file_name = url.split('/')[-1]\n",
        "        \n",
        "        # write the image data to a file\n",
        "        with open(\"/content/drive/MyDrive/GroupProject/Images/\"+file_name, 'wb') as f:\n",
        "            f.write(image_data)\n",
        "            print('Downloaded', file_name)\n",
        "        file_name = file_name.split(\".\")[0]\n",
        "        with open(\"/content/drive/MyDrive/GroupProject/Comment/\"+file_name+\".txt\", 'w') as f:\n",
        "            f.write(captions_list[i]+\"\\n\")\n",
        "            f.writelines(comments_list[i])\n",
        "            print(\"Written \", file_name)\n",
        "    except Exception as e:\n",
        "        print('download', e)\n",
        "        image_list.pop(i)\n",
        "        comments_list.pop(i)\n",
        "        captions_list.pop(i)\n",
        "        print(i)\n"
      ]
    },
    {
      "cell_type": "markdown",
      "metadata": {
        "id": "rtLshOHRrxjl"
      },
      "source": [
        "##For Analyzing the Captions and Comments"
      ]
    },
    {
      "cell_type": "code",
      "execution_count": null,
      "metadata": {
        "colab": {
          "base_uri": "https://localhost:8080/"
        },
        "id": "fJsSNEwFbw_q",
        "outputId": "266f1442-af9f-496a-bd58-811648151476"
      },
      "outputs": [
        {
          "name": "stdout",
          "output_type": "stream",
          "text": [
            "Looking in indexes: https://pypi.org/simple, https://us-python.pkg.dev/colab-wheels/public/simple/\n",
            "Collecting pysentimiento\n",
            "  Downloading pysentimiento-0.6.7-py3-none-any.whl (38 kB)\n",
            "Collecting torch<2.0.0,>=1.13.1\n",
            "  Downloading torch-1.13.1-cp39-cp39-manylinux1_x86_64.whl (887.4 MB)\n",
            "\u001b[2K     \u001b[90m━━━━━━━━━━━━━━━━━━━━━━━━━━━━━━━━━━━━━━━\u001b[0m \u001b[32m887.4/887.4 MB\u001b[0m \u001b[31m1.5 MB/s\u001b[0m eta \u001b[36m0:00:00\u001b[0m\n",
            "\u001b[?25hCollecting datasets>=1.13.3\n",
            "  Downloading datasets-2.11.0-py3-none-any.whl (468 kB)\n",
            "\u001b[2K     \u001b[90m━━━━━━━━━━━━━━━━━━━━━━━━━━━━━━━━━━━━━━\u001b[0m \u001b[32m468.7/468.7 kB\u001b[0m \u001b[31m37.0 MB/s\u001b[0m eta \u001b[36m0:00:00\u001b[0m\n",
            "\u001b[?25hRequirement already satisfied: spacy<4.0.0,>=3.5.0 in /usr/local/lib/python3.9/dist-packages (from pysentimiento) (3.5.1)\n",
            "Collecting emoji<2.0.0,>=1.6.1\n",
            "  Downloading emoji-1.7.0.tar.gz (175 kB)\n",
            "\u001b[2K     \u001b[90m━━━━━━━━━━━━━━━━━━━━━━━━━━━━━━━━━━━━━━\u001b[0m \u001b[32m175.4/175.4 kB\u001b[0m \u001b[31m21.0 MB/s\u001b[0m eta \u001b[36m0:00:00\u001b[0m\n",
            "\u001b[?25h  Preparing metadata (setup.py) ... \u001b[?25l\u001b[?25hdone\n",
            "Collecting transformers>=4.13.0\n",
            "  Downloading transformers-4.28.1-py3-none-any.whl (7.0 MB)\n",
            "\u001b[2K     \u001b[90m━━━━━━━━━━━━━━━━━━━━━━━━━━━━━━━━━━━━━━━━\u001b[0m \u001b[32m7.0/7.0 MB\u001b[0m \u001b[31m74.4 MB/s\u001b[0m eta \u001b[36m0:00:00\u001b[0m\n",
            "\u001b[?25hRequirement already satisfied: requests>=2.19.0 in /usr/local/lib/python3.9/dist-packages (from datasets>=1.13.3->pysentimiento) (2.27.1)\n",
            "Requirement already satisfied: numpy>=1.17 in /usr/local/lib/python3.9/dist-packages (from datasets>=1.13.3->pysentimiento) (1.22.4)\n",
            "Requirement already satisfied: pyarrow>=8.0.0 in /usr/local/lib/python3.9/dist-packages (from datasets>=1.13.3->pysentimiento) (9.0.0)\n",
            "Requirement already satisfied: tqdm>=4.62.1 in /usr/local/lib/python3.9/dist-packages (from datasets>=1.13.3->pysentimiento) (4.65.0)\n",
            "Requirement already satisfied: packaging in /usr/local/lib/python3.9/dist-packages (from datasets>=1.13.3->pysentimiento) (23.0)\n",
            "Requirement already satisfied: pandas in /usr/local/lib/python3.9/dist-packages (from datasets>=1.13.3->pysentimiento) (1.5.3)\n",
            "Collecting dill<0.3.7,>=0.3.0\n",
            "  Downloading dill-0.3.6-py3-none-any.whl (110 kB)\n",
            "\u001b[2K     \u001b[90m━━━━━━━━━━━━━━━━━━━━━━━━━━━━━━━━━━━━━━\u001b[0m \u001b[32m110.5/110.5 kB\u001b[0m \u001b[31m12.2 MB/s\u001b[0m eta \u001b[36m0:00:00\u001b[0m\n",
            "\u001b[?25hCollecting multiprocess\n",
            "  Downloading multiprocess-0.70.14-py39-none-any.whl (132 kB)\n",
            "\u001b[2K     \u001b[90m━━━━━━━━━━━━━━━━━━━━━━━━━━━━━━━━━━━━━━\u001b[0m \u001b[32m132.9/132.9 kB\u001b[0m \u001b[31m14.0 MB/s\u001b[0m eta \u001b[36m0:00:00\u001b[0m\n",
            "\u001b[?25hCollecting huggingface-hub<1.0.0,>=0.11.0\n",
            "  Downloading huggingface_hub-0.13.4-py3-none-any.whl (200 kB)\n",
            "\u001b[2K     \u001b[90m━━━━━━━━━━━━━━━━━━━━━━━━━━━━━━━━━━━━━━\u001b[0m \u001b[32m200.1/200.1 kB\u001b[0m \u001b[31m16.1 MB/s\u001b[0m eta \u001b[36m0:00:00\u001b[0m\n",
            "\u001b[?25hRequirement already satisfied: pyyaml>=5.1 in /usr/local/lib/python3.9/dist-packages (from datasets>=1.13.3->pysentimiento) (6.0)\n",
            "Collecting xxhash\n",
            "  Downloading xxhash-3.2.0-cp39-cp39-manylinux_2_17_x86_64.manylinux2014_x86_64.whl (212 kB)\n",
            "\u001b[2K     \u001b[90m━━━━━━━━━━━━━━━━━━━━━━━━━━━━━━━━━━━━━━\u001b[0m \u001b[32m212.2/212.2 kB\u001b[0m \u001b[31m20.6 MB/s\u001b[0m eta \u001b[36m0:00:00\u001b[0m\n",
            "\u001b[?25hCollecting responses<0.19\n",
            "  Downloading responses-0.18.0-py3-none-any.whl (38 kB)\n",
            "Collecting aiohttp\n",
            "  Downloading aiohttp-3.8.4-cp39-cp39-manylinux_2_17_x86_64.manylinux2014_x86_64.whl (1.0 MB)\n",
            "\u001b[2K     \u001b[90m━━━━━━━━━━━━━━━━━━━━━━━━━━━━━━━━━━━━━━━━\u001b[0m \u001b[32m1.0/1.0 MB\u001b[0m \u001b[31m51.4 MB/s\u001b[0m eta \u001b[36m0:00:00\u001b[0m\n",
            "\u001b[?25hRequirement already satisfied: fsspec[http]>=2021.11.1 in /usr/local/lib/python3.9/dist-packages (from datasets>=1.13.3->pysentimiento) (2023.4.0)\n",
            "Requirement already satisfied: thinc<8.2.0,>=8.1.8 in /usr/local/lib/python3.9/dist-packages (from spacy<4.0.0,>=3.5.0->pysentimiento) (8.1.9)\n",
            "Requirement already satisfied: preshed<3.1.0,>=3.0.2 in /usr/local/lib/python3.9/dist-packages (from spacy<4.0.0,>=3.5.0->pysentimiento) (3.0.8)\n",
            "Requirement already satisfied: murmurhash<1.1.0,>=0.28.0 in /usr/local/lib/python3.9/dist-packages (from spacy<4.0.0,>=3.5.0->pysentimiento) (1.0.9)\n",
            "Requirement already satisfied: smart-open<7.0.0,>=5.2.1 in /usr/local/lib/python3.9/dist-packages (from spacy<4.0.0,>=3.5.0->pysentimiento) (6.3.0)\n",
            "Requirement already satisfied: pathy>=0.10.0 in /usr/local/lib/python3.9/dist-packages (from spacy<4.0.0,>=3.5.0->pysentimiento) (0.10.1)\n",
            "Requirement already satisfied: catalogue<2.1.0,>=2.0.6 in /usr/local/lib/python3.9/dist-packages (from spacy<4.0.0,>=3.5.0->pysentimiento) (2.0.8)\n",
            "Requirement already satisfied: spacy-legacy<3.1.0,>=3.0.11 in /usr/local/lib/python3.9/dist-packages (from spacy<4.0.0,>=3.5.0->pysentimiento) (3.0.12)\n",
            "Requirement already satisfied: wasabi<1.2.0,>=0.9.1 in /usr/local/lib/python3.9/dist-packages (from spacy<4.0.0,>=3.5.0->pysentimiento) (1.1.1)\n",
            "Requirement already satisfied: spacy-loggers<2.0.0,>=1.0.0 in /usr/local/lib/python3.9/dist-packages (from spacy<4.0.0,>=3.5.0->pysentimiento) (1.0.4)\n",
            "Requirement already satisfied: typer<0.8.0,>=0.3.0 in /usr/local/lib/python3.9/dist-packages (from spacy<4.0.0,>=3.5.0->pysentimiento) (0.7.0)\n",
            "Requirement already satisfied: srsly<3.0.0,>=2.4.3 in /usr/local/lib/python3.9/dist-packages (from spacy<4.0.0,>=3.5.0->pysentimiento) (2.4.6)\n",
            "Requirement already satisfied: pydantic!=1.8,!=1.8.1,<1.11.0,>=1.7.4 in /usr/local/lib/python3.9/dist-packages (from spacy<4.0.0,>=3.5.0->pysentimiento) (1.10.7)\n",
            "Requirement already satisfied: jinja2 in /usr/local/lib/python3.9/dist-packages (from spacy<4.0.0,>=3.5.0->pysentimiento) (3.1.2)\n",
            "Requirement already satisfied: setuptools in /usr/local/lib/python3.9/dist-packages (from spacy<4.0.0,>=3.5.0->pysentimiento) (67.6.1)\n",
            "Requirement already satisfied: cymem<2.1.0,>=2.0.2 in /usr/local/lib/python3.9/dist-packages (from spacy<4.0.0,>=3.5.0->pysentimiento) (2.0.7)\n",
            "Requirement already satisfied: langcodes<4.0.0,>=3.2.0 in /usr/local/lib/python3.9/dist-packages (from spacy<4.0.0,>=3.5.0->pysentimiento) (3.3.0)\n",
            "Collecting nvidia-cuda-runtime-cu11==11.7.99\n",
            "  Downloading nvidia_cuda_runtime_cu11-11.7.99-py3-none-manylinux1_x86_64.whl (849 kB)\n",
            "\u001b[2K     \u001b[90m━━━━━━━━━━━━━━━━━━━━━━━━━━━━━━━━━━━━━━\u001b[0m \u001b[32m849.3/849.3 kB\u001b[0m \u001b[31m49.3 MB/s\u001b[0m eta \u001b[36m0:00:00\u001b[0m\n",
            "\u001b[?25hCollecting nvidia-cublas-cu11==11.10.3.66\n",
            "  Downloading nvidia_cublas_cu11-11.10.3.66-py3-none-manylinux1_x86_64.whl (317.1 MB)\n",
            "\u001b[2K     \u001b[90m━━━━━━━━━━━━━━━━━━━━━━━━━━━━━━━━━━━━━━━\u001b[0m \u001b[32m317.1/317.1 MB\u001b[0m \u001b[31m4.1 MB/s\u001b[0m eta \u001b[36m0:00:00\u001b[0m\n",
            "\u001b[?25hRequirement already satisfied: typing-extensions in /usr/local/lib/python3.9/dist-packages (from torch<2.0.0,>=1.13.1->pysentimiento) (4.5.0)\n",
            "Collecting nvidia-cudnn-cu11==8.5.0.96\n",
            "  Downloading nvidia_cudnn_cu11-8.5.0.96-2-py3-none-manylinux1_x86_64.whl (557.1 MB)\n",
            "\u001b[2K     \u001b[90m━━━━━━━━━━━━━━━━━━━━━━━━━━━━━━━━━━━━━━━\u001b[0m \u001b[32m557.1/557.1 MB\u001b[0m \u001b[31m2.4 MB/s\u001b[0m eta \u001b[36m0:00:00\u001b[0m\n",
            "\u001b[?25hCollecting nvidia-cuda-nvrtc-cu11==11.7.99\n",
            "  Downloading nvidia_cuda_nvrtc_cu11-11.7.99-2-py3-none-manylinux1_x86_64.whl (21.0 MB)\n",
            "\u001b[2K     \u001b[90m━━━━━━━━━━━━━━━━━━━━━━━━━━━━━━━━━━━━━━━━\u001b[0m \u001b[32m21.0/21.0 MB\u001b[0m \u001b[31m59.2 MB/s\u001b[0m eta \u001b[36m0:00:00\u001b[0m\n",
            "\u001b[?25hRequirement already satisfied: wheel in /usr/local/lib/python3.9/dist-packages (from nvidia-cublas-cu11==11.10.3.66->torch<2.0.0,>=1.13.1->pysentimiento) (0.40.0)\n",
            "Requirement already satisfied: regex!=2019.12.17 in /usr/local/lib/python3.9/dist-packages (from transformers>=4.13.0->pysentimiento) (2022.10.31)\n",
            "Collecting tokenizers!=0.11.3,<0.14,>=0.11.1\n",
            "  Downloading tokenizers-0.13.3-cp39-cp39-manylinux_2_17_x86_64.manylinux2014_x86_64.whl (7.8 MB)\n",
            "\u001b[2K     \u001b[90m━━━━━━━━━━━━━━━━━━━━━━━━━━━━━━━━━━━━━━━━\u001b[0m \u001b[32m7.8/7.8 MB\u001b[0m \u001b[31m80.8 MB/s\u001b[0m eta \u001b[36m0:00:00\u001b[0m\n",
            "\u001b[?25hRequirement already satisfied: filelock in /usr/local/lib/python3.9/dist-packages (from transformers>=4.13.0->pysentimiento) (3.11.0)\n",
            "Collecting yarl<2.0,>=1.0\n",
            "  Downloading yarl-1.8.2-cp39-cp39-manylinux_2_17_x86_64.manylinux2014_x86_64.whl (264 kB)\n",
            "\u001b[2K     \u001b[90m━━━━━━━━━━━━━━━━━━━━━━━━━━━━━━━━━━━━━━\u001b[0m \u001b[32m264.6/264.6 kB\u001b[0m \u001b[31m28.0 MB/s\u001b[0m eta \u001b[36m0:00:00\u001b[0m\n",
            "\u001b[?25hCollecting aiosignal>=1.1.2\n",
            "  Downloading aiosignal-1.3.1-py3-none-any.whl (7.6 kB)\n",
            "Collecting frozenlist>=1.1.1\n",
            "  Downloading frozenlist-1.3.3-cp39-cp39-manylinux_2_5_x86_64.manylinux1_x86_64.manylinux_2_17_x86_64.manylinux2014_x86_64.whl (158 kB)\n",
            "\u001b[2K     \u001b[90m━━━━━━━━━━━━━━━━━━━━━━━━━━━━━━━━━━━━━━\u001b[0m \u001b[32m158.8/158.8 kB\u001b[0m \u001b[31m19.0 MB/s\u001b[0m eta \u001b[36m0:00:00\u001b[0m\n",
            "\u001b[?25hRequirement already satisfied: attrs>=17.3.0 in /usr/local/lib/python3.9/dist-packages (from aiohttp->datasets>=1.13.3->pysentimiento) (22.2.0)\n",
            "Collecting multidict<7.0,>=4.5\n",
            "  Downloading multidict-6.0.4-cp39-cp39-manylinux_2_17_x86_64.manylinux2014_x86_64.whl (114 kB)\n",
            "\u001b[2K     \u001b[90m━━━━━━━━━━━━━━━━━━━━━━━━━━━━━━━━━━━━━━\u001b[0m \u001b[32m114.2/114.2 kB\u001b[0m \u001b[31m14.0 MB/s\u001b[0m eta \u001b[36m0:00:00\u001b[0m\n",
            "\u001b[?25hCollecting async-timeout<5.0,>=4.0.0a3\n",
            "  Downloading async_timeout-4.0.2-py3-none-any.whl (5.8 kB)\n",
            "Requirement already satisfied: charset-normalizer<4.0,>=2.0 in /usr/local/lib/python3.9/dist-packages (from aiohttp->datasets>=1.13.3->pysentimiento) (2.0.12)\n",
            "Requirement already satisfied: idna<4,>=2.5 in /usr/local/lib/python3.9/dist-packages (from requests>=2.19.0->datasets>=1.13.3->pysentimiento) (3.4)\n",
            "Requirement already satisfied: urllib3<1.27,>=1.21.1 in /usr/local/lib/python3.9/dist-packages (from requests>=2.19.0->datasets>=1.13.3->pysentimiento) (1.26.15)\n",
            "Requirement already satisfied: certifi>=2017.4.17 in /usr/local/lib/python3.9/dist-packages (from requests>=2.19.0->datasets>=1.13.3->pysentimiento) (2022.12.7)\n",
            "Requirement already satisfied: confection<1.0.0,>=0.0.1 in /usr/local/lib/python3.9/dist-packages (from thinc<8.2.0,>=8.1.8->spacy<4.0.0,>=3.5.0->pysentimiento) (0.0.4)\n",
            "Requirement already satisfied: blis<0.8.0,>=0.7.8 in /usr/local/lib/python3.9/dist-packages (from thinc<8.2.0,>=8.1.8->spacy<4.0.0,>=3.5.0->pysentimiento) (0.7.9)\n",
            "Requirement already satisfied: click<9.0.0,>=7.1.1 in /usr/local/lib/python3.9/dist-packages (from typer<0.8.0,>=0.3.0->spacy<4.0.0,>=3.5.0->pysentimiento) (8.1.3)\n",
            "Requirement already satisfied: MarkupSafe>=2.0 in /usr/local/lib/python3.9/dist-packages (from jinja2->spacy<4.0.0,>=3.5.0->pysentimiento) (2.1.2)\n",
            "Requirement already satisfied: python-dateutil>=2.8.1 in /usr/local/lib/python3.9/dist-packages (from pandas->datasets>=1.13.3->pysentimiento) (2.8.2)\n",
            "Requirement already satisfied: pytz>=2020.1 in /usr/local/lib/python3.9/dist-packages (from pandas->datasets>=1.13.3->pysentimiento) (2022.7.1)\n",
            "Requirement already satisfied: six>=1.5 in /usr/local/lib/python3.9/dist-packages (from python-dateutil>=2.8.1->pandas->datasets>=1.13.3->pysentimiento) (1.16.0)\n",
            "Building wheels for collected packages: emoji\n",
            "  Building wheel for emoji (setup.py) ... \u001b[?25l\u001b[?25hdone\n",
            "  Created wheel for emoji: filename=emoji-1.7.0-py3-none-any.whl size=171048 sha256=9c21b8f968887b82c1e3a172cc73338c7d596efd27e785210a2b287fedd61af0\n",
            "  Stored in directory: /root/.cache/pip/wheels/fa/7a/e9/22dd0515e1bad255e51663ee513a2fa839c95934c5fc301090\n",
            "Successfully built emoji\n",
            "Installing collected packages: tokenizers, emoji, xxhash, nvidia-cuda-runtime-cu11, nvidia-cuda-nvrtc-cu11, nvidia-cublas-cu11, multidict, frozenlist, dill, async-timeout, yarl, responses, nvidia-cudnn-cu11, multiprocess, huggingface-hub, aiosignal, transformers, torch, aiohttp, datasets, pysentimiento\n",
            "  Attempting uninstall: torch\n",
            "    Found existing installation: torch 2.0.0+cu118\n",
            "    Uninstalling torch-2.0.0+cu118:\n",
            "      Successfully uninstalled torch-2.0.0+cu118\n",
            "\u001b[31mERROR: pip's dependency resolver does not currently take into account all the packages that are installed. This behaviour is the source of the following dependency conflicts.\n",
            "torchvision 0.15.1+cu118 requires torch==2.0.0, but you have torch 1.13.1 which is incompatible.\n",
            "torchtext 0.15.1 requires torch==2.0.0, but you have torch 1.13.1 which is incompatible.\n",
            "torchdata 0.6.0 requires torch==2.0.0, but you have torch 1.13.1 which is incompatible.\n",
            "torchaudio 2.0.1+cu118 requires torch==2.0.0, but you have torch 1.13.1 which is incompatible.\u001b[0m\u001b[31m\n",
            "\u001b[0mSuccessfully installed aiohttp-3.8.4 aiosignal-1.3.1 async-timeout-4.0.2 datasets-2.11.0 dill-0.3.6 emoji-1.7.0 frozenlist-1.3.3 huggingface-hub-0.13.4 multidict-6.0.4 multiprocess-0.70.14 nvidia-cublas-cu11-11.10.3.66 nvidia-cuda-nvrtc-cu11-11.7.99 nvidia-cuda-runtime-cu11-11.7.99 nvidia-cudnn-cu11-8.5.0.96 pysentimiento-0.6.7 responses-0.18.0 tokenizers-0.13.3 torch-1.13.1 transformers-4.28.1 xxhash-3.2.0 yarl-1.8.2\n"
          ]
        }
      ],
      "source": [
        "!pip install pysentimiento\n",
        "from pysentimiento import create_analyzer"
      ]
    },
    {
      "cell_type": "code",
      "execution_count": null,
      "metadata": {
        "colab": {
          "base_uri": "https://localhost:8080/",
          "height": 177,
          "referenced_widgets": [
            "f64c522dc4ce417dbe23146f12d4995e",
            "34afc2c1177641feb461c14ee947e009",
            "adfbee39593c4c93aa1a0931839ca935",
            "17c14f25657444c8aa44add2efbd0af3",
            "8355a772532a4e0a9c93160117271ae8",
            "08ecc52c1ee8415bac2de779693a1ac3",
            "0ad30f2cd260462fbcd114f69aa77b7e",
            "b95f2f4892a84d408bd489931a171560",
            "edc9009781e54ee8a78c5897ad6281f3",
            "0a83c61e793c4ee78f6ccc1c1e03211a",
            "031f0f34ce1343f9a78a28c6cde50ccb",
            "89a661691dd647d2bb24fb77b835c788",
            "748a12e27f5b4aa18d73a2927f005ca8",
            "6467dd726d52463eae01b895b28689af",
            "b47299d10d7540bd9e391a4eac20b5b7",
            "dd9178305e334ae38459ef531896d5b5",
            "ba5bc2624cf04f828b960e0989efe4ba",
            "4bd8b3744ddc46df96e81592decacc2a",
            "6af5b25a72074d9a9368ebab721151e3",
            "e5deb29e45524628ba66ec049ef03043",
            "d9d216fccd364cd18ae8d90fe7ffee0f",
            "305e0259385046368996f8cd1045f375",
            "81b8391842c2413ca1a36d202323b960",
            "ba26d58b5fb242109757974492d0cbd1",
            "2644e473994042669be22bcb71c6b032",
            "ea1bdf34b6654c3fa568de17a927eab9",
            "3509afc7a38643aab5b39fd2a2069953",
            "966b9e9567be4e0b8194e9400e719963",
            "d874b8a97562440294747b6aa0606b74",
            "677ac5582e1649009c44677fe9c0173b",
            "89043fa64070411494b6553fd66bafc5",
            "4d300fb61a4242a5b578aa2dc4dd5176",
            "254ea08665d54583a9fb21553cd42493",
            "cfe391d0825a4edcbdfecf5d6806f597",
            "34556f2466de451690b61ea7c7ad8e24",
            "c8a555f0f0e348b18e32274a597066f8",
            "64496185b0c34a3e8aa2a3ecae7ec251",
            "b54c51de0a1c45c0b0914b115e7fb698",
            "429f9b83a9144137a15535401c428820",
            "ad77aed2560d49d297a5392c1aa6a856",
            "6104122c3e78420286115d0ada27d046",
            "0463f8015901443486ed641112d497c6",
            "c01dbaa395fb4a768f04d3fdd1752e77",
            "05995d5d49df4ae38b151dde6f2d0bfc",
            "e381908a6a43413c8e6f0aab529a0733",
            "6b6143a3c4384a4aacddaca1ea741a28",
            "5df06aa4d0f64349ae4bcc096a518aa0",
            "e00eacabe5ac4171bfb0599f81d01c8e",
            "b5b59881711647bc87f0eb1e8d353be9",
            "c27bfae6c169426f8ea409c4fd05f8c6",
            "7fbb6adb3ea140918823dc6e70ef7c37",
            "edec04d4027d4da58c28d1de65c0e99b",
            "65f92bd3f84744b1b79d49bc2d8d8663",
            "6d6af41d14514cef99687b6a7b9a40e7",
            "2288bb8e5a93467886c6a6090ecad0e4"
          ]
        },
        "id": "vVi2ICX8Lf4D",
        "outputId": "4d516559-ba6a-4b71-c6b6-be754f64d9e1"
      },
      "outputs": [
        {
          "data": {
            "application/vnd.jupyter.widget-view+json": {
              "model_id": "f64c522dc4ce417dbe23146f12d4995e",
              "version_major": 2,
              "version_minor": 0
            },
            "text/plain": [
              "Downloading (…)lve/main/config.json:   0%|          | 0.00/925 [00:00<?, ?B/s]"
            ]
          },
          "metadata": {},
          "output_type": "display_data"
        },
        {
          "data": {
            "application/vnd.jupyter.widget-view+json": {
              "model_id": "89a661691dd647d2bb24fb77b835c788",
              "version_major": 2,
              "version_minor": 0
            },
            "text/plain": [
              "Downloading pytorch_model.bin:   0%|          | 0.00/435M [00:00<?, ?B/s]"
            ]
          },
          "metadata": {},
          "output_type": "display_data"
        },
        {
          "data": {
            "application/vnd.jupyter.widget-view+json": {
              "model_id": "81b8391842c2413ca1a36d202323b960",
              "version_major": 2,
              "version_minor": 0
            },
            "text/plain": [
              "Downloading (…)okenizer_config.json:   0%|          | 0.00/384 [00:00<?, ?B/s]"
            ]
          },
          "metadata": {},
          "output_type": "display_data"
        },
        {
          "data": {
            "application/vnd.jupyter.widget-view+json": {
              "model_id": "cfe391d0825a4edcbdfecf5d6806f597",
              "version_major": 2,
              "version_minor": 0
            },
            "text/plain": [
              "Downloading (…)/main/tokenizer.json:   0%|          | 0.00/1.31M [00:00<?, ?B/s]"
            ]
          },
          "metadata": {},
          "output_type": "display_data"
        },
        {
          "data": {
            "application/vnd.jupyter.widget-view+json": {
              "model_id": "e381908a6a43413c8e6f0aab529a0733",
              "version_major": 2,
              "version_minor": 0
            },
            "text/plain": [
              "Downloading (…)cial_tokens_map.json:   0%|          | 0.00/167 [00:00<?, ?B/s]"
            ]
          },
          "metadata": {},
          "output_type": "display_data"
        }
      ],
      "source": [
        "\n",
        "bert= create_analyzer(task=\"sentiment\", lang=\"es\")\n",
        "data_analyzed = []\n",
        "\n",
        "for i,url in enumerate(image_list):\n",
        "  file_name = url.split('/')[-1]\n",
        "  file_name = file_name.split(\".\")[0]\n",
        "\n",
        "  for ii in comments_list[i]:\n",
        "    x = bert.predict(ii).probas\n",
        "    x[\"name\"] = file_name\n",
        "    data_analyzed.append(x)\n",
        "#print(data_analyzed)\n"
      ]
    },
    {
      "cell_type": "code",
      "execution_count": null,
      "metadata": {
        "id": "o-6TvuwR17-j"
      },
      "outputs": [],
      "source": [
        "for i,url in enumerate(image_list):\n",
        "  file_name = url.split('/')[-1]\n",
        "  file_name = file_name.split(\".\")[0]\n",
        "  x = bert.predict(captions_list[i]).probas\n",
        "  x[\"name\"] = file_name\n",
        "  data_analyzed.append(x)"
      ]
    },
    {
      "cell_type": "code",
      "execution_count": null,
      "metadata": {
        "id": "b1Qo6_c9cRVj"
      },
      "outputs": [],
      "source": [
        "with open(\"/content/drive/MyDrive/GroupProject/data.txt\" , \"w\") as w:\n",
        "  for wr in data_analyzed:\n",
        "    w.write(str(wr)+\"\\n\")"
      ]
    },
    {
      "cell_type": "code",
      "execution_count": null,
      "metadata": {
        "id": "pHOIpmj8qnHZ"
      },
      "outputs": [],
      "source": []
    },
    {
      "cell_type": "code",
      "execution_count": null,
      "metadata": {
        "id": "ouayq4nigya3"
      },
      "outputs": [],
      "source": [
        "data_processed = []\n",
        "for i,url in enumerate(image_list):\n",
        "  file_name = url.split('/')[-1]\n",
        "  file_name = file_name.split(\".\")[0]\n",
        "  neg,pos,neu = 0,0,0\n",
        "  c =0\n",
        "  for wr in data_analyzed:\n",
        "    if wr[\"name\"] == file_name:\n",
        "      neg+= wr[\"NEG\"]\n",
        "      neu+= wr[\"NEU\"]\n",
        "      pos+= wr[\"POS\"]\n",
        "      c+=1\n",
        "    else:\n",
        "      continue\n",
        "  neg,neu,pos =neg/c,neu/c,pos/c\n",
        "  data_processed.append((file_name,neg,neu,pos))\n",
        "\n"
      ]
    },
    {
      "cell_type": "code",
      "execution_count": null,
      "metadata": {
        "id": "n2qYvzeYzjGd"
      },
      "outputs": [],
      "source": [
        "csv = pd.DataFrame.from_records(data_processed)"
      ]
    },
    {
      "cell_type": "code",
      "execution_count": null,
      "metadata": {
        "colab": {
          "base_uri": "https://localhost:8080/",
          "height": 677
        },
        "id": "tAbrb_J_0Lr0",
        "outputId": "1b698786-4585-4f1f-a8f3-327b11d04358"
      },
      "outputs": [
        {
          "data": {
            "text/html": [
              "\n",
              "  <div id=\"df-0321044a-3bab-473e-9e76-9a405a17e376\">\n",
              "    <div class=\"colab-df-container\">\n",
              "      <div>\n",
              "<style scoped>\n",
              "    .dataframe tbody tr th:only-of-type {\n",
              "        vertical-align: middle;\n",
              "    }\n",
              "\n",
              "    .dataframe tbody tr th {\n",
              "        vertical-align: top;\n",
              "    }\n",
              "\n",
              "    .dataframe thead th {\n",
              "        text-align: right;\n",
              "    }\n",
              "</style>\n",
              "<table border=\"1\" class=\"dataframe\">\n",
              "  <thead>\n",
              "    <tr style=\"text-align: right;\">\n",
              "      <th></th>\n",
              "      <th>0</th>\n",
              "      <th>1</th>\n",
              "      <th>2</th>\n",
              "      <th>3</th>\n",
              "    </tr>\n",
              "  </thead>\n",
              "  <tbody>\n",
              "    <tr>\n",
              "      <th>0</th>\n",
              "      <td>6g0wuj582vka1</td>\n",
              "      <td>0.250963</td>\n",
              "      <td>0.292485</td>\n",
              "      <td>0.456552</td>\n",
              "    </tr>\n",
              "    <tr>\n",
              "      <th>1</th>\n",
              "      <td>n8knay8tweoa1</td>\n",
              "      <td>0.036581</td>\n",
              "      <td>0.204918</td>\n",
              "      <td>0.758501</td>\n",
              "    </tr>\n",
              "    <tr>\n",
              "      <th>2</th>\n",
              "      <td>3rExkHp</td>\n",
              "      <td>0.317653</td>\n",
              "      <td>0.245429</td>\n",
              "      <td>0.436918</td>\n",
              "    </tr>\n",
              "    <tr>\n",
              "      <th>3</th>\n",
              "      <td>xoostvr1ieoa1</td>\n",
              "      <td>0.090610</td>\n",
              "      <td>0.298218</td>\n",
              "      <td>0.611172</td>\n",
              "    </tr>\n",
              "    <tr>\n",
              "      <th>4</th>\n",
              "      <td>07ab0z57x4ca1</td>\n",
              "      <td>0.064360</td>\n",
              "      <td>0.301792</td>\n",
              "      <td>0.633848</td>\n",
              "    </tr>\n",
              "    <tr>\n",
              "      <th>5</th>\n",
              "      <td>7qsulpwnhmga1</td>\n",
              "      <td>0.046095</td>\n",
              "      <td>0.295218</td>\n",
              "      <td>0.658687</td>\n",
              "    </tr>\n",
              "    <tr>\n",
              "      <th>6</th>\n",
              "      <td>kzgxatgzazfa1</td>\n",
              "      <td>0.122486</td>\n",
              "      <td>0.389407</td>\n",
              "      <td>0.488107</td>\n",
              "    </tr>\n",
              "    <tr>\n",
              "      <th>7</th>\n",
              "      <td>1japi49hlila1</td>\n",
              "      <td>0.172556</td>\n",
              "      <td>0.389075</td>\n",
              "      <td>0.438369</td>\n",
              "    </tr>\n",
              "    <tr>\n",
              "      <th>8</th>\n",
              "      <td>fck8pcu7upna1</td>\n",
              "      <td>0.037898</td>\n",
              "      <td>0.289731</td>\n",
              "      <td>0.672371</td>\n",
              "    </tr>\n",
              "    <tr>\n",
              "      <th>9</th>\n",
              "      <td>mj560j2pf0la1</td>\n",
              "      <td>0.478007</td>\n",
              "      <td>0.408734</td>\n",
              "      <td>0.113259</td>\n",
              "    </tr>\n",
              "    <tr>\n",
              "      <th>10</th>\n",
              "      <td>qyxvpghzwkha1</td>\n",
              "      <td>0.046715</td>\n",
              "      <td>0.318541</td>\n",
              "      <td>0.634743</td>\n",
              "    </tr>\n",
              "    <tr>\n",
              "      <th>11</th>\n",
              "      <td>bz45hee2i6oa1</td>\n",
              "      <td>0.022368</td>\n",
              "      <td>0.175123</td>\n",
              "      <td>0.802509</td>\n",
              "    </tr>\n",
              "    <tr>\n",
              "      <th>12</th>\n",
              "      <td>7zfpz587qfoa1</td>\n",
              "      <td>0.033748</td>\n",
              "      <td>0.243443</td>\n",
              "      <td>0.722809</td>\n",
              "    </tr>\n",
              "    <tr>\n",
              "      <th>13</th>\n",
              "      <td>d28gbbr5wdoa1</td>\n",
              "      <td>0.038951</td>\n",
              "      <td>0.238149</td>\n",
              "      <td>0.722900</td>\n",
              "    </tr>\n",
              "    <tr>\n",
              "      <th>14</th>\n",
              "      <td>z8ah1i8xz5oa1</td>\n",
              "      <td>0.079182</td>\n",
              "      <td>0.211477</td>\n",
              "      <td>0.709341</td>\n",
              "    </tr>\n",
              "    <tr>\n",
              "      <th>15</th>\n",
              "      <td>f832s5luicoa1</td>\n",
              "      <td>0.065717</td>\n",
              "      <td>0.374606</td>\n",
              "      <td>0.559676</td>\n",
              "    </tr>\n",
              "    <tr>\n",
              "      <th>16</th>\n",
              "      <td>4yxvefs7mcoa1</td>\n",
              "      <td>0.107724</td>\n",
              "      <td>0.629959</td>\n",
              "      <td>0.262317</td>\n",
              "    </tr>\n",
              "    <tr>\n",
              "      <th>17</th>\n",
              "      <td>kl1qbhfec9ga1</td>\n",
              "      <td>0.286573</td>\n",
              "      <td>0.425552</td>\n",
              "      <td>0.287875</td>\n",
              "    </tr>\n",
              "    <tr>\n",
              "      <th>18</th>\n",
              "      <td>fv079sn28uka1</td>\n",
              "      <td>0.067516</td>\n",
              "      <td>0.327005</td>\n",
              "      <td>0.605479</td>\n",
              "    </tr>\n",
              "    <tr>\n",
              "      <th>19</th>\n",
              "      <td>aechw18eczka1</td>\n",
              "      <td>0.044550</td>\n",
              "      <td>0.221765</td>\n",
              "      <td>0.733685</td>\n",
              "    </tr>\n",
              "  </tbody>\n",
              "</table>\n",
              "</div>\n",
              "      <button class=\"colab-df-convert\" onclick=\"convertToInteractive('df-0321044a-3bab-473e-9e76-9a405a17e376')\"\n",
              "              title=\"Convert this dataframe to an interactive table.\"\n",
              "              style=\"display:none;\">\n",
              "        \n",
              "  <svg xmlns=\"http://www.w3.org/2000/svg\" height=\"24px\"viewBox=\"0 0 24 24\"\n",
              "       width=\"24px\">\n",
              "    <path d=\"M0 0h24v24H0V0z\" fill=\"none\"/>\n",
              "    <path d=\"M18.56 5.44l.94 2.06.94-2.06 2.06-.94-2.06-.94-.94-2.06-.94 2.06-2.06.94zm-11 1L8.5 8.5l.94-2.06 2.06-.94-2.06-.94L8.5 2.5l-.94 2.06-2.06.94zm10 10l.94 2.06.94-2.06 2.06-.94-2.06-.94-.94-2.06-.94 2.06-2.06.94z\"/><path d=\"M17.41 7.96l-1.37-1.37c-.4-.4-.92-.59-1.43-.59-.52 0-1.04.2-1.43.59L10.3 9.45l-7.72 7.72c-.78.78-.78 2.05 0 2.83L4 21.41c.39.39.9.59 1.41.59.51 0 1.02-.2 1.41-.59l7.78-7.78 2.81-2.81c.8-.78.8-2.07 0-2.86zM5.41 20L4 18.59l7.72-7.72 1.47 1.35L5.41 20z\"/>\n",
              "  </svg>\n",
              "      </button>\n",
              "      \n",
              "  <style>\n",
              "    .colab-df-container {\n",
              "      display:flex;\n",
              "      flex-wrap:wrap;\n",
              "      gap: 12px;\n",
              "    }\n",
              "\n",
              "    .colab-df-convert {\n",
              "      background-color: #E8F0FE;\n",
              "      border: none;\n",
              "      border-radius: 50%;\n",
              "      cursor: pointer;\n",
              "      display: none;\n",
              "      fill: #1967D2;\n",
              "      height: 32px;\n",
              "      padding: 0 0 0 0;\n",
              "      width: 32px;\n",
              "    }\n",
              "\n",
              "    .colab-df-convert:hover {\n",
              "      background-color: #E2EBFA;\n",
              "      box-shadow: 0px 1px 2px rgba(60, 64, 67, 0.3), 0px 1px 3px 1px rgba(60, 64, 67, 0.15);\n",
              "      fill: #174EA6;\n",
              "    }\n",
              "\n",
              "    [theme=dark] .colab-df-convert {\n",
              "      background-color: #3B4455;\n",
              "      fill: #D2E3FC;\n",
              "    }\n",
              "\n",
              "    [theme=dark] .colab-df-convert:hover {\n",
              "      background-color: #434B5C;\n",
              "      box-shadow: 0px 1px 3px 1px rgba(0, 0, 0, 0.15);\n",
              "      filter: drop-shadow(0px 1px 2px rgba(0, 0, 0, 0.3));\n",
              "      fill: #FFFFFF;\n",
              "    }\n",
              "  </style>\n",
              "\n",
              "      <script>\n",
              "        const buttonEl =\n",
              "          document.querySelector('#df-0321044a-3bab-473e-9e76-9a405a17e376 button.colab-df-convert');\n",
              "        buttonEl.style.display =\n",
              "          google.colab.kernel.accessAllowed ? 'block' : 'none';\n",
              "\n",
              "        async function convertToInteractive(key) {\n",
              "          const element = document.querySelector('#df-0321044a-3bab-473e-9e76-9a405a17e376');\n",
              "          const dataTable =\n",
              "            await google.colab.kernel.invokeFunction('convertToInteractive',\n",
              "                                                     [key], {});\n",
              "          if (!dataTable) return;\n",
              "\n",
              "          const docLinkHtml = 'Like what you see? Visit the ' +\n",
              "            '<a target=\"_blank\" href=https://colab.research.google.com/notebooks/data_table.ipynb>data table notebook</a>'\n",
              "            + ' to learn more about interactive tables.';\n",
              "          element.innerHTML = '';\n",
              "          dataTable['output_type'] = 'display_data';\n",
              "          await google.colab.output.renderOutput(dataTable, element);\n",
              "          const docLink = document.createElement('div');\n",
              "          docLink.innerHTML = docLinkHtml;\n",
              "          element.appendChild(docLink);\n",
              "        }\n",
              "      </script>\n",
              "    </div>\n",
              "  </div>\n",
              "  "
            ],
            "text/plain": [
              "                0         1         2         3\n",
              "0   6g0wuj582vka1  0.250963  0.292485  0.456552\n",
              "1   n8knay8tweoa1  0.036581  0.204918  0.758501\n",
              "2         3rExkHp  0.317653  0.245429  0.436918\n",
              "3   xoostvr1ieoa1  0.090610  0.298218  0.611172\n",
              "4   07ab0z57x4ca1  0.064360  0.301792  0.633848\n",
              "5   7qsulpwnhmga1  0.046095  0.295218  0.658687\n",
              "6   kzgxatgzazfa1  0.122486  0.389407  0.488107\n",
              "7   1japi49hlila1  0.172556  0.389075  0.438369\n",
              "8   fck8pcu7upna1  0.037898  0.289731  0.672371\n",
              "9   mj560j2pf0la1  0.478007  0.408734  0.113259\n",
              "10  qyxvpghzwkha1  0.046715  0.318541  0.634743\n",
              "11  bz45hee2i6oa1  0.022368  0.175123  0.802509\n",
              "12  7zfpz587qfoa1  0.033748  0.243443  0.722809\n",
              "13  d28gbbr5wdoa1  0.038951  0.238149  0.722900\n",
              "14  z8ah1i8xz5oa1  0.079182  0.211477  0.709341\n",
              "15  f832s5luicoa1  0.065717  0.374606  0.559676\n",
              "16  4yxvefs7mcoa1  0.107724  0.629959  0.262317\n",
              "17  kl1qbhfec9ga1  0.286573  0.425552  0.287875\n",
              "18  fv079sn28uka1  0.067516  0.327005  0.605479\n",
              "19  aechw18eczka1  0.044550  0.221765  0.733685"
            ]
          },
          "execution_count": 52,
          "metadata": {},
          "output_type": "execute_result"
        }
      ],
      "source": [
        "csv.head(20)"
      ]
    },
    {
      "cell_type": "code",
      "execution_count": null,
      "metadata": {
        "id": "pMY4zYW0K8_j"
      },
      "outputs": [],
      "source": [
        "csv.to_csv(\"/content/drive/MyDrive/GroupProject/data_processed.csv\")"
      ]
    },
    {
      "cell_type": "markdown",
      "metadata": {
        "id": "6aqINtvAqKGI"
      },
      "source": [
        "## Data Processed with only Positive or Negative"
      ]
    },
    {
      "cell_type": "code",
      "execution_count": null,
      "metadata": {
        "id": "qXEGEgTQqJgr"
      },
      "outputs": [],
      "source": [
        "data_processed = []\n",
        "for i,url in enumerate(image_list):\n",
        "  file_name = url.split('/')[-1]\n",
        "  file_name = file_name.split(\".\")[0]\n",
        "  neg,pos,neu = 0,0,0\n",
        "  c =0\n",
        "  for wr in data_analyzed:\n",
        "    if wr[\"name\"] == file_name:\n",
        "      if wr[\"NEG\"] > wr[\"NEU\"] >wr[\"POS\"] :\n",
        "        neg +=1\n",
        "      elif  wr[\"NEG\"] < wr[\"NEU\"] <wr[\"POS\"] :\n",
        "        neu+= 1\n",
        "      else:\n",
        "        pos+= 1\n",
        "      c+=1\n",
        "    else:\n",
        "      continue\n",
        "  \n",
        "  neg,neu,pos =neg/c,neu/c,pos/c\n",
        "  data_processed.append((file_name,neg,neu,pos))\n",
        "\n"
      ]
    },
    {
      "cell_type": "code",
      "execution_count": null,
      "metadata": {
        "id": "U7EWuBYE5_nw"
      },
      "outputs": [],
      "source": [
        "csv = pd.DataFrame.from_records(data_processed)"
      ]
    },
    {
      "cell_type": "code",
      "execution_count": null,
      "metadata": {
        "colab": {
          "base_uri": "https://localhost:8080/",
          "height": 206
        },
        "id": "vl7kdYx96DVN",
        "outputId": "b9029ac6-3433-495d-8958-232f19366411"
      },
      "outputs": [
        {
          "data": {
            "text/html": [
              "\n",
              "  <div id=\"df-967795ab-f90e-4ec4-8be5-20d883900afc\">\n",
              "    <div class=\"colab-df-container\">\n",
              "      <div>\n",
              "<style scoped>\n",
              "    .dataframe tbody tr th:only-of-type {\n",
              "        vertical-align: middle;\n",
              "    }\n",
              "\n",
              "    .dataframe tbody tr th {\n",
              "        vertical-align: top;\n",
              "    }\n",
              "\n",
              "    .dataframe thead th {\n",
              "        text-align: right;\n",
              "    }\n",
              "</style>\n",
              "<table border=\"1\" class=\"dataframe\">\n",
              "  <thead>\n",
              "    <tr style=\"text-align: right;\">\n",
              "      <th></th>\n",
              "      <th>0</th>\n",
              "      <th>1</th>\n",
              "      <th>2</th>\n",
              "      <th>3</th>\n",
              "    </tr>\n",
              "  </thead>\n",
              "  <tbody>\n",
              "    <tr>\n",
              "      <th>0</th>\n",
              "      <td>q5hxiq9tljoa1</td>\n",
              "      <td>0.022222</td>\n",
              "      <td>0.711111</td>\n",
              "      <td>0.266667</td>\n",
              "    </tr>\n",
              "    <tr>\n",
              "      <th>1</th>\n",
              "      <td>6g0wuj582vka1</td>\n",
              "      <td>0.250000</td>\n",
              "      <td>0.535714</td>\n",
              "      <td>0.214286</td>\n",
              "    </tr>\n",
              "    <tr>\n",
              "      <th>2</th>\n",
              "      <td>i3uzxp5qe7ia1</td>\n",
              "      <td>0.058824</td>\n",
              "      <td>0.647059</td>\n",
              "      <td>0.294118</td>\n",
              "    </tr>\n",
              "    <tr>\n",
              "      <th>3</th>\n",
              "      <td>n8knay8tweoa1</td>\n",
              "      <td>0.000000</td>\n",
              "      <td>0.909091</td>\n",
              "      <td>0.090909</td>\n",
              "    </tr>\n",
              "    <tr>\n",
              "      <th>4</th>\n",
              "      <td>6ehwjtoho3la1</td>\n",
              "      <td>0.000000</td>\n",
              "      <td>0.625000</td>\n",
              "      <td>0.375000</td>\n",
              "    </tr>\n",
              "  </tbody>\n",
              "</table>\n",
              "</div>\n",
              "      <button class=\"colab-df-convert\" onclick=\"convertToInteractive('df-967795ab-f90e-4ec4-8be5-20d883900afc')\"\n",
              "              title=\"Convert this dataframe to an interactive table.\"\n",
              "              style=\"display:none;\">\n",
              "        \n",
              "  <svg xmlns=\"http://www.w3.org/2000/svg\" height=\"24px\"viewBox=\"0 0 24 24\"\n",
              "       width=\"24px\">\n",
              "    <path d=\"M0 0h24v24H0V0z\" fill=\"none\"/>\n",
              "    <path d=\"M18.56 5.44l.94 2.06.94-2.06 2.06-.94-2.06-.94-.94-2.06-.94 2.06-2.06.94zm-11 1L8.5 8.5l.94-2.06 2.06-.94-2.06-.94L8.5 2.5l-.94 2.06-2.06.94zm10 10l.94 2.06.94-2.06 2.06-.94-2.06-.94-.94-2.06-.94 2.06-2.06.94z\"/><path d=\"M17.41 7.96l-1.37-1.37c-.4-.4-.92-.59-1.43-.59-.52 0-1.04.2-1.43.59L10.3 9.45l-7.72 7.72c-.78.78-.78 2.05 0 2.83L4 21.41c.39.39.9.59 1.41.59.51 0 1.02-.2 1.41-.59l7.78-7.78 2.81-2.81c.8-.78.8-2.07 0-2.86zM5.41 20L4 18.59l7.72-7.72 1.47 1.35L5.41 20z\"/>\n",
              "  </svg>\n",
              "      </button>\n",
              "      \n",
              "  <style>\n",
              "    .colab-df-container {\n",
              "      display:flex;\n",
              "      flex-wrap:wrap;\n",
              "      gap: 12px;\n",
              "    }\n",
              "\n",
              "    .colab-df-convert {\n",
              "      background-color: #E8F0FE;\n",
              "      border: none;\n",
              "      border-radius: 50%;\n",
              "      cursor: pointer;\n",
              "      display: none;\n",
              "      fill: #1967D2;\n",
              "      height: 32px;\n",
              "      padding: 0 0 0 0;\n",
              "      width: 32px;\n",
              "    }\n",
              "\n",
              "    .colab-df-convert:hover {\n",
              "      background-color: #E2EBFA;\n",
              "      box-shadow: 0px 1px 2px rgba(60, 64, 67, 0.3), 0px 1px 3px 1px rgba(60, 64, 67, 0.15);\n",
              "      fill: #174EA6;\n",
              "    }\n",
              "\n",
              "    [theme=dark] .colab-df-convert {\n",
              "      background-color: #3B4455;\n",
              "      fill: #D2E3FC;\n",
              "    }\n",
              "\n",
              "    [theme=dark] .colab-df-convert:hover {\n",
              "      background-color: #434B5C;\n",
              "      box-shadow: 0px 1px 3px 1px rgba(0, 0, 0, 0.15);\n",
              "      filter: drop-shadow(0px 1px 2px rgba(0, 0, 0, 0.3));\n",
              "      fill: #FFFFFF;\n",
              "    }\n",
              "  </style>\n",
              "\n",
              "      <script>\n",
              "        const buttonEl =\n",
              "          document.querySelector('#df-967795ab-f90e-4ec4-8be5-20d883900afc button.colab-df-convert');\n",
              "        buttonEl.style.display =\n",
              "          google.colab.kernel.accessAllowed ? 'block' : 'none';\n",
              "\n",
              "        async function convertToInteractive(key) {\n",
              "          const element = document.querySelector('#df-967795ab-f90e-4ec4-8be5-20d883900afc');\n",
              "          const dataTable =\n",
              "            await google.colab.kernel.invokeFunction('convertToInteractive',\n",
              "                                                     [key], {});\n",
              "          if (!dataTable) return;\n",
              "\n",
              "          const docLinkHtml = 'Like what you see? Visit the ' +\n",
              "            '<a target=\"_blank\" href=https://colab.research.google.com/notebooks/data_table.ipynb>data table notebook</a>'\n",
              "            + ' to learn more about interactive tables.';\n",
              "          element.innerHTML = '';\n",
              "          dataTable['output_type'] = 'display_data';\n",
              "          await google.colab.output.renderOutput(dataTable, element);\n",
              "          const docLink = document.createElement('div');\n",
              "          docLink.innerHTML = docLinkHtml;\n",
              "          element.appendChild(docLink);\n",
              "        }\n",
              "      </script>\n",
              "    </div>\n",
              "  </div>\n",
              "  "
            ],
            "text/plain": [
              "               0         1         2         3\n",
              "0  q5hxiq9tljoa1  0.022222  0.711111  0.266667\n",
              "1  6g0wuj582vka1  0.250000  0.535714  0.214286\n",
              "2  i3uzxp5qe7ia1  0.058824  0.647059  0.294118\n",
              "3  n8knay8tweoa1  0.000000  0.909091  0.090909\n",
              "4  6ehwjtoho3la1  0.000000  0.625000  0.375000"
            ]
          },
          "execution_count": 17,
          "metadata": {},
          "output_type": "execute_result"
        }
      ],
      "source": [
        "csv.head()"
      ]
    },
    {
      "cell_type": "code",
      "execution_count": null,
      "metadata": {
        "id": "W8XAJPtE6Qeg"
      },
      "outputs": [],
      "source": [
        "csv.to_csv(\"/content/drive/MyDrive/GroupProject/data_processed_with_max.csv\")"
      ]
    },
    {
      "cell_type": "markdown",
      "metadata": {
        "id": "KJLw8neI6Qv-"
      },
      "source": [
        "## Passing it Through CNN"
      ]
    },
    {
      "cell_type": "code",
      "execution_count": null,
      "metadata": {
        "id": "1OsFFxYs7bQT"
      },
      "outputs": [],
      "source": [
        "import pandas as pd"
      ]
    },
    {
      "cell_type": "code",
      "execution_count": null,
      "metadata": {
        "id": "JMnPH5_p0NVw"
      },
      "outputs": [],
      "source": [
        "csv = pd.read_csv(\"/content/data_processed_with_max.csv\")"
      ]
    },
    {
      "cell_type": "code",
      "execution_count": null,
      "metadata": {
        "colab": {
          "base_uri": "https://localhost:8080/",
          "height": 677
        },
        "id": "P6DbBKGCLhik",
        "outputId": "392ad3ca-d6cc-4025-eda2-156f5c18353e"
      },
      "outputs": [
        {
          "output_type": "execute_result",
          "data": {
            "text/plain": [
              "    Unnamed: 0              0         1         2         3\n",
              "0            0  q5hxiq9tljoa1  0.022222  0.711111  0.266667\n",
              "1            1  6g0wuj582vka1  0.250000  0.535714  0.214286\n",
              "2            2  i3uzxp5qe7ia1  0.058824  0.647059  0.294118\n",
              "3            3  n8knay8tweoa1  0.000000  0.909091  0.090909\n",
              "4            4  6ehwjtoho3la1  0.000000  0.625000  0.375000\n",
              "5            5        3rExkHp  0.260870  0.434783  0.304348\n",
              "6            6        vn9qd2v  0.095238  0.476190  0.428571\n",
              "7            7  xoostvr1ieoa1  0.000000  0.750000  0.250000\n",
              "8            8  hwcaydokvvaa1  0.173913  0.586957  0.239130\n",
              "9            9  07ab0z57x4ca1  0.000000  0.760000  0.240000\n",
              "10          10  uxmexz121afa1  0.000000  0.800000  0.200000\n",
              "11          11  7qsulpwnhmga1  0.000000  0.750000  0.250000\n",
              "12          12  jkwrrylj9s7a1  0.171429  0.542857  0.285714\n",
              "13          13  kzgxatgzazfa1  0.000000  0.428571  0.571429\n",
              "14          14  1deaj7oddaia1  0.000000  0.500000  0.500000\n",
              "15          15  1japi49hlila1  0.000000  0.333333  0.666667\n",
              "16          16  7t36s3hof7ka1  0.000000  0.428571  0.571429\n",
              "17          17  fck8pcu7upna1  0.000000  1.000000  0.000000\n",
              "18          18  cgy6mrbemcoa1  0.000000  1.000000  0.000000\n",
              "19          19  mj560j2pf0la1  0.500000  0.000000  0.500000"
            ],
            "text/html": [
              "\n",
              "  <div id=\"df-2987a7a5-2f51-4fc9-97ec-f4aca191af5c\">\n",
              "    <div class=\"colab-df-container\">\n",
              "      <div>\n",
              "<style scoped>\n",
              "    .dataframe tbody tr th:only-of-type {\n",
              "        vertical-align: middle;\n",
              "    }\n",
              "\n",
              "    .dataframe tbody tr th {\n",
              "        vertical-align: top;\n",
              "    }\n",
              "\n",
              "    .dataframe thead th {\n",
              "        text-align: right;\n",
              "    }\n",
              "</style>\n",
              "<table border=\"1\" class=\"dataframe\">\n",
              "  <thead>\n",
              "    <tr style=\"text-align: right;\">\n",
              "      <th></th>\n",
              "      <th>Unnamed: 0</th>\n",
              "      <th>0</th>\n",
              "      <th>1</th>\n",
              "      <th>2</th>\n",
              "      <th>3</th>\n",
              "    </tr>\n",
              "  </thead>\n",
              "  <tbody>\n",
              "    <tr>\n",
              "      <th>0</th>\n",
              "      <td>0</td>\n",
              "      <td>q5hxiq9tljoa1</td>\n",
              "      <td>0.022222</td>\n",
              "      <td>0.711111</td>\n",
              "      <td>0.266667</td>\n",
              "    </tr>\n",
              "    <tr>\n",
              "      <th>1</th>\n",
              "      <td>1</td>\n",
              "      <td>6g0wuj582vka1</td>\n",
              "      <td>0.250000</td>\n",
              "      <td>0.535714</td>\n",
              "      <td>0.214286</td>\n",
              "    </tr>\n",
              "    <tr>\n",
              "      <th>2</th>\n",
              "      <td>2</td>\n",
              "      <td>i3uzxp5qe7ia1</td>\n",
              "      <td>0.058824</td>\n",
              "      <td>0.647059</td>\n",
              "      <td>0.294118</td>\n",
              "    </tr>\n",
              "    <tr>\n",
              "      <th>3</th>\n",
              "      <td>3</td>\n",
              "      <td>n8knay8tweoa1</td>\n",
              "      <td>0.000000</td>\n",
              "      <td>0.909091</td>\n",
              "      <td>0.090909</td>\n",
              "    </tr>\n",
              "    <tr>\n",
              "      <th>4</th>\n",
              "      <td>4</td>\n",
              "      <td>6ehwjtoho3la1</td>\n",
              "      <td>0.000000</td>\n",
              "      <td>0.625000</td>\n",
              "      <td>0.375000</td>\n",
              "    </tr>\n",
              "    <tr>\n",
              "      <th>5</th>\n",
              "      <td>5</td>\n",
              "      <td>3rExkHp</td>\n",
              "      <td>0.260870</td>\n",
              "      <td>0.434783</td>\n",
              "      <td>0.304348</td>\n",
              "    </tr>\n",
              "    <tr>\n",
              "      <th>6</th>\n",
              "      <td>6</td>\n",
              "      <td>vn9qd2v</td>\n",
              "      <td>0.095238</td>\n",
              "      <td>0.476190</td>\n",
              "      <td>0.428571</td>\n",
              "    </tr>\n",
              "    <tr>\n",
              "      <th>7</th>\n",
              "      <td>7</td>\n",
              "      <td>xoostvr1ieoa1</td>\n",
              "      <td>0.000000</td>\n",
              "      <td>0.750000</td>\n",
              "      <td>0.250000</td>\n",
              "    </tr>\n",
              "    <tr>\n",
              "      <th>8</th>\n",
              "      <td>8</td>\n",
              "      <td>hwcaydokvvaa1</td>\n",
              "      <td>0.173913</td>\n",
              "      <td>0.586957</td>\n",
              "      <td>0.239130</td>\n",
              "    </tr>\n",
              "    <tr>\n",
              "      <th>9</th>\n",
              "      <td>9</td>\n",
              "      <td>07ab0z57x4ca1</td>\n",
              "      <td>0.000000</td>\n",
              "      <td>0.760000</td>\n",
              "      <td>0.240000</td>\n",
              "    </tr>\n",
              "    <tr>\n",
              "      <th>10</th>\n",
              "      <td>10</td>\n",
              "      <td>uxmexz121afa1</td>\n",
              "      <td>0.000000</td>\n",
              "      <td>0.800000</td>\n",
              "      <td>0.200000</td>\n",
              "    </tr>\n",
              "    <tr>\n",
              "      <th>11</th>\n",
              "      <td>11</td>\n",
              "      <td>7qsulpwnhmga1</td>\n",
              "      <td>0.000000</td>\n",
              "      <td>0.750000</td>\n",
              "      <td>0.250000</td>\n",
              "    </tr>\n",
              "    <tr>\n",
              "      <th>12</th>\n",
              "      <td>12</td>\n",
              "      <td>jkwrrylj9s7a1</td>\n",
              "      <td>0.171429</td>\n",
              "      <td>0.542857</td>\n",
              "      <td>0.285714</td>\n",
              "    </tr>\n",
              "    <tr>\n",
              "      <th>13</th>\n",
              "      <td>13</td>\n",
              "      <td>kzgxatgzazfa1</td>\n",
              "      <td>0.000000</td>\n",
              "      <td>0.428571</td>\n",
              "      <td>0.571429</td>\n",
              "    </tr>\n",
              "    <tr>\n",
              "      <th>14</th>\n",
              "      <td>14</td>\n",
              "      <td>1deaj7oddaia1</td>\n",
              "      <td>0.000000</td>\n",
              "      <td>0.500000</td>\n",
              "      <td>0.500000</td>\n",
              "    </tr>\n",
              "    <tr>\n",
              "      <th>15</th>\n",
              "      <td>15</td>\n",
              "      <td>1japi49hlila1</td>\n",
              "      <td>0.000000</td>\n",
              "      <td>0.333333</td>\n",
              "      <td>0.666667</td>\n",
              "    </tr>\n",
              "    <tr>\n",
              "      <th>16</th>\n",
              "      <td>16</td>\n",
              "      <td>7t36s3hof7ka1</td>\n",
              "      <td>0.000000</td>\n",
              "      <td>0.428571</td>\n",
              "      <td>0.571429</td>\n",
              "    </tr>\n",
              "    <tr>\n",
              "      <th>17</th>\n",
              "      <td>17</td>\n",
              "      <td>fck8pcu7upna1</td>\n",
              "      <td>0.000000</td>\n",
              "      <td>1.000000</td>\n",
              "      <td>0.000000</td>\n",
              "    </tr>\n",
              "    <tr>\n",
              "      <th>18</th>\n",
              "      <td>18</td>\n",
              "      <td>cgy6mrbemcoa1</td>\n",
              "      <td>0.000000</td>\n",
              "      <td>1.000000</td>\n",
              "      <td>0.000000</td>\n",
              "    </tr>\n",
              "    <tr>\n",
              "      <th>19</th>\n",
              "      <td>19</td>\n",
              "      <td>mj560j2pf0la1</td>\n",
              "      <td>0.500000</td>\n",
              "      <td>0.000000</td>\n",
              "      <td>0.500000</td>\n",
              "    </tr>\n",
              "  </tbody>\n",
              "</table>\n",
              "</div>\n",
              "      <button class=\"colab-df-convert\" onclick=\"convertToInteractive('df-2987a7a5-2f51-4fc9-97ec-f4aca191af5c')\"\n",
              "              title=\"Convert this dataframe to an interactive table.\"\n",
              "              style=\"display:none;\">\n",
              "        \n",
              "  <svg xmlns=\"http://www.w3.org/2000/svg\" height=\"24px\"viewBox=\"0 0 24 24\"\n",
              "       width=\"24px\">\n",
              "    <path d=\"M0 0h24v24H0V0z\" fill=\"none\"/>\n",
              "    <path d=\"M18.56 5.44l.94 2.06.94-2.06 2.06-.94-2.06-.94-.94-2.06-.94 2.06-2.06.94zm-11 1L8.5 8.5l.94-2.06 2.06-.94-2.06-.94L8.5 2.5l-.94 2.06-2.06.94zm10 10l.94 2.06.94-2.06 2.06-.94-2.06-.94-.94-2.06-.94 2.06-2.06.94z\"/><path d=\"M17.41 7.96l-1.37-1.37c-.4-.4-.92-.59-1.43-.59-.52 0-1.04.2-1.43.59L10.3 9.45l-7.72 7.72c-.78.78-.78 2.05 0 2.83L4 21.41c.39.39.9.59 1.41.59.51 0 1.02-.2 1.41-.59l7.78-7.78 2.81-2.81c.8-.78.8-2.07 0-2.86zM5.41 20L4 18.59l7.72-7.72 1.47 1.35L5.41 20z\"/>\n",
              "  </svg>\n",
              "      </button>\n",
              "      \n",
              "  <style>\n",
              "    .colab-df-container {\n",
              "      display:flex;\n",
              "      flex-wrap:wrap;\n",
              "      gap: 12px;\n",
              "    }\n",
              "\n",
              "    .colab-df-convert {\n",
              "      background-color: #E8F0FE;\n",
              "      border: none;\n",
              "      border-radius: 50%;\n",
              "      cursor: pointer;\n",
              "      display: none;\n",
              "      fill: #1967D2;\n",
              "      height: 32px;\n",
              "      padding: 0 0 0 0;\n",
              "      width: 32px;\n",
              "    }\n",
              "\n",
              "    .colab-df-convert:hover {\n",
              "      background-color: #E2EBFA;\n",
              "      box-shadow: 0px 1px 2px rgba(60, 64, 67, 0.3), 0px 1px 3px 1px rgba(60, 64, 67, 0.15);\n",
              "      fill: #174EA6;\n",
              "    }\n",
              "\n",
              "    [theme=dark] .colab-df-convert {\n",
              "      background-color: #3B4455;\n",
              "      fill: #D2E3FC;\n",
              "    }\n",
              "\n",
              "    [theme=dark] .colab-df-convert:hover {\n",
              "      background-color: #434B5C;\n",
              "      box-shadow: 0px 1px 3px 1px rgba(0, 0, 0, 0.15);\n",
              "      filter: drop-shadow(0px 1px 2px rgba(0, 0, 0, 0.3));\n",
              "      fill: #FFFFFF;\n",
              "    }\n",
              "  </style>\n",
              "\n",
              "      <script>\n",
              "        const buttonEl =\n",
              "          document.querySelector('#df-2987a7a5-2f51-4fc9-97ec-f4aca191af5c button.colab-df-convert');\n",
              "        buttonEl.style.display =\n",
              "          google.colab.kernel.accessAllowed ? 'block' : 'none';\n",
              "\n",
              "        async function convertToInteractive(key) {\n",
              "          const element = document.querySelector('#df-2987a7a5-2f51-4fc9-97ec-f4aca191af5c');\n",
              "          const dataTable =\n",
              "            await google.colab.kernel.invokeFunction('convertToInteractive',\n",
              "                                                     [key], {});\n",
              "          if (!dataTable) return;\n",
              "\n",
              "          const docLinkHtml = 'Like what you see? Visit the ' +\n",
              "            '<a target=\"_blank\" href=https://colab.research.google.com/notebooks/data_table.ipynb>data table notebook</a>'\n",
              "            + ' to learn more about interactive tables.';\n",
              "          element.innerHTML = '';\n",
              "          dataTable['output_type'] = 'display_data';\n",
              "          await google.colab.output.renderOutput(dataTable, element);\n",
              "          const docLink = document.createElement('div');\n",
              "          docLink.innerHTML = docLinkHtml;\n",
              "          element.appendChild(docLink);\n",
              "        }\n",
              "      </script>\n",
              "    </div>\n",
              "  </div>\n",
              "  "
            ]
          },
          "metadata": {},
          "execution_count": 7
        }
      ],
      "source": [
        "csv.head(20)"
      ]
    },
    {
      "cell_type": "code",
      "execution_count": null,
      "metadata": {
        "colab": {
          "base_uri": "https://localhost:8080/",
          "height": 130
        },
        "id": "3UnPsU341YZ5",
        "outputId": "1d374f66-007e-4614-fefe-4f026149542d"
      },
      "outputs": [
        {
          "output_type": "stream",
          "name": "stderr",
          "text": [
            "/usr/local/lib/python3.9/dist-packages/sklearn/cluster/_kmeans.py:870: FutureWarning: The default value of `n_init` will change from 10 to 'auto' in 1.4. Set the value of `n_init` explicitly to suppress the warning\n",
            "  warnings.warn(\n"
          ]
        },
        {
          "output_type": "execute_result",
          "data": {
            "text/plain": [
              "KMeans(n_clusters=3)"
            ],
            "text/html": [
              "<style>#sk-container-id-1 {color: black;background-color: white;}#sk-container-id-1 pre{padding: 0;}#sk-container-id-1 div.sk-toggleable {background-color: white;}#sk-container-id-1 label.sk-toggleable__label {cursor: pointer;display: block;width: 100%;margin-bottom: 0;padding: 0.3em;box-sizing: border-box;text-align: center;}#sk-container-id-1 label.sk-toggleable__label-arrow:before {content: \"▸\";float: left;margin-right: 0.25em;color: #696969;}#sk-container-id-1 label.sk-toggleable__label-arrow:hover:before {color: black;}#sk-container-id-1 div.sk-estimator:hover label.sk-toggleable__label-arrow:before {color: black;}#sk-container-id-1 div.sk-toggleable__content {max-height: 0;max-width: 0;overflow: hidden;text-align: left;background-color: #f0f8ff;}#sk-container-id-1 div.sk-toggleable__content pre {margin: 0.2em;color: black;border-radius: 0.25em;background-color: #f0f8ff;}#sk-container-id-1 input.sk-toggleable__control:checked~div.sk-toggleable__content {max-height: 200px;max-width: 100%;overflow: auto;}#sk-container-id-1 input.sk-toggleable__control:checked~label.sk-toggleable__label-arrow:before {content: \"▾\";}#sk-container-id-1 div.sk-estimator input.sk-toggleable__control:checked~label.sk-toggleable__label {background-color: #d4ebff;}#sk-container-id-1 div.sk-label input.sk-toggleable__control:checked~label.sk-toggleable__label {background-color: #d4ebff;}#sk-container-id-1 input.sk-hidden--visually {border: 0;clip: rect(1px 1px 1px 1px);clip: rect(1px, 1px, 1px, 1px);height: 1px;margin: -1px;overflow: hidden;padding: 0;position: absolute;width: 1px;}#sk-container-id-1 div.sk-estimator {font-family: monospace;background-color: #f0f8ff;border: 1px dotted black;border-radius: 0.25em;box-sizing: border-box;margin-bottom: 0.5em;}#sk-container-id-1 div.sk-estimator:hover {background-color: #d4ebff;}#sk-container-id-1 div.sk-parallel-item::after {content: \"\";width: 100%;border-bottom: 1px solid gray;flex-grow: 1;}#sk-container-id-1 div.sk-label:hover label.sk-toggleable__label {background-color: #d4ebff;}#sk-container-id-1 div.sk-serial::before {content: \"\";position: absolute;border-left: 1px solid gray;box-sizing: border-box;top: 0;bottom: 0;left: 50%;z-index: 0;}#sk-container-id-1 div.sk-serial {display: flex;flex-direction: column;align-items: center;background-color: white;padding-right: 0.2em;padding-left: 0.2em;position: relative;}#sk-container-id-1 div.sk-item {position: relative;z-index: 1;}#sk-container-id-1 div.sk-parallel {display: flex;align-items: stretch;justify-content: center;background-color: white;position: relative;}#sk-container-id-1 div.sk-item::before, #sk-container-id-1 div.sk-parallel-item::before {content: \"\";position: absolute;border-left: 1px solid gray;box-sizing: border-box;top: 0;bottom: 0;left: 50%;z-index: -1;}#sk-container-id-1 div.sk-parallel-item {display: flex;flex-direction: column;z-index: 1;position: relative;background-color: white;}#sk-container-id-1 div.sk-parallel-item:first-child::after {align-self: flex-end;width: 50%;}#sk-container-id-1 div.sk-parallel-item:last-child::after {align-self: flex-start;width: 50%;}#sk-container-id-1 div.sk-parallel-item:only-child::after {width: 0;}#sk-container-id-1 div.sk-dashed-wrapped {border: 1px dashed gray;margin: 0 0.4em 0.5em 0.4em;box-sizing: border-box;padding-bottom: 0.4em;background-color: white;}#sk-container-id-1 div.sk-label label {font-family: monospace;font-weight: bold;display: inline-block;line-height: 1.2em;}#sk-container-id-1 div.sk-label-container {text-align: center;}#sk-container-id-1 div.sk-container {/* jupyter's `normalize.less` sets `[hidden] { display: none; }` but bootstrap.min.css set `[hidden] { display: none !important; }` so we also need the `!important` here to be able to override the default hidden behavior on the sphinx rendered scikit-learn.org. See: https://github.com/scikit-learn/scikit-learn/issues/21755 */display: inline-block !important;position: relative;}#sk-container-id-1 div.sk-text-repr-fallback {display: none;}</style><div id=\"sk-container-id-1\" class=\"sk-top-container\"><div class=\"sk-text-repr-fallback\"><pre>KMeans(n_clusters=3)</pre><b>In a Jupyter environment, please rerun this cell to show the HTML representation or trust the notebook. <br />On GitHub, the HTML representation is unable to render, please try loading this page with nbviewer.org.</b></div><div class=\"sk-container\" hidden><div class=\"sk-item\"><div class=\"sk-estimator sk-toggleable\"><input class=\"sk-toggleable__control sk-hidden--visually\" id=\"sk-estimator-id-1\" type=\"checkbox\" checked><label for=\"sk-estimator-id-1\" class=\"sk-toggleable__label sk-toggleable__label-arrow\">KMeans</label><div class=\"sk-toggleable__content\"><pre>KMeans(n_clusters=3)</pre></div></div></div></div></div>"
            ]
          },
          "metadata": {},
          "execution_count": 8
        }
      ],
      "source": [
        "from sklearn.cluster import KMeans\n",
        "clustering = KMeans(n_clusters = 3)\n",
        "clustering.fit(csv.iloc[:,2:])\n"
      ]
    },
    {
      "cell_type": "code",
      "execution_count": null,
      "metadata": {
        "id": "6eovE4hY76qh"
      },
      "outputs": [],
      "source": [
        "count = [0]*3\n",
        "for i in clustering.labels_:\n",
        "  count[i]+=1"
      ]
    },
    {
      "cell_type": "code",
      "source": [
        "label = clustering.labels_"
      ],
      "metadata": {
        "id": "2_BMUqaXIE-3"
      },
      "execution_count": null,
      "outputs": []
    },
    {
      "cell_type": "code",
      "source": [
        "label"
      ],
      "metadata": {
        "colab": {
          "base_uri": "https://localhost:8080/"
        },
        "id": "MwnGnAgaI7qx",
        "outputId": "15b22e8f-4ab1-4539-ec12-6919def12a7b"
      },
      "execution_count": null,
      "outputs": [
        {
          "output_type": "execute_result",
          "data": {
            "text/plain": [
              "array([2, 2, 2, ..., 1, 1, 2], dtype=int32)"
            ]
          },
          "metadata": {},
          "execution_count": 32
        }
      ]
    },
    {
      "cell_type": "code",
      "source": [
        "# Get the features to plot\n",
        "x = csv.iloc[:,2]\n",
        "y = csv.iloc[:,3]\n",
        "z = csv.iloc[:,4]\n",
        "\n",
        "centroids = clustering.cluster_centers_"
      ],
      "metadata": {
        "id": "njCEuEUUNb_s"
      },
      "execution_count": null,
      "outputs": []
    },
    {
      "cell_type": "code",
      "source": [
        "import matplotlib.pyplot as plt\n",
        "from mpl_toolkits.mplot3d import Axes3D\n",
        "cmap = plt.cm.get_cmap('viridis')\n",
        "fig = plt.figure()\n",
        "ax = fig.add_subplot(111, projection='3d')\n",
        "sc = ax.scatter(x, y, z, c = label, cmap = cmap)\n",
        "# Add a color bar\n",
        "cb = plt.colorbar(sc)\n",
        "ax.scatter(centroids[:,0], centroids[:,1], centroids[:,2],\n",
        "           c='r', marker='o', s=100)\n",
        "# Set the viewpoint\n",
        "ax.view_init(elev=30, azim=45)\n",
        "# Set the axis labels\n",
        "ax.set_xlabel('Feature 2')\n",
        "ax.set_ylabel('Feature 3')\n",
        "ax.set_zlabel('Feature 4')\n",
        "# Show the plot\n",
        "plt.show()"
      ],
      "metadata": {
        "colab": {
          "base_uri": "https://localhost:8080/",
          "height": 476
        },
        "id": "ezTZkeH0Nxmx",
        "outputId": "f2af89c2-7928-4df9-9554-a04be539e337"
      },
      "execution_count": null,
      "outputs": [
        {
          "output_type": "stream",
          "name": "stderr",
          "text": [
            "<ipython-input-53-15c15222ed58>:3: MatplotlibDeprecationWarning: The get_cmap function was deprecated in Matplotlib 3.7 and will be removed two minor releases later. Use ``matplotlib.colormaps[name]`` or ``matplotlib.colormaps.get_cmap(obj)`` instead.\n",
            "  cmap = plt.cm.get_cmap('viridis')\n"
          ]
        },
        {
          "output_type": "display_data",
          "data": {
            "text/plain": [
              "<Figure size 640x480 with 2 Axes>"
            ],
            "image/png": "[encoded data removed]"
          },
          "metadata": {}
        }
      ]
    },
    {
      "cell_type": "code",
      "source": [],
      "metadata": {
        "id": "n9jLYOuDN6wX"
      },
      "execution_count": null,
      "outputs": []
    },
    {
      "cell_type": "code",
      "execution_count": null,
      "metadata": {
        "colab": {
          "base_uri": "https://localhost:8080/"
        },
        "id": "J57f5OdM8HZA",
        "outputId": "9d68bd2a-0829-4c59-ee3a-44770e4b118d"
      },
      "outputs": [
        {
          "data": {
            "text/plain": [
              "[572, 402, 672]"
            ]
          },
          "execution_count": 13,
          "metadata": {},
          "output_type": "execute_result"
        }
      ],
      "source": [
        "count"
      ]
    },
    {
      "cell_type": "markdown",
      "metadata": {
        "id": "AZJaHtlKWl55"
      },
      "source": [
        "- - - - - -\n",
        "| Negative | Neutral | Positive | <br>\n",
        "- -------- \n"
      ]
    },
    {
      "cell_type": "code",
      "execution_count": null,
      "metadata": {
        "colab": {
          "base_uri": "https://localhost:8080/"
        },
        "id": "-Wgu0wd34iah",
        "outputId": "2260923e-5dd2-4f0a-f2de-d88ab008aaff"
      },
      "outputs": [
        {
          "data": {
            "text/plain": [
              "array([[0.07831954, 0.26539985, 0.6562806 ],\n",
              "       [0.74200308, 0.12420361, 0.13379331],\n",
              "       [0.04413038, 0.84471994, 0.11114969]])"
            ]
          },
          "execution_count": 14,
          "metadata": {},
          "output_type": "execute_result"
        }
      ],
      "source": [
        "clustering.cluster_centers_"
      ]
    },
    {
      "cell_type": "markdown",
      "metadata": {
        "id": "7uAxgDobVpIT"
      },
      "source": [
        "## Pytorch Implementation Experimental"
      ]
    },
    {
      "cell_type": "code",
      "execution_count": null,
      "metadata": {
        "colab": {
          "base_uri": "https://localhost:8080/",
          "height": 387
        },
        "id": "xSmjxk6M7q7t",
        "outputId": "5a89b6e6-4685-45de-fb7a-299b2eba2e5c"
      },
      "outputs": [
        {
          "ename": "KeyboardInterrupt",
          "evalue": "ignored",
          "output_type": "error",
          "traceback": [
            "\u001b[0;31m---------------------------------------------------------------------------\u001b[0m",
            "\u001b[0;31mKeyboardInterrupt\u001b[0m                         Traceback (most recent call last)",
            "\u001b[0;32m<ipython-input-8-30c97b6c3c03>\u001b[0m in \u001b[0;36m<cell line: 1>\u001b[0;34m()\u001b[0m\n\u001b[0;32m----> 1\u001b[0;31m \u001b[0;32mimport\u001b[0m \u001b[0mtorch\u001b[0m\u001b[0;34m\u001b[0m\u001b[0;34m\u001b[0m\u001b[0m\n\u001b[0m\u001b[1;32m      2\u001b[0m \u001b[0;32mimport\u001b[0m \u001b[0mtorch\u001b[0m\u001b[0;34m.\u001b[0m\u001b[0mnn\u001b[0m \u001b[0;32mas\u001b[0m \u001b[0mnn\u001b[0m\u001b[0;34m\u001b[0m\u001b[0;34m\u001b[0m\u001b[0m\n\u001b[1;32m      3\u001b[0m \u001b[0;32mimport\u001b[0m \u001b[0mtorch\u001b[0m\u001b[0;34m.\u001b[0m\u001b[0mnn\u001b[0m\u001b[0;34m.\u001b[0m\u001b[0mfunctional\u001b[0m \u001b[0;32mas\u001b[0m \u001b[0mF\u001b[0m\u001b[0;34m\u001b[0m\u001b[0;34m\u001b[0m\u001b[0m\n\u001b[1;32m      4\u001b[0m \u001b[0;32mimport\u001b[0m \u001b[0mtorchvision\u001b[0m\u001b[0;34m.\u001b[0m\u001b[0mtransforms\u001b[0m\u001b[0;34m.\u001b[0m\u001b[0mfunctional\u001b[0m \u001b[0;32mas\u001b[0m \u001b[0mTF\u001b[0m\u001b[0;34m\u001b[0m\u001b[0;34m\u001b[0m\u001b[0m\n\u001b[1;32m      5\u001b[0m \u001b[0;32mimport\u001b[0m \u001b[0mtorch\u001b[0m\u001b[0;34m.\u001b[0m\u001b[0moptim\u001b[0m \u001b[0;32mas\u001b[0m \u001b[0moptim\u001b[0m\u001b[0;34m\u001b[0m\u001b[0;34m\u001b[0m\u001b[0m\n",
            "\u001b[0;32m/usr/local/lib/python3.9/dist-packages/torch/__init__.py\u001b[0m in \u001b[0;36m<module>\u001b[0;34m\u001b[0m\n\u001b[1;32m   1463\u001b[0m \u001b[0;32mfrom\u001b[0m \u001b[0;34m.\u001b[0m \u001b[0;32mimport\u001b[0m \u001b[0mlibrary\u001b[0m\u001b[0;34m\u001b[0m\u001b[0;34m\u001b[0m\u001b[0m\n\u001b[1;32m   1464\u001b[0m \u001b[0;32mif\u001b[0m \u001b[0;32mnot\u001b[0m \u001b[0mTYPE_CHECKING\u001b[0m\u001b[0;34m:\u001b[0m\u001b[0;34m\u001b[0m\u001b[0;34m\u001b[0m\u001b[0m\n\u001b[0;32m-> 1465\u001b[0;31m     \u001b[0;32mfrom\u001b[0m \u001b[0;34m.\u001b[0m \u001b[0;32mimport\u001b[0m \u001b[0m_meta_registrations\u001b[0m\u001b[0;34m\u001b[0m\u001b[0;34m\u001b[0m\u001b[0m\n\u001b[0m\u001b[1;32m   1466\u001b[0m \u001b[0;34m\u001b[0m\u001b[0m\n\u001b[1;32m   1467\u001b[0m \u001b[0;31m# Enable CUDA Sanitizer\u001b[0m\u001b[0;34m\u001b[0m\u001b[0;34m\u001b[0m\u001b[0m\n",
            "\u001b[0;32m/usr/local/lib/python3.9/dist-packages/torch/_meta_registrations.py\u001b[0m in \u001b[0;36m<module>\u001b[0;34m\u001b[0m\n\u001b[1;32m   2703\u001b[0m \u001b[0;34m\u001b[0m\u001b[0m\n\u001b[1;32m   2704\u001b[0m \u001b[0;34m\u001b[0m\u001b[0m\n\u001b[0;32m-> 2705\u001b[0;31m \u001b[0mactivate_meta\u001b[0m\u001b[0;34m(\u001b[0m\u001b[0;34m)\u001b[0m\u001b[0;34m\u001b[0m\u001b[0;34m\u001b[0m\u001b[0m\n\u001b[0m",
            "\u001b[0;32m/usr/local/lib/python3.9/dist-packages/torch/_meta_registrations.py\u001b[0m in \u001b[0;36mactivate_meta\u001b[0;34m()\u001b[0m\n\u001b[1;32m   2700\u001b[0m                 \u001b[0m_meta_lib_dont_use_me_use_register_meta_for_mkl\u001b[0m\u001b[0;34m.\u001b[0m\u001b[0mimpl\u001b[0m\u001b[0;34m(\u001b[0m\u001b[0mop_overload\u001b[0m\u001b[0;34m,\u001b[0m \u001b[0mfn\u001b[0m\u001b[0;34m)\u001b[0m\u001b[0;34m\u001b[0m\u001b[0;34m\u001b[0m\u001b[0m\n\u001b[1;32m   2701\u001b[0m             \u001b[0;32melse\u001b[0m\u001b[0;34m:\u001b[0m\u001b[0;34m\u001b[0m\u001b[0;34m\u001b[0m\u001b[0m\n\u001b[0;32m-> 2702\u001b[0;31m                 \u001b[0m_meta_lib_dont_use_me_use_register_meta\u001b[0m\u001b[0;34m.\u001b[0m\u001b[0mimpl\u001b[0m\u001b[0;34m(\u001b[0m\u001b[0mop_overload\u001b[0m\u001b[0;34m,\u001b[0m \u001b[0mfn\u001b[0m\u001b[0;34m)\u001b[0m\u001b[0;34m\u001b[0m\u001b[0;34m\u001b[0m\u001b[0m\n\u001b[0m\u001b[1;32m   2703\u001b[0m \u001b[0;34m\u001b[0m\u001b[0m\n\u001b[1;32m   2704\u001b[0m \u001b[0;34m\u001b[0m\u001b[0m\n",
            "\u001b[0;32m/usr/local/lib/python3.9/dist-packages/torch/library.py\u001b[0m in \u001b[0;36mimpl\u001b[0;34m(self, op_name, fn, dispatch_key)\u001b[0m\n\u001b[1;32m    124\u001b[0m                     \" for the base ops that it decomposes into.\")\n\u001b[1;32m    125\u001b[0m \u001b[0;34m\u001b[0m\u001b[0m\n\u001b[0;32m--> 126\u001b[0;31m         \u001b[0mself\u001b[0m\u001b[0;34m.\u001b[0m\u001b[0mm\u001b[0m\u001b[0;34m.\u001b[0m\u001b[0mimpl\u001b[0m\u001b[0;34m(\u001b[0m\u001b[0mname\u001b[0m\u001b[0;34m,\u001b[0m \u001b[0mdispatch_key\u001b[0m \u001b[0;32mif\u001b[0m \u001b[0mdispatch_key\u001b[0m \u001b[0;34m!=\u001b[0m \u001b[0;34m\"\"\u001b[0m \u001b[0;32melse\u001b[0m \u001b[0;34m\"CompositeImplicitAutograd\"\u001b[0m\u001b[0;34m,\u001b[0m \u001b[0mfn\u001b[0m\u001b[0;34m)\u001b[0m\u001b[0;34m\u001b[0m\u001b[0;34m\u001b[0m\u001b[0m\n\u001b[0m\u001b[1;32m    127\u001b[0m \u001b[0;34m\u001b[0m\u001b[0m\n\u001b[1;32m    128\u001b[0m         \u001b[0m_impls\u001b[0m\u001b[0;34m.\u001b[0m\u001b[0madd\u001b[0m\u001b[0;34m(\u001b[0m\u001b[0mkey\u001b[0m\u001b[0;34m)\u001b[0m\u001b[0;34m\u001b[0m\u001b[0;34m\u001b[0m\u001b[0m\n",
            "\u001b[0;31mKeyboardInterrupt\u001b[0m: "
          ]
        }
      ],
      "source": [
        "import torch\n",
        "import torch.nn as nn\n",
        "import torch.nn.functional as F\n",
        "import torchvision.transforms.functional as TF\n",
        "import torch.optim as optim\n",
        "torch.device('cuda:0' if torch.cuda.is_available() else 'cpu')\n",
        "from torch.utils.data import TensorDataset as Dataset\n",
        "from torchvision.transforms import ToTensor\n",
        "import matplotlib.pyplot as plt\n",
        "from torchvision.io import read_image\n",
        "import os\n",
        "from sklearn.model_selection import train_test_split"
      ]
    },
    {
      "cell_type": "code",
      "execution_count": null,
      "metadata": {
        "colab": {
          "base_uri": "https://localhost:8080/"
        },
        "id": "5IxUl6VT8ww1",
        "outputId": "22726f57-1893-4c3c-ee09-c3edba7cf553"
      },
      "outputs": [
        {
          "name": "stdout",
          "output_type": "stream",
          "text": [
            "1485\n",
            "(tensor([[[148, 148, 149,  ..., 137, 136, 135],\n",
            "         [152, 151, 151,  ..., 137, 136, 135],\n",
            "         [155, 154, 153,  ..., 137, 137, 136],\n",
            "         ...,\n",
            "         [181, 179, 178,  ..., 105,  99, 103],\n",
            "         [181, 180, 179,  ..., 109, 102,  92],\n",
            "         [181, 181, 181,  ..., 114, 104,  89]],\n",
            "\n",
            "        [[140, 140, 141,  ..., 129, 128, 127],\n",
            "         [144, 143, 143,  ..., 129, 128, 127],\n",
            "         [147, 146, 145,  ..., 129, 129, 128],\n",
            "         ...,\n",
            "         [131, 129, 128,  ..., 125, 122, 126],\n",
            "         [131, 130, 129,  ..., 129, 125, 115],\n",
            "         [131, 131, 131,  ..., 134, 127, 112]],\n",
            "\n",
            "        [[127, 127, 128,  ..., 118, 117, 116],\n",
            "         [131, 130, 130,  ..., 118, 117, 116],\n",
            "         [134, 133, 132,  ..., 118, 118, 117],\n",
            "         ...,\n",
            "         [108, 106, 105,  ..., 158, 154, 158],\n",
            "         [108, 107, 106,  ..., 162, 157, 147],\n",
            "         [108, 108, 108,  ..., 167, 159, 144]]], dtype=torch.uint8), 0)\n"
          ]
        }
      ],
      "source": [
        "class MyCNN(nn.Module):\n",
        "  def __init__(self):\n",
        "    super().__init__()\n",
        "    self.conv2_1 = nn.Conv2d(3,6,3)\n",
        "    self.conv2_2 = nn.Conv2d(6,32,3)\n",
        "    self.lin_1 = nn.Linear(372290,200)\n",
        "    self.lin_2 = nn.Linear(200,6)\n",
        "  def forward(self,x):\n",
        "    x=F.relu(self.conv2_1(x))\n",
        "    x = F.max_pool2d(x,2)\n",
        "    x=F.relu(self.conv2_2(x))\n",
        "    x= F.max_pool2d(x,2)\n",
        "    x = torch.flatten(x,1)\n",
        "    x = F.relu(self.lin_1(x))\n",
        "    x=F.relu(self.lin_2(x))\n",
        "\n",
        "class MyDataset(Dataset):\n",
        "  def __init__(self,images,labels,dir):\n",
        "    super().__init__()\n",
        "    self.images = images\n",
        "    self.labels = labels\n",
        "    self.dir = dir\n",
        "  def __len__(self):\n",
        "    return len(self.images)\n",
        "  def __getitem__(self,ind):\n",
        "    try:\n",
        "      if os.path.exists(os.path.join(dir, images[ind])+\".jpg\"):\n",
        "        images_dir = os.path.join(dir, images[ind])+\".jpg\"\n",
        "        image = read_image(images_dir)\n",
        "\n",
        "\n",
        "      else:\n",
        "        images_dir = os.path.join(dir, images[ind])+\".png\"\n",
        "        image = read_image(images_dir)\n",
        "\n",
        "    except:\n",
        "      return \"\",\"\"\n",
        "    label = labels[ind]\n",
        "    return image, label\n",
        "\n",
        "model = MyCNN()\n",
        "\n",
        "labels = clustering.labels_\n",
        "\n",
        "images = list(csv.iloc[:,1])\n",
        "print(len(images))\n",
        "\n",
        "dir = \"/content/drive/MyDrive/GroupProject/Images/\"\n",
        "\n",
        "\n",
        "optimizer = optim.SGD(model.parameters(), lr=0.01)\n",
        "criterion = nn.MSELoss()\n",
        "\n",
        "\n",
        "data = MyDataset(images,labels,dir)\n",
        "images_T = []\n",
        "labels_T = []\n",
        "print( next(iter(data)))\n",
        "for i in range(len(images)):\n",
        "  im,l =  next(iter(data))\n",
        "  if im == \"\":\n",
        "    continue\n",
        "  images_T.append(im)\n",
        "  labels_T.append(l)\n",
        "\n",
        "\n",
        "\n",
        "train_x, val_x, train_y, val_y = train_test_split(images_T, labels_T, test_size = 0.1)\n"
      ]
    },
    {
      "cell_type": "code",
      "execution_count": null,
      "metadata": {
        "colab": {
          "base_uri": "https://localhost:8080/",
          "height": 235
        },
        "id": "RGwKJVWa4KDV",
        "outputId": "a3f78732-961f-4feb-827a-faf7b67a1805"
      },
      "outputs": [
        {
          "ename": "NameError",
          "evalue": "ignored",
          "output_type": "error",
          "traceback": [
            "\u001b[0;31m---------------------------------------------------------------------------\u001b[0m",
            "\u001b[0;31mNameError\u001b[0m                                 Traceback (most recent call last)",
            "\u001b[0;32m<ipython-input-3-4d585a30f602>\u001b[0m in \u001b[0;36m<cell line: 1>\u001b[0;34m()\u001b[0m\n\u001b[1;32m      2\u001b[0m \u001b[0;34m\u001b[0m\u001b[0m\n\u001b[1;32m      3\u001b[0m   \u001b[0;32mfor\u001b[0m \u001b[0mi\u001b[0m \u001b[0;32min\u001b[0m \u001b[0mrange\u001b[0m\u001b[0;34m(\u001b[0m\u001b[0;36m1485\u001b[0m\u001b[0;34m)\u001b[0m\u001b[0;34m:\u001b[0m\u001b[0;34m\u001b[0m\u001b[0;34m\u001b[0m\u001b[0m\n\u001b[0;32m----> 4\u001b[0;31m     \u001b[0minput\u001b[0m\u001b[0;34m,\u001b[0m\u001b[0mlabel\u001b[0m \u001b[0;34m=\u001b[0m \u001b[0mnext\u001b[0m\u001b[0;34m(\u001b[0m\u001b[0miter\u001b[0m\u001b[0;34m(\u001b[0m\u001b[0mdata\u001b[0m\u001b[0;34m)\u001b[0m\u001b[0;34m)\u001b[0m\u001b[0;34m\u001b[0m\u001b[0;34m\u001b[0m\u001b[0m\n\u001b[0m\u001b[1;32m      5\u001b[0m     \u001b[0;32mif\u001b[0m \u001b[0mtype\u001b[0m\u001b[0;34m(\u001b[0m\u001b[0minput\u001b[0m\u001b[0;34m)\u001b[0m \u001b[0;34m==\u001b[0m \u001b[0mstr\u001b[0m\u001b[0;34m:\u001b[0m\u001b[0;34m\u001b[0m\u001b[0;34m\u001b[0m\u001b[0m\n\u001b[1;32m      6\u001b[0m       \u001b[0;32mcontinue\u001b[0m\u001b[0;34m\u001b[0m\u001b[0;34m\u001b[0m\u001b[0m\n",
            "\u001b[0;31mNameError\u001b[0m: name 'data' is not defined"
          ]
        }
      ],
      "source": [
        "for epoch in range(10):\n",
        "\n",
        "  for i in range(1485):\n",
        "    input,label = next(iter(data))\n",
        "    if type(input) == str:\n",
        "      continue\n",
        "    print(input.type)\n",
        "    optimizer.zero_grad()   # zero the gradient buffers\n",
        "    input = input.type(torch.FloatTensor)\n",
        "    output = Net(input)\n",
        "    loss = criterion(output,str(label))\n",
        "    loss.backward()\n",
        "    optimizer.step()    # Does the update"
      ]
    },
    {
      "cell_type": "code",
      "execution_count": null,
      "metadata": {
        "colab": {
          "base_uri": "https://localhost:8080/"
        },
        "id": "ifffw0NF7tGT",
        "outputId": "f01724d8-1e89-4ec7-bf00-59885a076c13"
      },
      "outputs": [
        {
          "name": "stdout",
          "output_type": "stream",
          "text": [
            "<bound method Module.parameters of MyCNN(\n",
            "  (conv2_1): Conv2d(3, 6, kernel_size=(3, 3), stride=(1, 1))\n",
            "  (conv2_2): Conv2d(6, 32, kernel_size=(3, 3), stride=(1, 1))\n",
            "  (lin_1): Linear(in_features=288, out_features=200, bias=True)\n",
            "  (lin_2): Linear(in_features=200, out_features=6, bias=True)\n",
            ")>\n"
          ]
        }
      ],
      "source": [
        "print(model.parameters)"
      ]
    },
    {
      "cell_type": "code",
      "execution_count": null,
      "metadata": {
        "colab": {
          "base_uri": "https://localhost:8080/",
          "height": 165
        },
        "id": "hgHyuG0k79cz",
        "outputId": "5bc5a4bc-4741-47fe-c5f0-074b8af3546b"
      },
      "outputs": [
        {
          "ename": "AttributeError",
          "evalue": "ignored",
          "output_type": "error",
          "traceback": [
            "\u001b[0;31m---------------------------------------------------------------------------\u001b[0m",
            "\u001b[0;31mAttributeError\u001b[0m                            Traceback (most recent call last)",
            "\u001b[0;32m<ipython-input-12-9cdcc30e15c2>\u001b[0m in \u001b[0;36m<cell line: 1>\u001b[0;34m()\u001b[0m\n\u001b[0;32m----> 1\u001b[0;31m \u001b[0mtrain_x\u001b[0m\u001b[0;34m[\u001b[0m\u001b[0;36m0\u001b[0m\u001b[0;34m]\u001b[0m\u001b[0;34m.\u001b[0m\u001b[0mshape\u001b[0m\u001b[0;34m\u001b[0m\u001b[0;34m\u001b[0m\u001b[0m\n\u001b[0m",
            "\u001b[0;31mAttributeError\u001b[0m: 'str' object has no attribute 'shape'"
          ]
        }
      ],
      "source": [
        "train_x[0].shape"
      ]
    },
    {
      "cell_type": "markdown",
      "metadata": {
        "id": "QiGDZ_t_VuYg"
      },
      "source": [
        "## Working Keras Implementation"
      ]
    },
    {
      "cell_type": "code",
      "execution_count": null,
      "metadata": {
        "id": "iuxfhVI5fv76"
      },
      "outputs": [],
      "source": [
        "import os\n",
        "from sklearn.model_selection import train_test_split"
      ]
    },
    {
      "cell_type": "code",
      "execution_count": null,
      "metadata": {
        "colab": {
          "base_uri": "https://localhost:8080/",
          "height": 278
        },
        "id": "hH5ug78ye1C5",
        "outputId": "c45443e3-185d-46b9-c43e-ce6875fb04be"
      },
      "outputs": [
        {
          "output_type": "stream",
          "name": "stdout",
          "text": [
            "{0, 1, 2}\n",
            "['q5hxiq9tljoa1', '6g0wuj582vka1', 'i3uzxp5qe7ia1', 'n8knay8tweoa1', '6ehwjtoho3la1', '3rExkHp', 'vn9qd2v', 'xoostvr1ieoa1', 'hwcaydokvvaa1', '07ab0z57x4ca1', 'uxmexz121afa1', '7qsulpwnhmga1', 'jkwrrylj9s7a1', 'kzgxatgzazfa1', '1deaj7oddaia1', '1japi49hlila1', '7t36s3hof7ka1', 'fck8pcu7upna1', 'cgy6mrbemcoa1', 'mj560j2pf0la1', 'bm4cglvnfhga1', 'qyxvpghzwkha1', 'kk6tt1wy7gna1', 'bz45hee2i6oa1', '8ixza6uhoioa1', '7zfpz587qfoa1', 'gv45zafefgoa1', 'd28gbbr5wdoa1', 'rnskca76heoa1', 'z8ah1i8xz5oa1', '6beWknU', 'f832s5luicoa1', 'd81zhg0138na1', '4yxvefs7mcoa1', '3oq6h6o0qeoa1', 'kl1qbhfec9ga1', 'jtfp1c81ccoa1', 'fv079sn28uka1', 'n83emlx48gna1', 'aechw18eczka1', 'fixsco7ha9na1', '63oqbrmeuafa1', 'xud6wixxbtka1', '0jfwavchlhna1', '9eze05harska1', '118curiwzkma1', 'h1Ptriv', 'bdu7fakeysma1', '1tc7wtlzov7a1', 'jl3m2m1ur6ia1', 'afpd9lx447aa1', 'pmlr6ypk0zia1', '298ah1tjf7ma1', '33y08ael5hla1', 'im2ep0iyizma1', 'osinkd5wybha1', '57emovf0iwka1', 'hgfcbr3ik2ha1', 'v74tiyz64wha1', 'jclnw6xm1n8a1', '5upkhkxfqoha1', 'ma89qs9dej7a1', 'hwtflez54gu91', 'bj2a5f721q9a1', 'neumduy8veha1', 'k7emf225w03a1', 'ycde2z1yzrka1', '8085juuxr8ea1', 'b3a3dqt8nioa1', 'plgniaizgaia1', 'm6i031z4duda1', 'rxl3t7lpkj0a1', 'v58edn1l1nda1', '6jyt0g14gcfa1', 'dl9djemz0gka1', 'ys5hx1k5opda1', 'g46kn7xyopha1', '5Lgumlp', 'si5grqsol0ka1', 'w40252l5p68a1', 'grlacok7n62a1', 'alqbzvsh7a2a1', 'jn707i8uag4a1', '3uj8j7mlq1ja1', 'fhxxm6l0j4ga1', 'z57kbn4000y91', 'VZbdQUv_d', 'y9dsyiuhdw5a1', 'hjbske7vlpaa1', 'jk34lb50u7oa1', 'ic558rzxzb3a1', '9rv90mxo8ts81', '3arono4z885a1', '7atuvsqq0mka1', '9s17nc0qg3l91', '3rk83y5saru81', 'zigvecjddtea1', 'ie78lpxwukt81', 'vmp9s986ird91', 'uwzc09todtw91', 'mvy06qau17h81', '8ennnqxi6vp91', '6ykhwpj50fp91', 'gv8n8870wm691', '6t72efkhsep81', 'iswxbqnpaqga1', 'edv7wtbrj0u91', 'pomn1jii82l81', 'jr3tsyy42s6a1', '8ulmg4zke9k91', 'amdh6cku6eca1', 'osr9semqsqc91', 'gqdm7gybkws91', 'ij1qa2ca2oea1', 'dkpstjv0t4q91', '88pkjscrssda1', 't5b23gkrmwha1', 'mn2h5wva8a591', 'fy4frkaatvla1', 'fwhxt6dx7cma1', 'xfze6qsu6wha1', 'j1wu13u2hpk91', '25jpdz8vb1o91', 'bc3z4g735xn91', 'q48badjl3ig81', 'y4bp338u32c91', 'jx4Uxh7', 'to5cd1ojdum81', 'nm26nbpkgqv91', 'dg4geqku0oh81', '6a5qutm1gq5a1', 'qk9215aiaa291', '3t97g3r2uofa1', 'kywoplty9aja1', 'dpccraltbbaa1', '08utwser0m0a1', 'X61SAEK', 'f8ej3tcvqng71', '76m96igjxgr71', 'ah8vowru8ym81', 'op33hzqlu8r81', '0jb4i6fpy4ea1', 'cdq3yes6j3ha1', 'kog4dkvznqq81', 'd2xzqrqpwy6a1', '5fhg8m1yl6u91', 't6iodcyjem891', 'v548tsxkc5aa1', '3288ggdxr2la1', 'x388j3jb6lx91', 's8583njpemna1', '8ggopp6yjvia1', '55zri9lh8nn81', 'qnm6ozpydm1a1', 'xxok8yhh7x991', 'vbaXP4u', 'ivnqwus1wrz91', 'wk540nn3f6t81', 'uqeskg73mp181', 'n989b01utkw71', 'wpvmvsqe6iy71', 'jp8z5h5gqqg91', 'xnrk2t7z04k71', 'ytc0lphjaxi71', 'c36b9gryyzk71', 'chitcnqt4tq91', 'qbks3af6cxf91', '2irj2gxfpnr51', 'quwwmewxlql91', 'pv0b7w7zri991', 'a1059qdgpbu81', '3i0lc1cewto91', '5IQuLpM', '7jmchz5xkwy61', 'bss3st0jsiw51', 'ffK3Inj', 'rj7z1oteb4f61', '019vwtw4abz61', 'ykritc73vwz51', 'p1jle1xgopm51', 'yvq8twvynxp51', 'qm3nw1d2fvl61', 'erxq4muxgmd91', 'lkl5amug9sw31', 'rfdllj5zfqg41', 'brm4orzye7251', 'b8wog0thpb731', 'nwlw1xpumn451', '21hnywdwwqs41', 'seymat239p431', '84g4sfbc95k41', 'ft02qk29rf121', 'h88h4rsjkmr31', '3eHa3Ra', '69hifyqgi0x41', 'id9x0sjxytk31', '7uutH7s', '919h3tagjxk31', 'j7uqpvk96dj21', 'gwu5iaxt4cty', '3y4miy5i3zby', 'wm6eonke9n631', 'v5mxntd9nf921', 'fju1h38zwte21', 'h4xboghmnupz', 'xHGZLNO', '9u7PvhQ', 'rvot41h5k7kz', 'P5OVLjo', 'ocbYuor', 'jutqms0lhdp11', 'bXhqw', '3ouNABF', '8foq3vggq61z', '859xz7b4xf8z', 'hslbk8z13giz', 'ftmffai5e6vz', '4MEwys3', 'XDpgcVa', 'BW8l1P1', 'VhWEQ', 'EQmzZn4', 'lE0Dfra', '4Cfk8gp', '8uiee31f67ma1', 'ss58z5c4sqna1', '85n0uyz7t0la1', 'j2fzu7yaahla1', 'B3y1HZr', 'pi0rkmee24da1', 'j0uyieuuzlia1', 'ab0qiey9cj6a1', 'ow2agiiqlpha1', 'jie83yb13f9a1', 'mF56vNX', 'zqtyij5jmwfa1', '1j9fj2u3z9t91', 'bczobilw5qba1', 'tg0iic5srmd71', 'oRLiPiJ', '1251qmxajiw91', 'itnc19enh04a1', 'f76u10j63zw91', '51hd1w0ggl5a1', 'IMG-20180822-WA0000', 'oiptcw9jlpu91', 'd79b75dfdnq91', 'fi4lgxep9l0a1', '38UJMwx', 'dj2lqx2650j71', 'ficie7a38dx81', 'l241rji0nev81', 'rbmdl3lllkd91', 'wh3ejvomyj6a1', 'e72solo22tx51', '48gvshfro6831', 'rmafpgfrlc991', '2u9iras5d7591', '0xk08959swd71', 'mq8lkp05xxt81', 'ccssut52v6m81', 'h44d7fuyvcz81', 'dvgn8a6hdbz61', 'DBSbCGT', 'ofn8z5tn1ep01', 'ahoe6xkak2281', '7tm9bi7ydpv81', '9xkkr8zue5e81', 'qvyiqmjeamx71', 'jqosyu8bbu541', 'oy7aprksxhl81', '2a7n5oo5v6n81', 'yuy8lwlf4b5a1', 'r71xu93r8ob81', 'ck4q1aiqb7k81', 'ew03wnmkrxuz', 'mniv3i18wbg51', 'wdx13g1p0qyy', 'adcgs43zqwu01', 'mlfujwrk3dl81', 'IQaY8Vz', 'uDqY28r', '930EzeK', 'ns9oco6mt6n61', 'EgGlPC8', '2du804daa35a1', 'ZclgahS', '7t86imr9ua551', 'naep5yegtkg71', 'wqgw62zi11z81', 'esun05d4dc881', '6jplxea6u8h71', 'rm56rqjwue4a1', 'jAWAvL9', 'be1wl5sce6aa1', 'x2ynzjmz84ia1', 'dtj3k2zg3s4a1', 'wo4h4241hm6a1', 'zYIEEVN', 'gzxirub69kba1', 'x07ji3ovsa5a1', 'esdh2viswy0a1', 'p4qshyg0okma1', 'zdjcgn4eab0a1', 'owgbpolt3ln91', '3mugv4qac2991', 'r39dup228sv91', 't6m4nfrbuu9a1', '97itthobb1r91', 'donvapb3d0ma1', 'i3hj0240b1q91', 'RZmci6d', 'jhqo5jfbr4h91', 'n8zevmvu6hb81', 'c3glevuqhip91', 'fgwgkf9ewaj91', 'gf2lql0xbzr91', '678b6tt1t4l91', 'x4pckm18ges91', 'ycqge7a4etla1', 'pl11peek92f91', 'iftru30lz68a1', 'm3w9863algaa1', 'm6enmt8a3ia91', 'hqegqgfhac481', 'xmb2lmvvpgl81', 'hxhuiyit56ga1', 'wuioz8agvt691', 'fMmeXNl', 'r0hujbhqka3a1', 'drs42royt9a91', 'tvzxbqup1c881', '3d7md9e8zeq81', 'qthbgx80yg591', '3aemufxgcd571', '6VEYUr8', 'a83mzmdz04k71', '7116knnftgw81', '809jx4l4s0y81', 'tgfwbb7mot991', 'plepgxhdt0491', 'vHyZmST', 'vte9p15k8ne81', 'zhWrIxa', 'nre7ti1y5ec81', 'f639m5hs7bd81', '2t8inob4wxg81', 'jc6ealzqb9271', '4q1pjvqguzf51', 'j7lguano7wp91', 'uo64gwthfhf81', 'ltbgioudu7c91', 'shcxzm1s8kf61', 'pn70rjdcuif51', 'isd4kw8gsc051', 'p6ryejl7rew61', 'ht9kuz35y8281', 'e8gv7pfnepe81', 'ynybuvjmf58a1', 'dcnRwhF', 'wbq14h26607a1', 'r71w9jgj5sn71', 'iv0h4kxrktna1', 'yobvg11fjb8a1', 'ibch3n0rhil91', '62jzkwodct1a1', 'j629tu1n4ega1', 'pkjmb4nd26v91', 'ydezkycb8tn91', '2bxizn358wo91', 'jef2wplvbyaa1', 'f5xmegor0gm91', 'qaij2q06hboa1', '3rhsh8k2x2s91', '41lbxthlkwia1', 'ols3yldecfy91', 'i9n4rcfgy9x91', '2dt0mwjyw0x91', '9tvi8vs0qsg81', 'v22gj5xmwbp81', 'sa1vpdyi6fia1', '22ay8eappvma1', 'iekqdaxu23ga1', '3qopb5yg7pa91', 'i3wdmqsv0jba1', 'gmbh5fxnc1a91', 'u6grt59i2c8a1', 'ftn9skp2va681', '2f2ohsi5jwz81', 'bggxre7t39m81', 'pgx700eoiaa91', '58ydu56pup691', 'wal4hx69j9ha1', '2ydegc6fgg381', 'egbfflhoau991', 'ppfgfcpgki6a1', 'xsj1hvxx225a1', '1e8eo4264bn81', '1r86mmr46hf61', '9vi8xr8em5t81', '1gefgftnyi7a1', '0cqaeypgbx5a1', '59shyf7j6tk71', 'o6742nszp8u91', '5756tsmixj5a1', '96zg9nyizis31', 'pulkyj2bo6441', '0q5x8ag6ui431', 'plvbwkg0f9d31', 'mpc0zsbemz791', 'xj6tnz0xm8991', '1oqa42q2bls91', '4bftqu2p0ro41', 'a10ulbwat4151', 'fzkf81nmfzd61', 'HmxNEDE', 'Le8mTFz', 'tvxylr3xhu591', '3iz4q2lumuk61', 'ycalg8b3rck91', 'ojzanktqeaa31', 'hlad79nle5o91', 'm1dg2ri8lmc41', 'iopotnxzu3j71', 'gjik9whu88541', '8d9ayhkr3f171', 'gngghy5piws41', 'v0z2356j59a31', 'jlhw31u8n2v51', 'agggw7prtc231', 'emin3t06ep341', 'lbaxygir9c071', '31fcg9arafj31', 'ruvxww9rvn951', 'ubq6xv9tiu391', '63qnkx7y5yp61', 'ap9egi6gb1ia1', 'momvgki3079a1', 'xu3gi81u87ca1', 'ebyrmwn4mpoa1', 'zatutgqwsm8a1', 'y0x9xqsko4o91', 'izAkmGO', 'eVeuXQH', 'yrd8jlgbnfna1', 't3x5o43d20aa1', '0kkjkaxgehg91', 'k6jjyjasvrna1', 'jzouaylsqxma1', 'gsyf7fhl2ela1', 'dky0n9qa3s6a1', 'zosxftdzs5na1', 'uol2ex6wr3g91', 'vrcti1jwwez91', 'glmxr5wqwkoa1', 'q75eatcsdvy81', 'yum1k8tiw7oa1', 'q1p97rsdndoa1', 'tekgh6y6okla1', 's7ugwmvpudj81', '1kq6pooweela1', 'smdxkmyu71ga1', 'i8xddsoekaea1', 'fjostrmbs9ia1', 'e38vf40xp9da1', 'enh1l7ic5qda1', '4c4q73p149ka1', 'qsxyzr0tc9fa1', 'jmohfxjnbema1', '7izbu07k4cma1', '3jlrnciure5a1', '1mik3dfzjym91', 'kbjfdjdketia1', 'uy5htogc9ama1', '26p3q4fifofa1', 'mltga31nvmia1', 'iui50i19678a1', '3ybhtx8p9sna1', 'ezs22hsvjzja1', 'f16348ekmsha1', 'xlp8h4vatkr91', 'fh91uazqrep91', '1l5s521ti7ga1', 'h718kx6hi7o51', 'a9rcbagfk3ja1', 'ia65ob0hfkba1', '3j44gcle5uj91', 'yyeq980s8xr71', 'jkgxuq83w2o91', 'pbxy2me2unfa1', 'DPfit75', 'c594o3a8x1la1', 'oltnfieddega1', 'gk1lf0l6p28a1', 'rqi6uts8vqea1', 'lzctwzynlw8a1', 'nnf37129gfda1', 'hvihbs16gs091', 'c9n3hjrn0hia1', 'gvhb3gfhw4ba1', '65ept6smai9a1', 'xup7qwjqja3a1', 'ry5rs5869goa1', '517a6ujbwuja1', 'cjjqo02rdnoa1', 'k9sr79rpz2t81', 'qmg18ykq3hb91', 'yyyqfhl4an091', 'o91thm4ek4u81', 'fw5vxpvygrr81', 'aciqs8efxp9a1', '2s40m6fwrfw81', 'afk3fjz69t0a1', '5uca1mzchfx81', 'l9nuplpzg6z61', 'bc088ij379791', 'y57owme6yxh61', 'ypztif0qiwn71', 'kcf8k0sn1pd61', 'ch69b5wldus51', 'EuLtwQp', 'dt9egvs0h4e91', 't8ip3ifvr1m71', '2zb9sz1cj9w61', 'pxbtr8fzgwk51', 'gt0hlut51g761', '549grdacngp61', '168o9qn9grr51', 'eiojjm2rn1d41', 'i84rzgcv7cz51', 'iwesecib74r41', 'lf1gz3uuie121', 'msozfbntggt41', 'rlf9t2tm0do51', 'i4gl7bk4tb491', 'ybv97sbaivx41', 'vfbx0to330c41', 'vv59shvpja291', 'imahhew09uo41', 'o0khelbre1851', 'fzet66djkj941', '0ynfk6e7p1v41', 'e2arv7jppwz81', '2749zbp6ui651', 'df0nyz8khxj21', '7b6rdz1pd0d41', '86aau9go2rh11', '003bdpcjgvx21', 'gkpquwaxej121', 'TdQOWET', 'ran90jfcmwx21', 'l27fcvcvgma31', 'i36examit5h31', 'brlrjt6f7vf31', 'ghqoh7h3nccx', 'q4t3jpe7rj831', 't0r7g73m4jm31', 'hi4o5igied121', 'jguk2auils221', '8sok713bmed41', 'lxtFeHD', 'l21r5xybrl021', 'cuhbyrxj3du01', 'cc8xmw6xf6301', 'gw14rb7wpht81', '0a1pv291n7k01', 'i2gm1y1k688z', 'wmqo6wyih4821', '6do3oydbq3kz', '9sntja9rngc01', '012058oqnfe81', 'vf9zxquia0my', '3l08iir', 'WPjHsjw', '04rortc2h5oy', 'VnZZRNx', 'yey8d0z6z9ja1', 'dj93a1qpqfoa1', 'k4q8afwdi6la1', 'gv652im1na8a1', 'si75ofvzdtma1', 'pzkc0xjzahma1', 'xvu8gin0q1fa1', '2rz6ji2uwhia1', 'n6s1c8de82ea1', 'x39qflwev5u91', '99fthikz6ffa1', '71ubxevnyzv91', 'vk33if95t92a1', '7o60d866ubca1', 'yenxcd53k66a1', 'sljwkswzf25a1', '0cczesujmfaa1', 'yvotldp7mp8a1', '8jqo5gta489a1', 'mnsp3uv1220a1', 'oyalm6pify0a1', 'b2n6i0vaugja1', 'dk908zjds1w91', 'jevuxie625v91', '9968fqrx9ta91', 'kcghq0d9u3o91', 'qk0s86pw1ct91', 'c4jj6so0z9i91', 'oyc7h10cnnr91', '8x05f5tz93q91', 'serxkskdyn9a1', 'umevgokpbsja1', 'b5rveojtt2191', 'nbx7sev2w7m91', 'zt04cuegwvj91', '7yg6eb0crufa1', '5KmxHZV', '0vuz32gddija1', '3ip2u21zqzg91', 'r4vnj1uawhx81', '5f9845nj12j91', '4723hin9eoh91', 'y3ly2cmep3391', 'hd1aol5eauf81', 'xm5848nk31a91', 'ec1qe6awmxe91', 'iubfl59bfgc91', '7gu5qt4dwrx81', '7q9axefqgna91', 'qkrzijsluda91', 'iusqyp6lg1a91', 'xffsx3jbzuq91', 'w2p7oj0r5qi81', 'zmez0f8h8db91', 'pd571mg4m6r81', 'usXZmvM', '03bamdd0xav81', 'xewlmkuy53191', '5y2mpwhui6y71', '8rx1ponngu591', 'UWGTRlq', 'l2atnptmfgh81', '64zfw6rglaw81', '6ybojbp4pi391', 'jqjufnhdjj391', '53f2c4j1lm8a1', 'mgs5ord4ni391', 'ds9x1hkf2aa81', 'wf2n2kmil5u81', 'gkzjgjs8gcr81', 'nsmc6fbq69y81', '8RVHsBo', 'c3hakuxae5d81', '2cw0il9urct81', '3jebfldrddr81', 'a6mgzl73sqs81', '6xchf0gxhffa1', 'tnfalo37kd6a1', '9owls6i6dov71', 'rrarrq9tqti61', 'dpyvglmzws761', 'eky77svhjmf31', 'fp1bppt8py951', 'zxwk70zg4gd01', 't8lhee7taq551', 'ys7jctf0mt7a1', 'qrr71nt6yt861', '2xlkdtd0k6w11', '92y697atd0u31', 'igk0xiztn2y41', 'dcfwx0sbn4y91', 'sCAcfgL', '9zeegct63zi31', 'dpju8wj2u1b41', 'pxwo8cd5hwj11', '90grlrjjqtj21', 'r6hy9wph68o31', 'prycbvi5giq21', 'x2k93h65ivu81', 'sgZ5phw', 'bc927axdscl21', 'qio15osa7nf31', '0puwou81uhwz', 'u3pvo1dfp4f11', 'z4mk3ec04m521', 'mq4LhsZ', '7ppdJE6', '1co12fg7ir101', '7ghkcix1t1h11', 'rbym3yn43nuz', '4qwuqs25cg991', 'jpi4q2oafaez', '0NgBKTK', 'gJ6EMon', 'evm7nrpsbqg91', 'wotrt7dm89na1', 'jb6rb9z6xxla1', 'gjtq00tk0tla1', 'qnj8zeda21na1', '55jl238fhxna1', 'r5g852qpj44a1', '1xyv26t94pma1', '08dpdget9nia1', '2viz7zfa92ca1', 'Ju9vEgy', 'taja5wgi1ala1', '2ft5snecfwla1', 'me4edfjyxxaa1', 'o8uacn8wlzla1', '4ujebjv93ika1', 'sxhow3cbnrja1', '7c4297gbrj4a1', 'wdpj97j7t2v91', 'yrp5nz2id0da1', 'q1eh5z5hf4la1', 'oyuq3si7lq7a1', 'vnxt5lw0wuha1', 'p1421j8u3sia1', '59e4z6cxylr91', 'o98ogt9ycj7a1', '751ih6sdtfka1', 'tizfv0vo29ka1', 'j7v5ztasioja1', 'y7ykuu3yl0ga1', 'gv4jcloqn56a1', 'kp4fvgm9379a1', 'i3lupy6repha1', '6ygvpm9cfiia1', 'gigs9xdcr1ga1', 'pkw2qlq3u6na1', 'ijwir4i395oa1', '3b5yq09nepia1', '1k9hvrnn78z91', 'app3wkmqpxna1', 'wolbijyfbkma1', 'of6wnvia52ba1', 'fycblfba2j8a1', '8fitqvbnecga1', 'x0vtud4p9roa1', '2gbn6evuod7a1', 'jzhxgfsok8u91', '30alj1q1a4ga1', 'vfpys7u36ot91', 'be2qcdodbgla1', '136xqydgdaka1', 'mkcwzhbr68b91', 'cbedj6srm3ca1', 'uzf9tasy2ola1', '2xz9rh8ocm8a1', 'zp8walk34dna1', 'g8xef0arcmja1', 'fe41ewrowyma1', '7fr5h4kldnv91', '55lvr8x6r7oa1', 'wzevl7uxo5w91', 'ykuo80wlwtha1', 'Gt2wf5H', 'nya7laudn0ga1', 'rkcg6j75al9a1', '25h3p5gho6aa1', 'r3gnhheb0eoa1', '5ene5tdbqkma1', 'chimnarax98a1', 'sjphghcemar91', '4qcy0s5a9f191', 'vne1p20lcko81', 'eicuci5m9he81', 'ked55senxg2a1', 'obylpqoelle91', 'z90rp35ojnp51', '1ogawnghnsd91', 'mzrbztbn20x91', 'yrw87dp905z31', 'uggaeq6h5dp21', '801ig744v9s41', 'ptps7xrrylu21', 'zphgi8t7y5p41', 'ntznl8k8v4441', '6kt8kjcsbvgy', 'GIgZNlV', 'y3eqk0qy50131', '7gg0acsic0601', 'se07uft2yuoz', '017g65n', 'pse1bjizavx71', '7eje06pmyqp21', '83b4ar3b74m41', 'kdqbuobgznz21', 'tz9zetcqv4331', '4nk03i6m5hf21', '9goi2wlrpir21', 'f1qoeprmcc621', 'anwsfwkml0s11', 'lam318qg98p21', 'P2UoOKT', '9tecqfrx4gzy', 'xzutWfi', 'd1KtWTd', 'wjnvahagn6jy', '6EqGpU3', 'crqJIRp', 'hCMCipS', 'kKo6o', 'aiAKMDd', '5571cgifrv1z', '2wckp70uab131', 'alhuf9a0x4851', '4nlcuu19ypfa1', '3ntpruxgpw7a1', '1nakh3iis7ja1', 'szt09y87w9ja1', 'zx9yjoqbj7ha1', 'lq7k67r5owha1', '0gqyx8hxk9ia1', 'lj8mzytbfcv91', 'w1rqknpnjd3a1', '2ftyk9e5k3ma1', 'ocohdr7ojhfa1', 'o8pypual7ln91', 'hwo7sa8hccoa1', 'fpg8yfzo2ida1', 'c9g9ufycuxka1', 'rdomvznsp73a1', 'lhfsi2wrcida1', 'zghyjgy31xba1', 'KXdP6sB', 'farfut3r4ls91', '22toczwiqvka1', '0rdb8jiaxsia1', 'qdda3v9583da1', 'hsu4dfhfbjfa1', 'h0d2csc2a8ha1', 'xaj0odrs6mia1', 'qw5qt3ktv2ka1', '766opgot3uq91', 'y8sen18xsym91', 'pjwy7gk1fx891', 'XhbKR7t', 'caef78g57ng91', '732gh7u14k6a1', '8g6mas89rx091', 'c7uh1dhop2ca1', 'sdabi2ip4e4a1', 'dj8bxh0pq8ma1', '9qy6szxvqoca1', '9ymjjlg0nlx71', 'w6tsh7t5wah81', 'q9jtgamnfiu91', 'xz6zfpwx1a5a1', 'SRmnn1a', 'q6x5fqqnpwb91', 'rcuhwuz0w5y81', 'tyvm8sqzsc2a1', 'o08plexzg5r91', 'bysmfg2je28a1', 'vanh17f9yi591', 'fapz5i2frkv91', '0wyddvlqne4a1', '6gh9nwr416g91', 'n2stdkpt2z4a1', 'vwwt5jxu5zz81', 'cwh414rnnbx81', 'caq346s0b6j91', 'jIa45nS', 'o0ph8tzy8l0a1', 'agzwvjwqnb2a1', 'yf66d0hllhm91', 'zl42yv765c1a1', 'mrhk78avmer91', 'j1ne2kzppam91', '845gkm5qh1m91', 'rbfaxjiqa1l61', 'lp6afyrvs8v91', 'mycop04s5uw91', 'bnz2lrok27z41', 'jjqxi9k8fvk91', 'f8d8yca0f5581', 'kug973taf0l91', 'ydupv2ims3g91', '00r7mfcb88i91', 'zz1podf8qev91', '1pxod9yqho491', 'e1yvfr2apjna1', '7j7achx39joa1', 'e7hyopnq0una1', 'kn3uof74i5la1', '4vh6sbx8v1ka1', 'b9159b0u9wna1', 'fnehdpljcuna1', 'hcukcq9qzqla1', 'few99xswlaaa1', 'q8z1mtq31kga1', '0xak8hu1uyja1', 'rzi1ktwesfga1', 'w44k5skyfzja1', 'jhuuxn0n1r4a1', 'sfp67pk7lzha1', 'xljasvykt5ia1', 'hb38e6f4vi7a1', 'wbosfcw6yqia1', '8oc2t9ebiwfa1', 'wqMfiLS', 'zm50ctrk05oa1', 'wiae4jzmkyna1', 'xmzfwjtcaz8a1', '47gji9euob7a1', 'xb7f011zzqma1', 'rd7r58rohqba1', 'yli6e8hdtjla1', 'ev8bu1tos6ja1', 'rkxotuoil2ka1', 'ndyrxwvu0i2a1', 'ejowgbscpgoa1', 'lcuejfooyhka1', '0w9vm7ub8pna1', 'yznhgkz2p3ca1', 'jevbs35s8vga1', 'eglvyq2nj2da1', 'em2vsoods0ma1', '90ey4rbvvuka1', '9pwr4pkn9ula1', 'g14g7nnx73la1', 'e2jgm17uzbda1', 'git4sn7g1xba1', 'lyrglzr1fnia1', '1yj62u5iuyga1', 'qcakb5ro3sga1', '96sqwvfobuja1', 'z4xef6gukxfa1', 'm9fik2wjz65a1', 'kb32tco2coaa1', 'bc3n9e5rsoja1', 'scjmz3wftoda1', 'pd4mabx7z06a1', 'umcllybo2gma1', 'msugrw7rc8ha1', 'xzrexstw7mna1', 'tujmhqrw41y91', 'oqxorkfi71t91', 'aulxu2tuetma1', 'qmbgp918emga1', '9oqu55zuoffa1', '0bi55e3xfa3a1', 'gpy9fkjblwda1', 'zz1jpxd4mraa1', 'bobpeycttlaa1', 'hed8trfmjica1', '5a290bthg2ha1', 'rkhcwrrixtfa1', 'mb3lkycze7ga1', '847z9w05guga1', 'b2yxpb1vw38a1', 'adjq7ljzcgia1', '2avlmr2xboba1', '38oobfyij0ja1', 't7huw5p4voca1', 'u7o1i4mhyl0a1', 'xfrageaspfga1', 'l334vxm0e1ma1', 'whxrvnbhjnha1', 'zfmtbkcf7sja1', '8ajdgds502691', 'i33qoky9ogi81', 'h7342ztgcsla1', 'kwtgc0iaqgfa1', 'ria98orrbi391', 'dd1pi3hapv8a1', '9s6iqhnfddba1', '0i4rtn251qy81', '507fn6re8b9a1', '0zgbtlnyo49a1', 'lahjodbwfgv91', 'ncmi073fyfe71', 'qr93tg4gj33a1', 'xkg0q0rwwnr91', 'n9mrbcysye0a1', '8uljk1kbx86a1', 'kutiabfmnwg61', 'eb4o0vmfcbm91', '4cbutr9w3ww91', 'kjib3u2atui91', 'a8kl37s6rzt91', 'jvs5xn516g6a1', 'c8xy773wfku91', 'ktxsd29b2pw91', 'rhuhz0wzh1v91', 'vpflv2ql98x91', '3rnpf92v9jj91', 'tcv13g5pybc61', '9xfimf2nbiq91', '25bcgpr5hri51', 'hgad56iki5z41', '10ilgnyyz3n41', 'eUsQqBU', 'c93f5xey8ta41', 'tv5aluovag341', 'TsdsBVC', 'e3c2d1b9hxw81', 'ax1et6qbw6y31', 'qri2vr0469c31', 'xyolosq9uzhz', 'cas0tyroqo511', '1f6isl2f7u2y', '25hfzxjvrfny', 'OExxgqQ', 'tgzhkc21j3411', 'oty51jx249j11', '41f09oznpdx81', 'wqmuivxsehxy', '1kOY6o8', 'r4st3r8', '7800qstow1u71', 'Cfw4FGi', '0gmIEYU', '3l0vdpuvm3ba1', 'lxviags1fr8a1', 'e7sblgpmvx3a1', 'ifldy36vzq2a1', 'byWvxp1', 'jdts62en711a1', 'vcarjdg4yaf91', 'lNnLPLA', 'cmd8zp1x9dr91', '0wp4eahc7fia1', '021cau8jn1o91', 'sktn93grxmaa1', '4n5rowrlxmfa1', 'zmhlkk2gl9w81', 'gbkczrsdxafa1', '2l7fkjzgjqha1', 'a2op88nz41fa1', 'adlq79eqaffa1', 'eayjh8n4wq7a1', 'o112bh6ei4t71', '3t1k0qo2d7l81', '04ddr6jhlj191', '3he5xmamgmb81', 'cx0e6ek6miga1', 'pqpgcpcqkrd91', 'mc0ctmts7a271', '3z3jpeirnz591', 'qgi9579igxx71', 'b3v8fgeillp91', 'zcoegu2j7wh91', '6bgcRg2', 'bq7lxnz7otg61', '4qb07zvgxuf81', 'n7u8ei35rgx91', '92xdobs5xpn91', '6bmivdtxj6b81', '726iym8m09f51', 'q8rxfgr3hzv61', 'qvai62yebma91', '35i0dynfop641', 's6hblog66n891', '7r5oimccq4t11', 'jqjqod5synl61', 'n57l2xxt86b91', 'f39flnhg3io61', '7yx9v1my77t61', 'slwdh68fb5s61', '7a9jiza6o6y31', 'iv616si36h761', 'cmwjkuu7r6c61', '684p8s9hjbt51', 'uuhn7p8dkbe41', 'yto8mo7evmw31', 'bnpw38umej961', 'HLPO6WP', '6lgnd5sv78o51', '1uhvegtbwv271', '1yc5l8mpmb351', 'RRxfDJ0', 've0w7t9iwpc51', '0pkw12c637l51', 'q8u0w55r63r21', '2k1ctro0qvr41', '3zedrv1jt3841', 'kk226bjo1rd51', 'px8ql9bvvyr41', 'utdr4l88lla91', 'yp0o8kkwdc091', '8avmc6cov5r11', 'sm9bua4by6na1', 'GMuT0EU', 'jnwlamzagy5a1', 'mBGI1s5', 'b9ybkz2gck6a1', 'p5ye5b0d3mka1', 'u8a1s70nzoq91', 'jsxdtjl94oj91', '4k5g6jdzlj5a1', 'ol3kjtcny8d91', '5tjy4mo96b6a1', 'uy2kn6z3hu561', 'arm9kdfsntx51', 'qegdqge5ogg81', 'b1mn4wofnjc81', 'vilm2mi56wx61', 'ns41ee2g0k891', 'zplidagbqpe51', '40jvvdxu56x51', 'dmdesc3s9ls71', 'TkB1Apo', 'i12do3p0l1f41', 'zry4uruby6z21', 'q8c2oytmlku41', '0aa3xc4y3mk41', '9rtntamg9li41', '9z611c1b0a371', 'h0830cnb40x61', 'bg3c8mecm2r61', '0u1ejsrbumj61', 'jixeqf3hztj61', '1pg6pue727l61', 'h13g83slxuy31', 'w4uZVch', 'aagdx8gq4lp41', 'h3lcwtgxz6y41', 'wb8cnozfsui11', 'tqk4rkua1q151', 'xxvhf25gw7p41', 'xcu33uhubme41', '3gtn8w3aigo41', 'neop85nyc9t41', 'M5cnrY2', 'onhmeb0be4p51', 'B0OSj1l', '1sqxt5i56gv41', 'p940hrubq6w41', 'psvt7xzol8v41', 'mzkgchj1s8641', 'fzaqr3l5ipo41', 'vt3prbvis4241', '95ueyv3vrnp41', 'q1vikbvuet441', 'z3ryhq7qm3n41', '0uapuqi1cgq31', 'vbw7s2bkibu31', '8xasnjdymnj31', 'nz8vwmcmcgp41', 'a73nxc4098231', '70b5n8b2wvt31', 'O90zgum', 'a5w9h876up531', 'b9qfv7brzb141', '9nyphxcyyfz21', 'x4y5o1fy0q921', 'KNXld4x', '9zbrpxyrnt431', 'k8uywewf5lz31', 'ffg0J', 'ynz1nyg07ko11', 'vu48rqdtokcz', 'n4a24ofcmwn21', 'm59ggk5vvew21', 'kd4ycyw3ine21', 'rcuxayehtla11', 'xfe52s737oz21', 'tcs2YkG', 'NAuc5W1', 'pnyi25dwuetz', 'hjndob0nebb11', 'gsair0hfkcvy', 'o2tfdysbggvz', 'zcx8w52pd4c91', 'kai4vu9hifia1', 'wubbf2u0l3fa1', '378h6v4g65h91', '1Kacbyd', 'qhv4agkb3pu81', '043oslginu291', 'z5kjb46xe0g71', 'QdEKH9X', 'qgwmybowsf691', 'av1qpce6tyx81', 'c5qhymj8e7u41', 'zbpcpk84etz81', 'ZhAK5gK', 'q1o5op4ci8t41', '52ayeccdk1d41', 'qc06ut71e4w31', '4gli9i3b5lm01', 'k3h4as7gvjc31', 'z1kxe2c4v2lz', 'ub5t1f4xd76z', '3b2l2rtq2w431', '78t1p0cyct511', 'gcet9mt03x831', '4metagndertz', 'UQzGiAP', 'jdppAc9', '4gpaxyarjgky', 'pwkj5m5lr0m01', 'anzsh1ego24z', '27prcxib68vy', '9p8lbgbuc5761', 'YCqkW6W', 'q7lenh3endn81', 'py3e0h9glw7a1', '5xaIhrw', 'd3dq1m1mjzq61', 'd5kxsn0aonn61', '5DFadUz', 'lt5r1k1mdfry', 'x7a401q598ga1', 'p8fojnv7w6ja1', '1uxwir1epega1', 'i61vyqkcelea1', 'xrb77qpbqu7a1', 'gp0s790h8mma1', 'kl6tf6a7q0la1', 'fofyze8etar91', 'sws8r3red1ga1', 'mitiblflx5aa1', 'x6tyoy9o9bga1', 'utvl52wpegea1', 'gw96j51naada1', '3ytyzkq5fmea1', 'km2h1hg6biaa1', 'ys78x9690eg81', 'y3igoin600d41', 'uqi8nl2i91v41', '8u8p874pqdv91', 'dkubjyrt9fn91', 'dc5ekta022r91', 'dvphnpwqz1n91', 'f6n6thvs32m91', 'pnh75x31e4021', 'vkg5thkliwk61', 'yh3755k39q731', 'rk0alpbdf2y41', 'wckrcb0elgd31', 'dg2oc7gdgta91', '1e7lel2fx5b71', 'n8gs5tzonuj51', 'jawa7vkwfq341', '82wmad8llgd41', 'tm6i129iobb41', 'afdkk46nexc41', 'dyqnfdplzc331', '63q9pu78yf951', 'zlk8bt4xv5451', '2eb9e5g1b5651', '3wm7pjcbs6g41', 'r5tf78nw13y21', 'vwr8rp1hzrf21', 'qg4o9hlfj9p31', 'ebfwMZf', '5qojmstklov31', 's5ney21n64q61', '15zy9ms6snj61', 'kiypt2cst6az', 'vfpo9090x5711', '6DJaapC', 'xjb23c8muv4x', '1ttmysw41g851', '4lg6hip3zzb11', 'ew7nkjmc69c01', 'dogs_fb', 'FTmJ68i', 'syg07n9zwhpy', '56y71f9yhui91', 'bupqli5momoa1', 'w7iq1r4x6m0a1', 'pez8dq3jcsda1', 'tcjox6re27ba1', 'n1mashs4fup81', 'd8qi1h7ov15a1', '2WCqnXd', 'k0i0frdotl461', 'w0fxl2m89wt61', 'ktkab6hlg2871', 'mm2k7z7s1ac51', '31inht441id91', 'rof4dlckwgo41', 'y63i57p00f341', 'ffog6eyg1cwz', 'rdak2nwvj0o31', 'y68vrm7xzcv31', 'yhmoyrcngwa31', 'lp26pvkkuhv21', '89xb6twxmkz11', 'zy9lozccbm131', 'gm61rjmousyz', '8370L', 'A9MF8eH', 'ilr0sw7zv7s41', '8pGng5Y', 'nxi49m1rlbja1', 'y0xrm3tgg02a1', 'glqemduahq0a1', '52vwi0btijx81', 'td4c0lowchw81', 'x3lt4et248z71', 'vj7xek6magm81', 'lrkhbllna5ma1', '8z9qfbnhz6391', '1ypuosi9eyca1', '7z7k07gybo8a1', 'vwg2i4l653z81', 'rcdo9wk2mgp91', '71bvc1zgdpga1', '9jhic2bovq271', '828cmra5y7x71', 'foe7rg8zpux91', 'x7t0su53gt981', '8vjkjt9r6mx91', '90m6ic6ta3ga1', '4oidi5wrvhs91', 'sgbsqd06hsj11', 'cdij839kdjf61', 'es4vdr62r7l11', 'krue1dfo7el21', 'tu06x5tkw6a91', 'a239d1owxyi91', 'q5dosqkwnqg61', 'ypmypaujpqx91', 'ikoupk3q80v61', 'ok0lwtqges691', '9exzjr5eeu891', 'endnjuk6uqv61', 'pqe1lxsuij3a1', '8q3b1wy2ifr91', '6vo2wth5pal41', 'pekzr39qz0z21', '0ztpptovqws91', 'Pf0eFK4', 'vi1846bes3n91', 'e2unmxceunt91', 't7k5chxq0z861', '9bdvua1hzrc91', 'msd33ftifjd31', 'ikoal3sk0wq51', 'ek7ao9ij02v81', 'wwxn7v37zrj51', 'knk1nyql4zp11', 'ghd6q76x9ep01', '6oqnhgpdn5c91', 'a1md0kxd1u921', 'brknszbkumoz', '823evvmtkq451', '8ah6yv2heka41', 'azo2871x2hd41', 'aqu3ircf8lm51', 'd5sslcfw0b841', 'fjsdy5i8z0231', 'sft19d25if031', 'dpr7mrph8qr41', 'lbgtgov2ze691', '0wr0qzonjop21', '6n40uzwgwkd21', 'v1ac90qrnx001', '2dwt10ad33241', '6ejlvco8ybm11', 'wqxehbbcaf391', '3cb9pwhsy4941', 'bslo0j38q9h11', 'ffuc2mxel9i21', 'r6jqpl49opr21', '2kc66fgfc7e51', '32tn82jztgca1', 'c2va2mpulnoa1', 'xpuan7uacega1', 'tj70v7x4imha1', 'vyodby7rhqea1', 'egh2xm9ev71a1', 'd0y8e1qiybga1', 'nv12y1q8zfo91', 'yz8ybnm72h7a1', 'xmlofb5pkn0a1', 'h08nzhxir2aa1', '4kqps8csrpda1', 'q9qcsl28tr1a1', 'ck5sv0wh9u6a1', 'd7hp819kl86a1', 'hl0rmzni4o8a1', 'nv42r97mbrz91', '74dgpzkthjo91', 'szsz9brq7i991', 'ht56sh7h3tz91', '2ujyuiswrlx91', 'c2gpMLQ', 'o1sdywh47zba1', 'az3igv9u3gu91', '41ytanxip52a1', '52hz76xcykj81', 'rud7ntaqj3n91', 'yttt56pqvos91', '1xi938f09hna1', 'rh5tsfi844i91', '2sxb9x93e3491', 'hihf7s6e8fy81', 'iwqxjc1rlwu91', 'b5adw5k5x8n91', 'w4gcs81h8tla1', 'b30avzw8gmm91', 'i0b0p472grla1', 'w22wj449ypj91', 'oG1Wlly', 's2oj0hvijwia1', 'ows9ms6z9yi91', '5g3m7qqk9ck91', '54md3mdy74t81', 'o765l6ht4u491', '6bys78wg80k91', '24zkk2lilob91', 'd1smw0n9nwe91', 'nm2c7qhs8vp91', 'y61sk6bziwc81', '2tj3wg83nf591', '2dq50lmpa0n91', '9ejvsf6imi791', 'mel9p7m9ce491', '92a0419uaps81', 'o65bbgpecy991', 'RwTKgD9', 'lem4o53pyxn81', 'kowzyxwo4t491', '6rch4qpvxg291', 'xypblteslf591', '9tnddt38b6o81', '6vx4nxydkn3a1', '0ddtho2r5xx81', 'yr0oawejmg091', 'tn3ej7alont81', 'trjl8v0y3lm81', '3uo2k8drfl791', '6onwodd73jv81', 'qcr2gfopxjc81', 'j60cn87f2fp81', 'v27smgv011v71', 'nzkyti1pgbu81', '22epo1nk3yt91', '1xyogz9k1uo81', 'cmrz21vqm4g71', '8susnxqurhj81', '7i541wzzphw81', '6uiikppy6nw71', 'gIYFmft', 'b9w0wszpjzha1', 'fkh818hzeiea1', 'clsq70dx4hha1', '6915y6b9fwfa1', 'hvm4iz9ug5ca1', 'ECt78tf', '75w9h16l1s5a1', 'me00sbpublla1', '5nf62ckv0rr91', 'eqlvxtfx20s91', '050jqdbcev791', '8kkqm646p7ia1', 's5vz8ewfrnla1', '04rajrlhi9j91', 'mbptmzg4fxg91', '5ikc81m268ma1', 's2mp5zzt40i81', 'uvbp7lhbg3591', 'urc5bjncs5v91', 'ywp4x0e0u1ha1', 'dril6skt9o1a1', '4isxgzvkx1w81', 'h5mj2w3mp4781', '5wdvuluyvql91', 'f5426qofoew91', 'pimy5b2gxlba1', 'uvzr47ubtnt91', '71n9zwoc7dr61', 'sgie9saqn5c71', 'fdd7q4lu0wh91', '8b4r9ikm3ny91', 'j93ybhfz2bp31', 'i5j5uw8n1jj91', 'pq0ittmswtc91', 'ilffagxoosr61', 'fvpjrn146po61', '0z3lxp9jov461', '7htoh9wzuja91', 'wj5hjcxv3db91', 'xsswrkip3db91', 'n6qu3pt0mao11', 'i2KJICq', '654ub3d7fct91', '9wlz853sk7tz', 't78pq26vluj91', 'jbdr72h782m61', 'ts82cijol4r81', 'krgzpldmlcx21', 'me5rfxpr63m61', 'cle2sr6nwwc61', 'hsemxhoi6yb81', '1etl0rpgp2r81', 'u5epfhurw1n81', 'vd5ogbt634v51', '7oa2mxrcv2461', 'dack7mfhc3s81', 'jbj9xrbkxil91', 'ne75wephduz51', 'u7clmg29rzp11', 'zqvnj26jbuc91', 'hx7d291u8sa31', 'mim427oxkdi91', 'q1vqryx66nz51', '0e5pp3whwn881', 'fwrifv4axjz71', 'susfn6lmaq451', 'chp1ehj6dhb51', '87e0feufqt151', 'p36q50u6x6q31', 'k695h8thnfb51', '2sdhe3y7cwe41', 'n3dn66qfqy251', 'Nn0ohMI', '4ubs3csknnf81', 't2e6ytzqb5601', 'j3w1xllat5b31', '61maxdse4as41', '7nfc7wyq7r451', 'vt1b5xnwb9t41', 'skq3gmahx3k41', 'lzexns40k3v21', 'w4rzww8k4t741', '0nhuonano6n21', 'y28qpxn3n3la1', 'q19jnuaykc9a1', '4golfpp4m70a1', 'yyccdnf52uja1', 'djwa9ittkaaa1', 'nbn0bmgcxq8a1', '2d9s4gu9csu91', '7boai95xawh81', '98md8yedr0d91', 'LB5RQoj', '7dfnu40r7dj81', 'vn2y6s42c1n51', 'oiz5ss1ak6g81', 'm557xkt92uf71', '9zwfaf7mykh51', 'ty7jm7up1m561', 'jxsoy626wt641', 'bavigy0v83u41', '5tpzvb3rxnl61', '8nB12Yh', 'ixu1bpcl8in51', 'q0fci642j0b81', 'slwsvqnfada41', 'ck2IweJ', 'dqehakbdos641', 'rfiggohg4bs21', 'YaRD8Wk', 'xmaarh07oy711', 'luwjlgecn2o41', 'vzd8u4d81yn41', 'gZm4Dm4', 'ncuqwlig2wb91', 'owvqk8xj44u41', 'c1238zk7h9w41', '29d7eb3h74u41', 'shv3lpa7h8141', 'azsh3j1kuz741', 'LEYfU78', 'rht086h5118z', 'LxKI2NP', '9an2fv0nzyuz', 'wcuywol2f1nz', 'ltedpxx433a81', 'fylk51mtdwky', 'b1ilf7wb83s21', 'rjugh6lrb8z21', 'zgn13bq2e4c21', '4q37cxjgzloz', 'q0nu4ub9cte21', 'AAI7th5', 'r55wedvz78c21', 'q7XrqLX', 'sa2u4w0g9ni21', '6sj9uucgni821', 'i9n526vuaf821', 'yIYrylo', 'kgqhhn3miqm21', 'q0nzqkp48qf11', 'fflu0tme1wp11', '3gWk0LU', 'c62km90k35fz', '380so03g5hcz', 'cda5tqlkjuxy', 's21gwjgdjjiz', 'pdcg0l9jpwm11', 'ljxkwgvyqp2z', 'MH4ygJ5', 'Kbh3cXZ', 'pTLy2qF', 'Lj3kq71', '79AUsyf', 'AHod89v', 'QWbdKVH', 'gZlQ5', 'UkDQt', 'ilmi9l5uncma1', 'dicdu0wo1mja1', 'df419ytz1rd81', '63a6ul9vb0y91', 'fkv3x0s1h0w91', 'slajxi4wa85a1', 'TdfbSDY', 'h3nwsdx9pbl91', 'zyqhbn45zcs91', '76ectxmtb9h91', 'ln5vr2g1sdj71', 'qi7dj6xlcjr91', '7m56m5f8iw2a1', 'l4xdcgooegy91', 'id9orajb8vl91', 'izh3gcvcn7961', 'QkaOBqZ', 'cy7a4dllt0811', 'gtsownzixki91', 'q4uertt2iiq51', '7tkyj8yg95151', 'kg2PUtU', 'b8f9ey5trza41', '0c4nyeypow641', 'i2yfnsky4p131', '27zqn86317741', 'g101pcuf8b121', '4aysfatj1q721', 'u05ws9776s121', 'e0u9iq6v89c31', 'p4ikybafo1811', '6hs27kwf7wb21', 'ds93rbeyt0h31', 'wh87xmhewsw21', 'uvSSr1U', 'zfj53afbig511', 'y7fgj57wcmn11', 'pzf6lazry7b21', 'ct5c6py9kbt01', 'ZNGijL6', 'talxzxhn9hb01', 'ZhDaI8O', 'Q2pnX', 'jl6a9nf63dl31', 'ITe3m14', 'AQAmNui', 'gcryo8dl12bz', 'h1CQ07z', 'EG8PXMKh', 'ujoolyg4s3e31', 'r9yf9Pw', 'xw0grog82o501']\n"
          ]
        },
        {
          "output_type": "error",
          "ename": "IndexError",
          "evalue": "ignored",
          "traceback": [
            "\u001b[0;31m---------------------------------------------------------------------------\u001b[0m",
            "\u001b[0;31mIndexError\u001b[0m                                Traceback (most recent call last)",
            "\u001b[0;32m<ipython-input-55-8b3eb9b3c700>\u001b[0m in \u001b[0;36m<cell line: 19>\u001b[0;34m()\u001b[0m\n\u001b[1;32m     18\u001b[0m \u001b[0;34m\u001b[0m\u001b[0m\n\u001b[1;32m     19\u001b[0m \u001b[0;32mfor\u001b[0m \u001b[0mi\u001b[0m \u001b[0;32min\u001b[0m \u001b[0mrange\u001b[0m\u001b[0;34m(\u001b[0m\u001b[0mlen\u001b[0m\u001b[0;34m(\u001b[0m\u001b[0mx\u001b[0m\u001b[0;34m)\u001b[0m\u001b[0;34m)\u001b[0m\u001b[0;34m:\u001b[0m\u001b[0;34m\u001b[0m\u001b[0;34m\u001b[0m\u001b[0m\n\u001b[0;32m---> 20\u001b[0;31m   \u001b[0mimages\u001b[0m\u001b[0;34m.\u001b[0m\u001b[0mpop\u001b[0m\u001b[0;34m(\u001b[0m\u001b[0mx\u001b[0m\u001b[0;34m[\u001b[0m\u001b[0mi\u001b[0m\u001b[0;34m]\u001b[0m\u001b[0;34m)\u001b[0m\u001b[0;34m\u001b[0m\u001b[0;34m\u001b[0m\u001b[0m\n\u001b[0m\u001b[1;32m     21\u001b[0m   \u001b[0mlabels\u001b[0m\u001b[0;34m.\u001b[0m\u001b[0mpop\u001b[0m\u001b[0;34m(\u001b[0m\u001b[0mx\u001b[0m\u001b[0;34m[\u001b[0m\u001b[0mi\u001b[0m\u001b[0;34m]\u001b[0m\u001b[0;34m)\u001b[0m\u001b[0;34m\u001b[0m\u001b[0;34m\u001b[0m\u001b[0m\n",
            "\u001b[0;31mIndexError\u001b[0m: pop index out of range"
          ]
        }
      ],
      "source": [
        "images_name = []\n",
        "labels = list(clustering.labels_)\n",
        "print(set(labels))\n",
        "images = list(csv.iloc[:,1])\n",
        "print(images)\n",
        "dir = \"/content/drive/MyDrive/GroupProject/Images/\"\n",
        "x=[]\n",
        "for ind in range(len(images)):\n",
        "\n",
        "  if os.path.exists(os.path.join(dir, images[ind])+\".jpg\"):\n",
        "        images_dir = os.path.join(dir, images[ind])+\".jpg\"\n",
        "        images_name.append(images_dir)\n",
        "  elif os.path.exists(os.path.join(dir, images[ind])+\".png\"):\n",
        "        images_dir = os.path.join(dir, images[ind])+\".png\"\n",
        "        images_name.append(images_dir)\n",
        "  else:\n",
        "    x.append(ind)\n",
        "\n",
        "for i in range(len(x)):\n",
        "  images.pop(x[i])\n",
        "  labels.pop(x[i])"
      ]
    },
    {
      "cell_type": "code",
      "source": [
        "images = list(csv.iloc[:,1])\n",
        "labels = list(clustering.labels_)\n",
        "ss = [x + '.png' for x in images]\n",
        "# Combine 'images' and 'labels' into a DataFrame\n",
        "df = pd.DataFrame({'Image': ss, 'Label': labels})\n",
        "\n",
        "print(df.head(10))"
      ],
      "metadata": {
        "colab": {
          "base_uri": "https://localhost:8080/"
        },
        "id": "MY3BSsYXjlAZ",
        "outputId": "38fe9349-be01-4c05-a645-c181a12cd05f"
      },
      "execution_count": null,
      "outputs": [
        {
          "output_type": "stream",
          "name": "stdout",
          "text": [
            "               Image  Label\n",
            "0  q5hxiq9tljoa1.png      2\n",
            "1  6g0wuj582vka1.png      2\n",
            "2  i3uzxp5qe7ia1.png      2\n",
            "3  n8knay8tweoa1.png      2\n",
            "4  6ehwjtoho3la1.png      2\n",
            "5        3rExkHp.png      1\n",
            "6        vn9qd2v.png      1\n",
            "7  xoostvr1ieoa1.png      2\n",
            "8  hwcaydokvvaa1.png      2\n",
            "9  07ab0z57x4ca1.png      2\n"
          ]
        }
      ]
    },
    {
      "cell_type": "code",
      "execution_count": null,
      "metadata": {
        "id": "KOWJjwrheY8B"
      },
      "outputs": [],
      "source": [
        "import tensorflow as tf\n",
        "import numpy as np\n",
        "\n",
        "image_names = images_name\n",
        "\n",
        "train_images, test_images, train_labels, test_labels = train_test_split(image_names, labels, test_size=0.2, random_state=74)\n",
        "\n",
        "\n",
        "\n",
        "# Define some hyperparameters\n",
        "batch_size = 2\n",
        "epochs = 10\n",
        "num_classes = 3\n",
        "\n",
        "# Define a function to load an image given its filename\n",
        "def load_image(filename):\n",
        "    img = tf.io.read_file(filename)\n",
        "    img = tf.image.decode_jpeg(img, channels=3)\n",
        "    img = tf.image.convert_image_dtype(img, tf.float32)\n",
        "    img = tf.image.resize(img, (224, 224))\n",
        "    return img\n",
        "\n",
        "# Define a dataset from the training images and labels\n",
        "train_dataset = tf.data.Dataset.from_tensor_slices((train_images, train_labels))\n",
        "train_dataset = train_dataset.shuffle(len(train_images)).map(lambda x, y: (load_image(x), y))\n",
        "train_dataset = train_dataset.batch(batch_size).repeat(epochs)\n",
        "\n",
        "# Define a dataset from the testing images and labels\n",
        "test_dataset = tf.data.Dataset.from_tensor_slices((test_images, test_labels))\n",
        "test_dataset = test_dataset.map(lambda x, y: (load_image(x), y))\n",
        "test_dataset = test_dataset.batch(batch_size)\n",
        "\n",
        "\n"
      ]
    },
    {
      "cell_type": "markdown",
      "metadata": {
        "id": "IzH_tl9zglQF"
      },
      "source": [
        "## Personalized CNN"
      ]
    },
    {
      "cell_type": "code",
      "execution_count": null,
      "metadata": {
        "colab": {
          "base_uri": "https://localhost:8080/",
          "height": 404
        },
        "id": "qTeWbo7EYAbb",
        "outputId": "b1238b8b-35e2-4887-c4a0-6bdef50ad80e"
      },
      "outputs": [
        {
          "name": "stdout",
          "output_type": "stream",
          "text": [
            "Epoch 1/10\n",
            " 31/300 [==>...........................] - ETA: 7:05 - loss: 4.2089 - accuracy: 0.3871"
          ]
        },
        {
          "ename": "KeyboardInterrupt",
          "evalue": "ignored",
          "output_type": "error",
          "traceback": [
            "\u001b[0;31m---------------------------------------------------------------------------\u001b[0m",
            "\u001b[0;31mKeyboardInterrupt\u001b[0m                         Traceback (most recent call last)",
            "\u001b[0;32m<ipython-input-38-3170e87289f2>\u001b[0m in \u001b[0;36m<cell line: 18>\u001b[0;34m()\u001b[0m\n\u001b[1;32m     16\u001b[0m \u001b[0;34m\u001b[0m\u001b[0m\n\u001b[1;32m     17\u001b[0m \u001b[0;31m# Train the model\u001b[0m\u001b[0;34m\u001b[0m\u001b[0;34m\u001b[0m\u001b[0m\n\u001b[0;32m---> 18\u001b[0;31m \u001b[0mhistory\u001b[0m \u001b[0;34m=\u001b[0m \u001b[0mmodel\u001b[0m\u001b[0;34m.\u001b[0m\u001b[0mfit\u001b[0m\u001b[0;34m(\u001b[0m\u001b[0mtrain_dataset\u001b[0m\u001b[0;34m,\u001b[0m \u001b[0msteps_per_epoch\u001b[0m\u001b[0;34m=\u001b[0m\u001b[0;36m300\u001b[0m\u001b[0;34m,\u001b[0m\u001b[0mepochs\u001b[0m \u001b[0;34m=\u001b[0m \u001b[0;36m10\u001b[0m\u001b[0;34m)\u001b[0m\u001b[0;34m\u001b[0m\u001b[0;34m\u001b[0m\u001b[0m\n\u001b[0m",
            "\u001b[0;32m/usr/local/lib/python3.9/dist-packages/keras/utils/traceback_utils.py\u001b[0m in \u001b[0;36merror_handler\u001b[0;34m(*args, **kwargs)\u001b[0m\n\u001b[1;32m     63\u001b[0m         \u001b[0mfiltered_tb\u001b[0m \u001b[0;34m=\u001b[0m \u001b[0;32mNone\u001b[0m\u001b[0;34m\u001b[0m\u001b[0;34m\u001b[0m\u001b[0m\n\u001b[1;32m     64\u001b[0m         \u001b[0;32mtry\u001b[0m\u001b[0;34m:\u001b[0m\u001b[0;34m\u001b[0m\u001b[0;34m\u001b[0m\u001b[0m\n\u001b[0;32m---> 65\u001b[0;31m             \u001b[0;32mreturn\u001b[0m \u001b[0mfn\u001b[0m\u001b[0;34m(\u001b[0m\u001b[0;34m*\u001b[0m\u001b[0margs\u001b[0m\u001b[0;34m,\u001b[0m \u001b[0;34m**\u001b[0m\u001b[0mkwargs\u001b[0m\u001b[0;34m)\u001b[0m\u001b[0;34m\u001b[0m\u001b[0;34m\u001b[0m\u001b[0m\n\u001b[0m\u001b[1;32m     66\u001b[0m         \u001b[0;32mexcept\u001b[0m \u001b[0mException\u001b[0m \u001b[0;32mas\u001b[0m \u001b[0me\u001b[0m\u001b[0;34m:\u001b[0m\u001b[0;34m\u001b[0m\u001b[0;34m\u001b[0m\u001b[0m\n\u001b[1;32m     67\u001b[0m             \u001b[0mfiltered_tb\u001b[0m \u001b[0;34m=\u001b[0m \u001b[0m_process_traceback_frames\u001b[0m\u001b[0;34m(\u001b[0m\u001b[0me\u001b[0m\u001b[0;34m.\u001b[0m\u001b[0m__traceback__\u001b[0m\u001b[0;34m)\u001b[0m\u001b[0;34m\u001b[0m\u001b[0;34m\u001b[0m\u001b[0m\n",
            "\u001b[0;32m/usr/local/lib/python3.9/dist-packages/keras/engine/training.py\u001b[0m in \u001b[0;36mfit\u001b[0;34m(self, x, y, batch_size, epochs, verbose, callbacks, validation_split, validation_data, shuffle, class_weight, sample_weight, initial_epoch, steps_per_epoch, validation_steps, validation_batch_size, validation_freq, max_queue_size, workers, use_multiprocessing)\u001b[0m\n\u001b[1;32m   1683\u001b[0m                         ):\n\u001b[1;32m   1684\u001b[0m                             \u001b[0mcallbacks\u001b[0m\u001b[0;34m.\u001b[0m\u001b[0mon_train_batch_begin\u001b[0m\u001b[0;34m(\u001b[0m\u001b[0mstep\u001b[0m\u001b[0;34m)\u001b[0m\u001b[0;34m\u001b[0m\u001b[0;34m\u001b[0m\u001b[0m\n\u001b[0;32m-> 1685\u001b[0;31m                             \u001b[0mtmp_logs\u001b[0m \u001b[0;34m=\u001b[0m \u001b[0mself\u001b[0m\u001b[0;34m.\u001b[0m\u001b[0mtrain_function\u001b[0m\u001b[0;34m(\u001b[0m\u001b[0miterator\u001b[0m\u001b[0;34m)\u001b[0m\u001b[0;34m\u001b[0m\u001b[0;34m\u001b[0m\u001b[0m\n\u001b[0m\u001b[1;32m   1686\u001b[0m                             \u001b[0;32mif\u001b[0m \u001b[0mdata_handler\u001b[0m\u001b[0;34m.\u001b[0m\u001b[0mshould_sync\u001b[0m\u001b[0;34m:\u001b[0m\u001b[0;34m\u001b[0m\u001b[0;34m\u001b[0m\u001b[0m\n\u001b[1;32m   1687\u001b[0m                                 \u001b[0mcontext\u001b[0m\u001b[0;34m.\u001b[0m\u001b[0masync_wait\u001b[0m\u001b[0;34m(\u001b[0m\u001b[0;34m)\u001b[0m\u001b[0;34m\u001b[0m\u001b[0;34m\u001b[0m\u001b[0m\n",
            "\u001b[0;32m/usr/local/lib/python3.9/dist-packages/tensorflow/python/util/traceback_utils.py\u001b[0m in \u001b[0;36merror_handler\u001b[0;34m(*args, **kwargs)\u001b[0m\n\u001b[1;32m    148\u001b[0m     \u001b[0mfiltered_tb\u001b[0m \u001b[0;34m=\u001b[0m \u001b[0;32mNone\u001b[0m\u001b[0;34m\u001b[0m\u001b[0;34m\u001b[0m\u001b[0m\n\u001b[1;32m    149\u001b[0m     \u001b[0;32mtry\u001b[0m\u001b[0;34m:\u001b[0m\u001b[0;34m\u001b[0m\u001b[0;34m\u001b[0m\u001b[0m\n\u001b[0;32m--> 150\u001b[0;31m       \u001b[0;32mreturn\u001b[0m \u001b[0mfn\u001b[0m\u001b[0;34m(\u001b[0m\u001b[0;34m*\u001b[0m\u001b[0margs\u001b[0m\u001b[0;34m,\u001b[0m \u001b[0;34m**\u001b[0m\u001b[0mkwargs\u001b[0m\u001b[0;34m)\u001b[0m\u001b[0;34m\u001b[0m\u001b[0;34m\u001b[0m\u001b[0m\n\u001b[0m\u001b[1;32m    151\u001b[0m     \u001b[0;32mexcept\u001b[0m \u001b[0mException\u001b[0m \u001b[0;32mas\u001b[0m \u001b[0me\u001b[0m\u001b[0;34m:\u001b[0m\u001b[0;34m\u001b[0m\u001b[0;34m\u001b[0m\u001b[0m\n\u001b[1;32m    152\u001b[0m       \u001b[0mfiltered_tb\u001b[0m \u001b[0;34m=\u001b[0m \u001b[0m_process_traceback_frames\u001b[0m\u001b[0;34m(\u001b[0m\u001b[0me\u001b[0m\u001b[0;34m.\u001b[0m\u001b[0m__traceback__\u001b[0m\u001b[0;34m)\u001b[0m\u001b[0;34m\u001b[0m\u001b[0;34m\u001b[0m\u001b[0m\n",
            "\u001b[0;32m/usr/local/lib/python3.9/dist-packages/tensorflow/python/eager/polymorphic_function/polymorphic_function.py\u001b[0m in \u001b[0;36m__call__\u001b[0;34m(self, *args, **kwds)\u001b[0m\n\u001b[1;32m    892\u001b[0m \u001b[0;34m\u001b[0m\u001b[0m\n\u001b[1;32m    893\u001b[0m       \u001b[0;32mwith\u001b[0m \u001b[0mOptionalXlaContext\u001b[0m\u001b[0;34m(\u001b[0m\u001b[0mself\u001b[0m\u001b[0;34m.\u001b[0m\u001b[0m_jit_compile\u001b[0m\u001b[0;34m)\u001b[0m\u001b[0;34m:\u001b[0m\u001b[0;34m\u001b[0m\u001b[0;34m\u001b[0m\u001b[0m\n\u001b[0;32m--> 894\u001b[0;31m         \u001b[0mresult\u001b[0m \u001b[0;34m=\u001b[0m \u001b[0mself\u001b[0m\u001b[0;34m.\u001b[0m\u001b[0m_call\u001b[0m\u001b[0;34m(\u001b[0m\u001b[0;34m*\u001b[0m\u001b[0margs\u001b[0m\u001b[0;34m,\u001b[0m \u001b[0;34m**\u001b[0m\u001b[0mkwds\u001b[0m\u001b[0;34m)\u001b[0m\u001b[0;34m\u001b[0m\u001b[0;34m\u001b[0m\u001b[0m\n\u001b[0m\u001b[1;32m    895\u001b[0m \u001b[0;34m\u001b[0m\u001b[0m\n\u001b[1;32m    896\u001b[0m       \u001b[0mnew_tracing_count\u001b[0m \u001b[0;34m=\u001b[0m \u001b[0mself\u001b[0m\u001b[0;34m.\u001b[0m\u001b[0mexperimental_get_tracing_count\u001b[0m\u001b[0;34m(\u001b[0m\u001b[0;34m)\u001b[0m\u001b[0;34m\u001b[0m\u001b[0;34m\u001b[0m\u001b[0m\n",
            "\u001b[0;32m/usr/local/lib/python3.9/dist-packages/tensorflow/python/eager/polymorphic_function/polymorphic_function.py\u001b[0m in \u001b[0;36m_call\u001b[0;34m(self, *args, **kwds)\u001b[0m\n\u001b[1;32m    924\u001b[0m       \u001b[0;31m# In this case we have created variables on the first call, so we run the\u001b[0m\u001b[0;34m\u001b[0m\u001b[0;34m\u001b[0m\u001b[0m\n\u001b[1;32m    925\u001b[0m       \u001b[0;31m# defunned version which is guaranteed to never create variables.\u001b[0m\u001b[0;34m\u001b[0m\u001b[0;34m\u001b[0m\u001b[0m\n\u001b[0;32m--> 926\u001b[0;31m       \u001b[0;32mreturn\u001b[0m \u001b[0mself\u001b[0m\u001b[0;34m.\u001b[0m\u001b[0m_no_variable_creation_fn\u001b[0m\u001b[0;34m(\u001b[0m\u001b[0;34m*\u001b[0m\u001b[0margs\u001b[0m\u001b[0;34m,\u001b[0m \u001b[0;34m**\u001b[0m\u001b[0mkwds\u001b[0m\u001b[0;34m)\u001b[0m  \u001b[0;31m# pylint: disable=not-callable\u001b[0m\u001b[0;34m\u001b[0m\u001b[0;34m\u001b[0m\u001b[0m\n\u001b[0m\u001b[1;32m    927\u001b[0m     \u001b[0;32melif\u001b[0m \u001b[0mself\u001b[0m\u001b[0;34m.\u001b[0m\u001b[0m_variable_creation_fn\u001b[0m \u001b[0;32mis\u001b[0m \u001b[0;32mnot\u001b[0m \u001b[0;32mNone\u001b[0m\u001b[0;34m:\u001b[0m\u001b[0;34m\u001b[0m\u001b[0;34m\u001b[0m\u001b[0m\n\u001b[1;32m    928\u001b[0m       \u001b[0;31m# Release the lock early so that multiple threads can perform the call\u001b[0m\u001b[0;34m\u001b[0m\u001b[0;34m\u001b[0m\u001b[0m\n",
            "\u001b[0;32m/usr/local/lib/python3.9/dist-packages/tensorflow/python/eager/polymorphic_function/tracing_compiler.py\u001b[0m in \u001b[0;36m__call__\u001b[0;34m(self, *args, **kwargs)\u001b[0m\n\u001b[1;32m    141\u001b[0m       (concrete_function,\n\u001b[1;32m    142\u001b[0m        filtered_flat_args) = self._maybe_define_function(args, kwargs)\n\u001b[0;32m--> 143\u001b[0;31m     return concrete_function._call_flat(\n\u001b[0m\u001b[1;32m    144\u001b[0m         filtered_flat_args, captured_inputs=concrete_function.captured_inputs)  # pylint: disable=protected-access\n\u001b[1;32m    145\u001b[0m \u001b[0;34m\u001b[0m\u001b[0m\n",
            "\u001b[0;32m/usr/local/lib/python3.9/dist-packages/tensorflow/python/eager/polymorphic_function/monomorphic_function.py\u001b[0m in \u001b[0;36m_call_flat\u001b[0;34m(self, args, captured_inputs, cancellation_manager)\u001b[0m\n\u001b[1;32m   1755\u001b[0m         and executing_eagerly):\n\u001b[1;32m   1756\u001b[0m       \u001b[0;31m# No tape is watching; skip to running the function.\u001b[0m\u001b[0;34m\u001b[0m\u001b[0;34m\u001b[0m\u001b[0m\n\u001b[0;32m-> 1757\u001b[0;31m       return self._build_call_outputs(self._inference_function.call(\n\u001b[0m\u001b[1;32m   1758\u001b[0m           ctx, args, cancellation_manager=cancellation_manager))\n\u001b[1;32m   1759\u001b[0m     forward_backward = self._select_forward_and_backward_functions(\n",
            "\u001b[0;32m/usr/local/lib/python3.9/dist-packages/tensorflow/python/eager/polymorphic_function/monomorphic_function.py\u001b[0m in \u001b[0;36mcall\u001b[0;34m(self, ctx, args, cancellation_manager)\u001b[0m\n\u001b[1;32m    379\u001b[0m       \u001b[0;32mwith\u001b[0m \u001b[0m_InterpolateFunctionError\u001b[0m\u001b[0;34m(\u001b[0m\u001b[0mself\u001b[0m\u001b[0;34m)\u001b[0m\u001b[0;34m:\u001b[0m\u001b[0;34m\u001b[0m\u001b[0;34m\u001b[0m\u001b[0m\n\u001b[1;32m    380\u001b[0m         \u001b[0;32mif\u001b[0m \u001b[0mcancellation_manager\u001b[0m \u001b[0;32mis\u001b[0m \u001b[0;32mNone\u001b[0m\u001b[0;34m:\u001b[0m\u001b[0;34m\u001b[0m\u001b[0;34m\u001b[0m\u001b[0m\n\u001b[0;32m--> 381\u001b[0;31m           outputs = execute.execute(\n\u001b[0m\u001b[1;32m    382\u001b[0m               \u001b[0mstr\u001b[0m\u001b[0;34m(\u001b[0m\u001b[0mself\u001b[0m\u001b[0;34m.\u001b[0m\u001b[0msignature\u001b[0m\u001b[0;34m.\u001b[0m\u001b[0mname\u001b[0m\u001b[0;34m)\u001b[0m\u001b[0;34m,\u001b[0m\u001b[0;34m\u001b[0m\u001b[0;34m\u001b[0m\u001b[0m\n\u001b[1;32m    383\u001b[0m               \u001b[0mnum_outputs\u001b[0m\u001b[0;34m=\u001b[0m\u001b[0mself\u001b[0m\u001b[0;34m.\u001b[0m\u001b[0m_num_outputs\u001b[0m\u001b[0;34m,\u001b[0m\u001b[0;34m\u001b[0m\u001b[0;34m\u001b[0m\u001b[0m\n",
            "\u001b[0;32m/usr/local/lib/python3.9/dist-packages/tensorflow/python/eager/execute.py\u001b[0m in \u001b[0;36mquick_execute\u001b[0;34m(op_name, num_outputs, inputs, attrs, ctx, name)\u001b[0m\n\u001b[1;32m     50\u001b[0m   \u001b[0;32mtry\u001b[0m\u001b[0;34m:\u001b[0m\u001b[0;34m\u001b[0m\u001b[0;34m\u001b[0m\u001b[0m\n\u001b[1;32m     51\u001b[0m     \u001b[0mctx\u001b[0m\u001b[0;34m.\u001b[0m\u001b[0mensure_initialized\u001b[0m\u001b[0;34m(\u001b[0m\u001b[0;34m)\u001b[0m\u001b[0;34m\u001b[0m\u001b[0;34m\u001b[0m\u001b[0m\n\u001b[0;32m---> 52\u001b[0;31m     tensors = pywrap_tfe.TFE_Py_Execute(ctx._handle, device_name, op_name,\n\u001b[0m\u001b[1;32m     53\u001b[0m                                         inputs, attrs, num_outputs)\n\u001b[1;32m     54\u001b[0m   \u001b[0;32mexcept\u001b[0m \u001b[0mcore\u001b[0m\u001b[0;34m.\u001b[0m\u001b[0m_NotOkStatusException\u001b[0m \u001b[0;32mas\u001b[0m \u001b[0me\u001b[0m\u001b[0;34m:\u001b[0m\u001b[0;34m\u001b[0m\u001b[0;34m\u001b[0m\u001b[0m\n",
            "\u001b[0;31mKeyboardInterrupt\u001b[0m: "
          ]
        }
      ],
      "source": [
        "# Define a CNN model\n",
        "model = tf.keras.models.Sequential([\n",
        "    tf.keras.layers.Conv2D(32, (3, 3), activation='relu', input_shape=(224, 224, 3)),\n",
        "    tf.keras.layers.MaxPooling2D((2, 2)),\n",
        "    tf.keras.layers.Conv2D(64, (3, 3), activation='relu'),\n",
        "    tf.keras.layers.MaxPooling2D((2, 2)),\n",
        "    tf.keras.layers.Flatten(),\n",
        "    tf.keras.layers.Dense(200, activation='relu'),\n",
        "    tf.keras.layers.Dense(num_classes, activation='softmax')\n",
        "])\n",
        "\n",
        "# Compile the model\n",
        "model.compile(optimizer='adam',\n",
        "              loss='sparse_categorical_crossentropy',\n",
        "              metrics=['accuracy'])\n",
        "\n",
        "# Train the model\n",
        "history = model.fit(train_dataset, steps_per_epoch=300,epochs = 10)"
      ]
    },
    {
      "cell_type": "code",
      "execution_count": null,
      "metadata": {
        "colab": {
          "base_uri": "https://localhost:8080/",
          "height": 243
        },
        "id": "a0kBjcREhu9X",
        "outputId": "c41a5701-f167-4e09-b393-24ddaaa2659d"
      },
      "outputs": [
        {
          "ename": "NameError",
          "evalue": "ignored",
          "output_type": "error",
          "traceback": [
            "\u001b[0;31m---------------------------------------------------------------------------\u001b[0m",
            "\u001b[0;31mNameError\u001b[0m                                 Traceback (most recent call last)",
            "\u001b[0;32m<ipython-input-17-5c3e82d73155>\u001b[0m in \u001b[0;36m<cell line: 3>\u001b[0;34m()\u001b[0m\n\u001b[1;32m      1\u001b[0m \u001b[0;32mimport\u001b[0m \u001b[0mmatplotlib\u001b[0m\u001b[0;34m.\u001b[0m\u001b[0mpyplot\u001b[0m \u001b[0;32mas\u001b[0m \u001b[0mplt\u001b[0m\u001b[0;34m\u001b[0m\u001b[0;34m\u001b[0m\u001b[0m\n\u001b[1;32m      2\u001b[0m \u001b[0;31m# loss, accuracy = model.evaluate(test_dataset, verbose=0)\u001b[0m\u001b[0;34m\u001b[0m\u001b[0;34m\u001b[0m\u001b[0m\n\u001b[0;32m----> 3\u001b[0;31m \u001b[0mprint\u001b[0m\u001b[0;34m(\u001b[0m\u001b[0;34mf'Test loss: {loss:.4f}'\u001b[0m\u001b[0;34m)\u001b[0m\u001b[0;34m\u001b[0m\u001b[0;34m\u001b[0m\u001b[0m\n\u001b[0m\u001b[1;32m      4\u001b[0m \u001b[0mprint\u001b[0m\u001b[0;34m(\u001b[0m\u001b[0;34mf'Test accuracy: {accuracy:.4f}'\u001b[0m\u001b[0;34m)\u001b[0m\u001b[0;34m\u001b[0m\u001b[0;34m\u001b[0m\u001b[0m\n\u001b[1;32m      5\u001b[0m \u001b[0;34m\u001b[0m\u001b[0m\n",
            "\u001b[0;31mNameError\u001b[0m: name 'loss' is not defined"
          ]
        }
      ],
      "source": [
        "import matplotlib.pyplot as plt\n",
        "# loss, accuracy = model.evaluate(test_dataset, verbose=0)\n",
        "print(f'Test loss: {loss:.4f}')\n",
        "print(f'Test accuracy: {accuracy:.4f}')\n",
        "\n",
        "# Plot the training history\n",
        "plt.plot(history.history['accuracy'], label='Training accuracy')\n",
        "plt.plot(history.history['loss'], label='Training loss')\n",
        "plt.title('Training history')\n",
        "plt.xlabel('Epoch')\n",
        "plt.legend()\n",
        "plt.show()"
      ]
    },
    {
      "cell_type": "markdown",
      "metadata": {
        "id": "wlQ4JMD3go2r"
      },
      "source": [
        "## Pre Trained Model\n"
      ]
    },
    {
      "cell_type": "code",
      "execution_count": null,
      "metadata": {
        "id": "uQnJe8hrDHDj"
      },
      "outputs": [],
      "source": [
        "base_model = tf.keras.applications.VGG16(input_shape=(224, 224, 3), include_top=False, weights='imagenet')\n",
        "\n",
        "base_model.trainable = False\n",
        "inputs = tf.keras.Input(shape=(224, 224, 3))\n",
        "x = base_model(inputs, training=False)\n",
        "x = tf.keras.layers.Flatten()(x)\n",
        "x = tf.keras.layers.Dense(200, activation='relu')(x)\n",
        "outputs = tf.keras.layers.Dense(num_classes, activation='softmax')(x)\n",
        "model = tf.keras.Model(inputs, outputs)\n",
        "\n",
        "# Compile the model\n",
        "model.compile(optimizer='adam',\n",
        "              loss='sparse_categorical_crossentropy',\n",
        "              metrics=['accuracy'])"
      ]
    },
    {
      "cell_type": "code",
      "execution_count": null,
      "metadata": {
        "colab": {
          "base_uri": "https://localhost:8080/"
        },
        "id": "1etnNjd1YHA-",
        "outputId": "c6ab23e9-073a-47c1-eefd-0fe29649d66f"
      },
      "outputs": [
        {
          "name": "stdout",
          "output_type": "stream",
          "text": [
            "Model: \"model_1\"\n",
            "_________________________________________________________________\n",
            " Layer (type)                Output Shape              Param #   \n",
            "=================================================================\n",
            " input_6 (InputLayer)        [(None, 224, 224, 3)]     0         \n",
            "                                                                 \n",
            " vgg16 (Functional)          (None, 7, 7, 512)         14714688  \n",
            "                                                                 \n",
            " flatten_2 (Flatten)         (None, 25088)             0         \n",
            "                                                                 \n",
            " dense_3 (Dense)             (None, 200)               5017800   \n",
            "                                                                 \n",
            " dense_4 (Dense)             (None, 3)                 603       \n",
            "                                                                 \n",
            "=================================================================\n",
            "Total params: 19,733,091\n",
            "Trainable params: 5,018,403\n",
            "Non-trainable params: 14,714,688\n",
            "_________________________________________________________________\n"
          ]
        }
      ],
      "source": [
        "model.summary()"
      ]
    },
    {
      "cell_type": "code",
      "execution_count": null,
      "metadata": {
        "colab": {
          "background_save": true,
          "base_uri": "https://localhost:8080/"
        },
        "id": "8ZRCxYmsYjfd",
        "outputId": "306ee1ab-dcbc-4c19-8d52-80b82c10488f"
      },
      "outputs": [
        {
          "name": "stdout",
          "output_type": "stream",
          "text": [
            "Epoch 1/10\n",
            "150/150 [==============================] - 25s 156ms/step - loss: 2.7567 - accuracy: 0.3733\n",
            "Epoch 2/10\n",
            "150/150 [==============================] - 22s 149ms/step - loss: 1.7881 - accuracy: 0.3533\n",
            "Epoch 3/10\n",
            "150/150 [==============================] - 25s 163ms/step - loss: 1.4468 - accuracy: 0.3500\n",
            "Epoch 4/10\n",
            "150/150 [==============================] - 23s 153ms/step - loss: 1.1302 - accuracy: 0.4167\n",
            "Epoch 5/10\n",
            "150/150 [==============================] - 24s 158ms/step - loss: 1.0289 - accuracy: 0.4482\n",
            "Epoch 6/10\n",
            "150/150 [==============================] - 21s 141ms/step - loss: 0.9184 - accuracy: 0.5767\n",
            "Epoch 7/10\n",
            "150/150 [==============================] - 23s 151ms/step - loss: 1.0271 - accuracy: 0.5133\n",
            "Epoch 8/10\n",
            "150/150 [==============================] - 23s 152ms/step - loss: 0.9683 - accuracy: 0.5500\n",
            "Epoch 9/10\n",
            "150/150 [==============================] - 26s 171ms/step - loss: 0.8307 - accuracy: 0.6221\n",
            "Epoch 10/10\n",
            "150/150 [==============================] - 21s 143ms/step - loss: 0.7063 - accuracy: 0.6633\n"
          ]
        }
      ],
      "source": [
        "history = model.fit(train_dataset, steps_per_epoch=150,epochs = 10)"
      ]
    },
    {
      "cell_type": "code",
      "execution_count": null,
      "metadata": {
        "colab": {
          "base_uri": "https://localhost:8080/",
          "height": 507
        },
        "id": "95aPWod_YpFo",
        "outputId": "ae464ccb-8ded-459b-a70a-a227cc720163"
      },
      "outputs": [
        {
          "name": "stdout",
          "output_type": "stream",
          "text": [
            "Test loss: 1.7340\n",
            "Test accuracy: 0.3631\n"
          ]
        },
        {
          "data": {
            "image/png": "[encoded data removed]",
            "text/plain": [
              "<Figure size 640x480 with 1 Axes>"
            ]
          },
          "metadata": {},
          "output_type": "display_data"
        }
      ],
      "source": [
        "import matplotlib.pyplot as plt\n",
        "loss, accuracy = model.evaluate(test_dataset, verbose=0)\n",
        "print(f'Test loss: {loss:.4f}')\n",
        "print(f'Test accuracy: {accuracy:.4f}')\n",
        "\n",
        "# Plot the training history\n",
        "plt.plot(history.history['accuracy'], label='Training accuracy')\n",
        "plt.plot(history.history['loss'], label='Training loss')\n",
        "plt.title('Training history')\n",
        "plt.xlabel('Epoch')\n",
        "plt.legend()\n",
        "plt.show()"
      ]
    },
    {
      "cell_type": "code",
      "execution_count": null,
      "metadata": {
        "id": "3GDXP2CQcQgY"
      },
      "outputs": [],
      "source": [
        "model.save(\"/content/drive/MyDrive/GroupProject/latest_weights.h5\")"
      ]
    },
    {
      "cell_type": "code",
      "execution_count": null,
      "metadata": {
        "id": "5QsJU1t4eoVT"
      },
      "outputs": [],
      "source": []
    }
  ],
  "metadata": {
    "accelerator": "GPU",
    "colab": {
      "provenance": []
    },
    "gpuClass": "standard",
    "kernelspec": {
      "display_name": "Python 3",
      "name": "python3"
    },
    "language_info": {
      "name": "python"
    },
    "widgets": {
      "application/vnd.jupyter.widget-state+json": {
        "031f0f34ce1343f9a78a28c6cde50ccb": {
          "model_module": "@jupyter-widgets/controls",
          "model_module_version": "1.5.0",
          "model_name": "DescriptionStyleModel",
          "state": {
            "_model_module": "@jupyter-widgets/controls",
            "_model_module_version": "1.5.0",
            "_model_name": "DescriptionStyleModel",
            "_view_count": null,
            "_view_module": "@jupyter-widgets/base",
            "_view_module_version": "1.2.0",
            "_view_name": "StyleView",
            "description_width": ""
          }
        },
        "0463f8015901443486ed641112d497c6": {
          "model_module": "@jupyter-widgets/controls",
          "model_module_version": "1.5.0",
          "model_name": "ProgressStyleModel",
          "state": {
            "_model_module": "@jupyter-widgets/controls",
            "_model_module_version": "1.5.0",
            "_model_name": "ProgressStyleModel",
            "_view_count": null,
            "_view_module": "@jupyter-widgets/base",
            "_view_module_version": "1.2.0",
            "_view_name": "StyleView",
            "bar_color": null,
            "description_width": ""
          }
        },
        "05995d5d49df4ae38b151dde6f2d0bfc": {
          "model_module": "@jupyter-widgets/controls",
          "model_module_version": "1.5.0",
          "model_name": "DescriptionStyleModel",
          "state": {
            "_model_module": "@jupyter-widgets/controls",
            "_model_module_version": "1.5.0",
            "_model_name": "DescriptionStyleModel",
            "_view_count": null,
            "_view_module": "@jupyter-widgets/base",
            "_view_module_version": "1.2.0",
            "_view_name": "StyleView",
            "description_width": ""
          }
        },
        "08ecc52c1ee8415bac2de779693a1ac3": {
          "model_module": "@jupyter-widgets/base",
          "model_module_version": "1.2.0",
          "model_name": "LayoutModel",
          "state": {
            "_model_module": "@jupyter-widgets/base",
            "_model_module_version": "1.2.0",
            "_model_name": "LayoutModel",
            "_view_count": null,
            "_view_module": "@jupyter-widgets/base",
            "_view_module_version": "1.2.0",
            "_view_name": "LayoutView",
            "align_content": null,
            "align_items": null,
            "align_self": null,
            "border": null,
            "bottom": null,
            "display": null,
            "flex": null,
            "flex_flow": null,
            "grid_area": null,
            "grid_auto_columns": null,
            "grid_auto_flow": null,
            "grid_auto_rows": null,
            "grid_column": null,
            "grid_gap": null,
            "grid_row": null,
            "grid_template_areas": null,
            "grid_template_columns": null,
            "grid_template_rows": null,
            "height": null,
            "justify_content": null,
            "justify_items": null,
            "left": null,
            "margin": null,
            "max_height": null,
            "max_width": null,
            "min_height": null,
            "min_width": null,
            "object_fit": null,
            "object_position": null,
            "order": null,
            "overflow": null,
            "overflow_x": null,
            "overflow_y": null,
            "padding": null,
            "right": null,
            "top": null,
            "visibility": null,
            "width": null
          }
        },
        "0a83c61e793c4ee78f6ccc1c1e03211a": {
          "model_module": "@jupyter-widgets/base",
          "model_module_version": "1.2.0",
          "model_name": "LayoutModel",
          "state": {
            "_model_module": "@jupyter-widgets/base",
            "_model_module_version": "1.2.0",
            "_model_name": "LayoutModel",
            "_view_count": null,
            "_view_module": "@jupyter-widgets/base",
            "_view_module_version": "1.2.0",
            "_view_name": "LayoutView",
            "align_content": null,
            "align_items": null,
            "align_self": null,
            "border": null,
            "bottom": null,
            "display": null,
            "flex": null,
            "flex_flow": null,
            "grid_area": null,
            "grid_auto_columns": null,
            "grid_auto_flow": null,
            "grid_auto_rows": null,
            "grid_column": null,
            "grid_gap": null,
            "grid_row": null,
            "grid_template_areas": null,
            "grid_template_columns": null,
            "grid_template_rows": null,
            "height": null,
            "justify_content": null,
            "justify_items": null,
            "left": null,
            "margin": null,
            "max_height": null,
            "max_width": null,
            "min_height": null,
            "min_width": null,
            "object_fit": null,
            "object_position": null,
            "order": null,
            "overflow": null,
            "overflow_x": null,
            "overflow_y": null,
            "padding": null,
            "right": null,
            "top": null,
            "visibility": null,
            "width": null
          }
        },
        "0ad30f2cd260462fbcd114f69aa77b7e": {
          "model_module": "@jupyter-widgets/controls",
          "model_module_version": "1.5.0",
          "model_name": "DescriptionStyleModel",
          "state": {
            "_model_module": "@jupyter-widgets/controls",
            "_model_module_version": "1.5.0",
            "_model_name": "DescriptionStyleModel",
            "_view_count": null,
            "_view_module": "@jupyter-widgets/base",
            "_view_module_version": "1.2.0",
            "_view_name": "StyleView",
            "description_width": ""
          }
        },
        "17c14f25657444c8aa44add2efbd0af3": {
          "model_module": "@jupyter-widgets/controls",
          "model_module_version": "1.5.0",
          "model_name": "HTMLModel",
          "state": {
            "_dom_classes": [],
            "_model_module": "@jupyter-widgets/controls",
            "_model_module_version": "1.5.0",
            "_model_name": "HTMLModel",
            "_view_count": null,
            "_view_module": "@jupyter-widgets/controls",
            "_view_module_version": "1.5.0",
            "_view_name": "HTMLView",
            "description": "",
            "description_tooltip": null,
            "layout": "IPY_MODEL_0a83c61e793c4ee78f6ccc1c1e03211a",
            "placeholder": "​",
            "style": "IPY_MODEL_031f0f34ce1343f9a78a28c6cde50ccb",
            "value": " 925/925 [00:00&lt;00:00, 14.7kB/s]"
          }
        },
        "2288bb8e5a93467886c6a6090ecad0e4": {
          "model_module": "@jupyter-widgets/controls",
          "model_module_version": "1.5.0",
          "model_name": "DescriptionStyleModel",
          "state": {
            "_model_module": "@jupyter-widgets/controls",
            "_model_module_version": "1.5.0",
            "_model_name": "DescriptionStyleModel",
            "_view_count": null,
            "_view_module": "@jupyter-widgets/base",
            "_view_module_version": "1.2.0",
            "_view_name": "StyleView",
            "description_width": ""
          }
        },
        "254ea08665d54583a9fb21553cd42493": {
          "model_module": "@jupyter-widgets/controls",
          "model_module_version": "1.5.0",
          "model_name": "DescriptionStyleModel",
          "state": {
            "_model_module": "@jupyter-widgets/controls",
            "_model_module_version": "1.5.0",
            "_model_name": "DescriptionStyleModel",
            "_view_count": null,
            "_view_module": "@jupyter-widgets/base",
            "_view_module_version": "1.2.0",
            "_view_name": "StyleView",
            "description_width": ""
          }
        },
        "2644e473994042669be22bcb71c6b032": {
          "model_module": "@jupyter-widgets/controls",
          "model_module_version": "1.5.0",
          "model_name": "FloatProgressModel",
          "state": {
            "_dom_classes": [],
            "_model_module": "@jupyter-widgets/controls",
            "_model_module_version": "1.5.0",
            "_model_name": "FloatProgressModel",
            "_view_count": null,
            "_view_module": "@jupyter-widgets/controls",
            "_view_module_version": "1.5.0",
            "_view_name": "ProgressView",
            "bar_style": "success",
            "description": "",
            "description_tooltip": null,
            "layout": "IPY_MODEL_677ac5582e1649009c44677fe9c0173b",
            "max": 384,
            "min": 0,
            "orientation": "horizontal",
            "style": "IPY_MODEL_89043fa64070411494b6553fd66bafc5",
            "value": 384
          }
        },
        "305e0259385046368996f8cd1045f375": {
          "model_module": "@jupyter-widgets/controls",
          "model_module_version": "1.5.0",
          "model_name": "DescriptionStyleModel",
          "state": {
            "_model_module": "@jupyter-widgets/controls",
            "_model_module_version": "1.5.0",
            "_model_name": "DescriptionStyleModel",
            "_view_count": null,
            "_view_module": "@jupyter-widgets/base",
            "_view_module_version": "1.2.0",
            "_view_name": "StyleView",
            "description_width": ""
          }
        },
        "34556f2466de451690b61ea7c7ad8e24": {
          "model_module": "@jupyter-widgets/controls",
          "model_module_version": "1.5.0",
          "model_name": "HTMLModel",
          "state": {
            "_dom_classes": [],
            "_model_module": "@jupyter-widgets/controls",
            "_model_module_version": "1.5.0",
            "_model_name": "HTMLModel",
            "_view_count": null,
            "_view_module": "@jupyter-widgets/controls",
            "_view_module_version": "1.5.0",
            "_view_name": "HTMLView",
            "description": "",
            "description_tooltip": null,
            "layout": "IPY_MODEL_429f9b83a9144137a15535401c428820",
            "placeholder": "​",
            "style": "IPY_MODEL_ad77aed2560d49d297a5392c1aa6a856",
            "value": "Downloading (…)/main/tokenizer.json: 100%"
          }
        },
        "34afc2c1177641feb461c14ee947e009": {
          "model_module": "@jupyter-widgets/controls",
          "model_module_version": "1.5.0",
          "model_name": "HTMLModel",
          "state": {
            "_dom_classes": [],
            "_model_module": "@jupyter-widgets/controls",
            "_model_module_version": "1.5.0",
            "_model_name": "HTMLModel",
            "_view_count": null,
            "_view_module": "@jupyter-widgets/controls",
            "_view_module_version": "1.5.0",
            "_view_name": "HTMLView",
            "description": "",
            "description_tooltip": null,
            "layout": "IPY_MODEL_08ecc52c1ee8415bac2de779693a1ac3",
            "placeholder": "​",
            "style": "IPY_MODEL_0ad30f2cd260462fbcd114f69aa77b7e",
            "value": "Downloading (…)lve/main/config.json: 100%"
          }
        },
        "3509afc7a38643aab5b39fd2a2069953": {
          "model_module": "@jupyter-widgets/base",
          "model_module_version": "1.2.0",
          "model_name": "LayoutModel",
          "state": {
            "_model_module": "@jupyter-widgets/base",
            "_model_module_version": "1.2.0",
            "_model_name": "LayoutModel",
            "_view_count": null,
            "_view_module": "@jupyter-widgets/base",
            "_view_module_version": "1.2.0",
            "_view_name": "LayoutView",
            "align_content": null,
            "align_items": null,
            "align_self": null,
            "border": null,
            "bottom": null,
            "display": null,
            "flex": null,
            "flex_flow": null,
            "grid_area": null,
            "grid_auto_columns": null,
            "grid_auto_flow": null,
            "grid_auto_rows": null,
            "grid_column": null,
            "grid_gap": null,
            "grid_row": null,
            "grid_template_areas": null,
            "grid_template_columns": null,
            "grid_template_rows": null,
            "height": null,
            "justify_content": null,
            "justify_items": null,
            "left": null,
            "margin": null,
            "max_height": null,
            "max_width": null,
            "min_height": null,
            "min_width": null,
            "object_fit": null,
            "object_position": null,
            "order": null,
            "overflow": null,
            "overflow_x": null,
            "overflow_y": null,
            "padding": null,
            "right": null,
            "top": null,
            "visibility": null,
            "width": null
          }
        },
        "429f9b83a9144137a15535401c428820": {
          "model_module": "@jupyter-widgets/base",
          "model_module_version": "1.2.0",
          "model_name": "LayoutModel",
          "state": {
            "_model_module": "@jupyter-widgets/base",
            "_model_module_version": "1.2.0",
            "_model_name": "LayoutModel",
            "_view_count": null,
            "_view_module": "@jupyter-widgets/base",
            "_view_module_version": "1.2.0",
            "_view_name": "LayoutView",
            "align_content": null,
            "align_items": null,
            "align_self": null,
            "border": null,
            "bottom": null,
            "display": null,
            "flex": null,
            "flex_flow": null,
            "grid_area": null,
            "grid_auto_columns": null,
            "grid_auto_flow": null,
            "grid_auto_rows": null,
            "grid_column": null,
            "grid_gap": null,
            "grid_row": null,
            "grid_template_areas": null,
            "grid_template_columns": null,
            "grid_template_rows": null,
            "height": null,
            "justify_content": null,
            "justify_items": null,
            "left": null,
            "margin": null,
            "max_height": null,
            "max_width": null,
            "min_height": null,
            "min_width": null,
            "object_fit": null,
            "object_position": null,
            "order": null,
            "overflow": null,
            "overflow_x": null,
            "overflow_y": null,
            "padding": null,
            "right": null,
            "top": null,
            "visibility": null,
            "width": null
          }
        },
        "4bd8b3744ddc46df96e81592decacc2a": {
          "model_module": "@jupyter-widgets/controls",
          "model_module_version": "1.5.0",
          "model_name": "DescriptionStyleModel",
          "state": {
            "_model_module": "@jupyter-widgets/controls",
            "_model_module_version": "1.5.0",
            "_model_name": "DescriptionStyleModel",
            "_view_count": null,
            "_view_module": "@jupyter-widgets/base",
            "_view_module_version": "1.2.0",
            "_view_name": "StyleView",
            "description_width": ""
          }
        },
        "4d300fb61a4242a5b578aa2dc4dd5176": {
          "model_module": "@jupyter-widgets/base",
          "model_module_version": "1.2.0",
          "model_name": "LayoutModel",
          "state": {
            "_model_module": "@jupyter-widgets/base",
            "_model_module_version": "1.2.0",
            "_model_name": "LayoutModel",
            "_view_count": null,
            "_view_module": "@jupyter-widgets/base",
            "_view_module_version": "1.2.0",
            "_view_name": "LayoutView",
            "align_content": null,
            "align_items": null,
            "align_self": null,
            "border": null,
            "bottom": null,
            "display": null,
            "flex": null,
            "flex_flow": null,
            "grid_area": null,
            "grid_auto_columns": null,
            "grid_auto_flow": null,
            "grid_auto_rows": null,
            "grid_column": null,
            "grid_gap": null,
            "grid_row": null,
            "grid_template_areas": null,
            "grid_template_columns": null,
            "grid_template_rows": null,
            "height": null,
            "justify_content": null,
            "justify_items": null,
            "left": null,
            "margin": null,
            "max_height": null,
            "max_width": null,
            "min_height": null,
            "min_width": null,
            "object_fit": null,
            "object_position": null,
            "order": null,
            "overflow": null,
            "overflow_x": null,
            "overflow_y": null,
            "padding": null,
            "right": null,
            "top": null,
            "visibility": null,
            "width": null
          }
        },
        "5df06aa4d0f64349ae4bcc096a518aa0": {
          "model_module": "@jupyter-widgets/controls",
          "model_module_version": "1.5.0",
          "model_name": "FloatProgressModel",
          "state": {
            "_dom_classes": [],
            "_model_module": "@jupyter-widgets/controls",
            "_model_module_version": "1.5.0",
            "_model_name": "FloatProgressModel",
            "_view_count": null,
            "_view_module": "@jupyter-widgets/controls",
            "_view_module_version": "1.5.0",
            "_view_name": "ProgressView",
            "bar_style": "success",
            "description": "",
            "description_tooltip": null,
            "layout": "IPY_MODEL_edec04d4027d4da58c28d1de65c0e99b",
            "max": 167,
            "min": 0,
            "orientation": "horizontal",
            "style": "IPY_MODEL_65f92bd3f84744b1b79d49bc2d8d8663",
            "value": 167
          }
        },
        "6104122c3e78420286115d0ada27d046": {
          "model_module": "@jupyter-widgets/base",
          "model_module_version": "1.2.0",
          "model_name": "LayoutModel",
          "state": {
            "_model_module": "@jupyter-widgets/base",
            "_model_module_version": "1.2.0",
            "_model_name": "LayoutModel",
            "_view_count": null,
            "_view_module": "@jupyter-widgets/base",
            "_view_module_version": "1.2.0",
            "_view_name": "LayoutView",
            "align_content": null,
            "align_items": null,
            "align_self": null,
            "border": null,
            "bottom": null,
            "display": null,
            "flex": null,
            "flex_flow": null,
            "grid_area": null,
            "grid_auto_columns": null,
            "grid_auto_flow": null,
            "grid_auto_rows": null,
            "grid_column": null,
            "grid_gap": null,
            "grid_row": null,
            "grid_template_areas": null,
            "grid_template_columns": null,
            "grid_template_rows": null,
            "height": null,
            "justify_content": null,
            "justify_items": null,
            "left": null,
            "margin": null,
            "max_height": null,
            "max_width": null,
            "min_height": null,
            "min_width": null,
            "object_fit": null,
            "object_position": null,
            "order": null,
            "overflow": null,
            "overflow_x": null,
            "overflow_y": null,
            "padding": null,
            "right": null,
            "top": null,
            "visibility": null,
            "width": null
          }
        },
        "64496185b0c34a3e8aa2a3ecae7ec251": {
          "model_module": "@jupyter-widgets/controls",
          "model_module_version": "1.5.0",
          "model_name": "HTMLModel",
          "state": {
            "_dom_classes": [],
            "_model_module": "@jupyter-widgets/controls",
            "_model_module_version": "1.5.0",
            "_model_name": "HTMLModel",
            "_view_count": null,
            "_view_module": "@jupyter-widgets/controls",
            "_view_module_version": "1.5.0",
            "_view_name": "HTMLView",
            "description": "",
            "description_tooltip": null,
            "layout": "IPY_MODEL_c01dbaa395fb4a768f04d3fdd1752e77",
            "placeholder": "​",
            "style": "IPY_MODEL_05995d5d49df4ae38b151dde6f2d0bfc",
            "value": " 1.31M/1.31M [00:00&lt;00:00, 11.8MB/s]"
          }
        },
        "6467dd726d52463eae01b895b28689af": {
          "model_module": "@jupyter-widgets/controls",
          "model_module_version": "1.5.0",
          "model_name": "FloatProgressModel",
          "state": {
            "_dom_classes": [],
            "_model_module": "@jupyter-widgets/controls",
            "_model_module_version": "1.5.0",
            "_model_name": "FloatProgressModel",
            "_view_count": null,
            "_view_module": "@jupyter-widgets/controls",
            "_view_module_version": "1.5.0",
            "_view_name": "ProgressView",
            "bar_style": "success",
            "description": "",
            "description_tooltip": null,
            "layout": "IPY_MODEL_6af5b25a72074d9a9368ebab721151e3",
            "max": 435234485,
            "min": 0,
            "orientation": "horizontal",
            "style": "IPY_MODEL_e5deb29e45524628ba66ec049ef03043",
            "value": 435234485
          }
        },
        "65f92bd3f84744b1b79d49bc2d8d8663": {
          "model_module": "@jupyter-widgets/controls",
          "model_module_version": "1.5.0",
          "model_name": "ProgressStyleModel",
          "state": {
            "_model_module": "@jupyter-widgets/controls",
            "_model_module_version": "1.5.0",
            "_model_name": "ProgressStyleModel",
            "_view_count": null,
            "_view_module": "@jupyter-widgets/base",
            "_view_module_version": "1.2.0",
            "_view_name": "StyleView",
            "bar_color": null,
            "description_width": ""
          }
        },
        "677ac5582e1649009c44677fe9c0173b": {
          "model_module": "@jupyter-widgets/base",
          "model_module_version": "1.2.0",
          "model_name": "LayoutModel",
          "state": {
            "_model_module": "@jupyter-widgets/base",
            "_model_module_version": "1.2.0",
            "_model_name": "LayoutModel",
            "_view_count": null,
            "_view_module": "@jupyter-widgets/base",
            "_view_module_version": "1.2.0",
            "_view_name": "LayoutView",
            "align_content": null,
            "align_items": null,
            "align_self": null,
            "border": null,
            "bottom": null,
            "display": null,
            "flex": null,
            "flex_flow": null,
            "grid_area": null,
            "grid_auto_columns": null,
            "grid_auto_flow": null,
            "grid_auto_rows": null,
            "grid_column": null,
            "grid_gap": null,
            "grid_row": null,
            "grid_template_areas": null,
            "grid_template_columns": null,
            "grid_template_rows": null,
            "height": null,
            "justify_content": null,
            "justify_items": null,
            "left": null,
            "margin": null,
            "max_height": null,
            "max_width": null,
            "min_height": null,
            "min_width": null,
            "object_fit": null,
            "object_position": null,
            "order": null,
            "overflow": null,
            "overflow_x": null,
            "overflow_y": null,
            "padding": null,
            "right": null,
            "top": null,
            "visibility": null,
            "width": null
          }
        },
        "6af5b25a72074d9a9368ebab721151e3": {
          "model_module": "@jupyter-widgets/base",
          "model_module_version": "1.2.0",
          "model_name": "LayoutModel",
          "state": {
            "_model_module": "@jupyter-widgets/base",
            "_model_module_version": "1.2.0",
            "_model_name": "LayoutModel",
            "_view_count": null,
            "_view_module": "@jupyter-widgets/base",
            "_view_module_version": "1.2.0",
            "_view_name": "LayoutView",
            "align_content": null,
            "align_items": null,
            "align_self": null,
            "border": null,
            "bottom": null,
            "display": null,
            "flex": null,
            "flex_flow": null,
            "grid_area": null,
            "grid_auto_columns": null,
            "grid_auto_flow": null,
            "grid_auto_rows": null,
            "grid_column": null,
            "grid_gap": null,
            "grid_row": null,
            "grid_template_areas": null,
            "grid_template_columns": null,
            "grid_template_rows": null,
            "height": null,
            "justify_content": null,
            "justify_items": null,
            "left": null,
            "margin": null,
            "max_height": null,
            "max_width": null,
            "min_height": null,
            "min_width": null,
            "object_fit": null,
            "object_position": null,
            "order": null,
            "overflow": null,
            "overflow_x": null,
            "overflow_y": null,
            "padding": null,
            "right": null,
            "top": null,
            "visibility": null,
            "width": null
          }
        },
        "6b6143a3c4384a4aacddaca1ea741a28": {
          "model_module": "@jupyter-widgets/controls",
          "model_module_version": "1.5.0",
          "model_name": "HTMLModel",
          "state": {
            "_dom_classes": [],
            "_model_module": "@jupyter-widgets/controls",
            "_model_module_version": "1.5.0",
            "_model_name": "HTMLModel",
            "_view_count": null,
            "_view_module": "@jupyter-widgets/controls",
            "_view_module_version": "1.5.0",
            "_view_name": "HTMLView",
            "description": "",
            "description_tooltip": null,
            "layout": "IPY_MODEL_c27bfae6c169426f8ea409c4fd05f8c6",
            "placeholder": "​",
            "style": "IPY_MODEL_7fbb6adb3ea140918823dc6e70ef7c37",
            "value": "Downloading (…)cial_tokens_map.json: 100%"
          }
        },
        "6d6af41d14514cef99687b6a7b9a40e7": {
          "model_module": "@jupyter-widgets/base",
          "model_module_version": "1.2.0",
          "model_name": "LayoutModel",
          "state": {
            "_model_module": "@jupyter-widgets/base",
            "_model_module_version": "1.2.0",
            "_model_name": "LayoutModel",
            "_view_count": null,
            "_view_module": "@jupyter-widgets/base",
            "_view_module_version": "1.2.0",
            "_view_name": "LayoutView",
            "align_content": null,
            "align_items": null,
            "align_self": null,
            "border": null,
            "bottom": null,
            "display": null,
            "flex": null,
            "flex_flow": null,
            "grid_area": null,
            "grid_auto_columns": null,
            "grid_auto_flow": null,
            "grid_auto_rows": null,
            "grid_column": null,
            "grid_gap": null,
            "grid_row": null,
            "grid_template_areas": null,
            "grid_template_columns": null,
            "grid_template_rows": null,
            "height": null,
            "justify_content": null,
            "justify_items": null,
            "left": null,
            "margin": null,
            "max_height": null,
            "max_width": null,
            "min_height": null,
            "min_width": null,
            "object_fit": null,
            "object_position": null,
            "order": null,
            "overflow": null,
            "overflow_x": null,
            "overflow_y": null,
            "padding": null,
            "right": null,
            "top": null,
            "visibility": null,
            "width": null
          }
        },
        "748a12e27f5b4aa18d73a2927f005ca8": {
          "model_module": "@jupyter-widgets/controls",
          "model_module_version": "1.5.0",
          "model_name": "HTMLModel",
          "state": {
            "_dom_classes": [],
            "_model_module": "@jupyter-widgets/controls",
            "_model_module_version": "1.5.0",
            "_model_name": "HTMLModel",
            "_view_count": null,
            "_view_module": "@jupyter-widgets/controls",
            "_view_module_version": "1.5.0",
            "_view_name": "HTMLView",
            "description": "",
            "description_tooltip": null,
            "layout": "IPY_MODEL_ba5bc2624cf04f828b960e0989efe4ba",
            "placeholder": "​",
            "style": "IPY_MODEL_4bd8b3744ddc46df96e81592decacc2a",
            "value": "Downloading pytorch_model.bin: 100%"
          }
        },
        "7fbb6adb3ea140918823dc6e70ef7c37": {
          "model_module": "@jupyter-widgets/controls",
          "model_module_version": "1.5.0",
          "model_name": "DescriptionStyleModel",
          "state": {
            "_model_module": "@jupyter-widgets/controls",
            "_model_module_version": "1.5.0",
            "_model_name": "DescriptionStyleModel",
            "_view_count": null,
            "_view_module": "@jupyter-widgets/base",
            "_view_module_version": "1.2.0",
            "_view_name": "StyleView",
            "description_width": ""
          }
        },
        "81b8391842c2413ca1a36d202323b960": {
          "model_module": "@jupyter-widgets/controls",
          "model_module_version": "1.5.0",
          "model_name": "HBoxModel",
          "state": {
            "_dom_classes": [],
            "_model_module": "@jupyter-widgets/controls",
            "_model_module_version": "1.5.0",
            "_model_name": "HBoxModel",
            "_view_count": null,
            "_view_module": "@jupyter-widgets/controls",
            "_view_module_version": "1.5.0",
            "_view_name": "HBoxView",
            "box_style": "",
            "children": [
              "IPY_MODEL_ba26d58b5fb242109757974492d0cbd1",
              "IPY_MODEL_2644e473994042669be22bcb71c6b032",
              "IPY_MODEL_ea1bdf34b6654c3fa568de17a927eab9"
            ],
            "layout": "IPY_MODEL_3509afc7a38643aab5b39fd2a2069953"
          }
        },
        "8355a772532a4e0a9c93160117271ae8": {
          "model_module": "@jupyter-widgets/base",
          "model_module_version": "1.2.0",
          "model_name": "LayoutModel",
          "state": {
            "_model_module": "@jupyter-widgets/base",
            "_model_module_version": "1.2.0",
            "_model_name": "LayoutModel",
            "_view_count": null,
            "_view_module": "@jupyter-widgets/base",
            "_view_module_version": "1.2.0",
            "_view_name": "LayoutView",
            "align_content": null,
            "align_items": null,
            "align_self": null,
            "border": null,
            "bottom": null,
            "display": null,
            "flex": null,
            "flex_flow": null,
            "grid_area": null,
            "grid_auto_columns": null,
            "grid_auto_flow": null,
            "grid_auto_rows": null,
            "grid_column": null,
            "grid_gap": null,
            "grid_row": null,
            "grid_template_areas": null,
            "grid_template_columns": null,
            "grid_template_rows": null,
            "height": null,
            "justify_content": null,
            "justify_items": null,
            "left": null,
            "margin": null,
            "max_height": null,
            "max_width": null,
            "min_height": null,
            "min_width": null,
            "object_fit": null,
            "object_position": null,
            "order": null,
            "overflow": null,
            "overflow_x": null,
            "overflow_y": null,
            "padding": null,
            "right": null,
            "top": null,
            "visibility": null,
            "width": null
          }
        },
        "89043fa64070411494b6553fd66bafc5": {
          "model_module": "@jupyter-widgets/controls",
          "model_module_version": "1.5.0",
          "model_name": "ProgressStyleModel",
          "state": {
            "_model_module": "@jupyter-widgets/controls",
            "_model_module_version": "1.5.0",
            "_model_name": "ProgressStyleModel",
            "_view_count": null,
            "_view_module": "@jupyter-widgets/base",
            "_view_module_version": "1.2.0",
            "_view_name": "StyleView",
            "bar_color": null,
            "description_width": ""
          }
        },
        "89a661691dd647d2bb24fb77b835c788": {
          "model_module": "@jupyter-widgets/controls",
          "model_module_version": "1.5.0",
          "model_name": "HBoxModel",
          "state": {
            "_dom_classes": [],
            "_model_module": "@jupyter-widgets/controls",
            "_model_module_version": "1.5.0",
            "_model_name": "HBoxModel",
            "_view_count": null,
            "_view_module": "@jupyter-widgets/controls",
            "_view_module_version": "1.5.0",
            "_view_name": "HBoxView",
            "box_style": "",
            "children": [
              "IPY_MODEL_748a12e27f5b4aa18d73a2927f005ca8",
              "IPY_MODEL_6467dd726d52463eae01b895b28689af",
              "IPY_MODEL_b47299d10d7540bd9e391a4eac20b5b7"
            ],
            "layout": "IPY_MODEL_dd9178305e334ae38459ef531896d5b5"
          }
        },
        "966b9e9567be4e0b8194e9400e719963": {
          "model_module": "@jupyter-widgets/base",
          "model_module_version": "1.2.0",
          "model_name": "LayoutModel",
          "state": {
            "_model_module": "@jupyter-widgets/base",
            "_model_module_version": "1.2.0",
            "_model_name": "LayoutModel",
            "_view_count": null,
            "_view_module": "@jupyter-widgets/base",
            "_view_module_version": "1.2.0",
            "_view_name": "LayoutView",
            "align_content": null,
            "align_items": null,
            "align_self": null,
            "border": null,
            "bottom": null,
            "display": null,
            "flex": null,
            "flex_flow": null,
            "grid_area": null,
            "grid_auto_columns": null,
            "grid_auto_flow": null,
            "grid_auto_rows": null,
            "grid_column": null,
            "grid_gap": null,
            "grid_row": null,
            "grid_template_areas": null,
            "grid_template_columns": null,
            "grid_template_rows": null,
            "height": null,
            "justify_content": null,
            "justify_items": null,
            "left": null,
            "margin": null,
            "max_height": null,
            "max_width": null,
            "min_height": null,
            "min_width": null,
            "object_fit": null,
            "object_position": null,
            "order": null,
            "overflow": null,
            "overflow_x": null,
            "overflow_y": null,
            "padding": null,
            "right": null,
            "top": null,
            "visibility": null,
            "width": null
          }
        },
        "ad77aed2560d49d297a5392c1aa6a856": {
          "model_module": "@jupyter-widgets/controls",
          "model_module_version": "1.5.0",
          "model_name": "DescriptionStyleModel",
          "state": {
            "_model_module": "@jupyter-widgets/controls",
            "_model_module_version": "1.5.0",
            "_model_name": "DescriptionStyleModel",
            "_view_count": null,
            "_view_module": "@jupyter-widgets/base",
            "_view_module_version": "1.2.0",
            "_view_name": "StyleView",
            "description_width": ""
          }
        },
        "adfbee39593c4c93aa1a0931839ca935": {
          "model_module": "@jupyter-widgets/controls",
          "model_module_version": "1.5.0",
          "model_name": "FloatProgressModel",
          "state": {
            "_dom_classes": [],
            "_model_module": "@jupyter-widgets/controls",
            "_model_module_version": "1.5.0",
            "_model_name": "FloatProgressModel",
            "_view_count": null,
            "_view_module": "@jupyter-widgets/controls",
            "_view_module_version": "1.5.0",
            "_view_name": "ProgressView",
            "bar_style": "success",
            "description": "",
            "description_tooltip": null,
            "layout": "IPY_MODEL_b95f2f4892a84d408bd489931a171560",
            "max": 925,
            "min": 0,
            "orientation": "horizontal",
            "style": "IPY_MODEL_edc9009781e54ee8a78c5897ad6281f3",
            "value": 925
          }
        },
        "b47299d10d7540bd9e391a4eac20b5b7": {
          "model_module": "@jupyter-widgets/controls",
          "model_module_version": "1.5.0",
          "model_name": "HTMLModel",
          "state": {
            "_dom_classes": [],
            "_model_module": "@jupyter-widgets/controls",
            "_model_module_version": "1.5.0",
            "_model_name": "HTMLModel",
            "_view_count": null,
            "_view_module": "@jupyter-widgets/controls",
            "_view_module_version": "1.5.0",
            "_view_name": "HTMLView",
            "description": "",
            "description_tooltip": null,
            "layout": "IPY_MODEL_d9d216fccd364cd18ae8d90fe7ffee0f",
            "placeholder": "​",
            "style": "IPY_MODEL_305e0259385046368996f8cd1045f375",
            "value": " 435M/435M [00:03&lt;00:00, 109MB/s]"
          }
        },
        "b54c51de0a1c45c0b0914b115e7fb698": {
          "model_module": "@jupyter-widgets/base",
          "model_module_version": "1.2.0",
          "model_name": "LayoutModel",
          "state": {
            "_model_module": "@jupyter-widgets/base",
            "_model_module_version": "1.2.0",
            "_model_name": "LayoutModel",
            "_view_count": null,
            "_view_module": "@jupyter-widgets/base",
            "_view_module_version": "1.2.0",
            "_view_name": "LayoutView",
            "align_content": null,
            "align_items": null,
            "align_self": null,
            "border": null,
            "bottom": null,
            "display": null,
            "flex": null,
            "flex_flow": null,
            "grid_area": null,
            "grid_auto_columns": null,
            "grid_auto_flow": null,
            "grid_auto_rows": null,
            "grid_column": null,
            "grid_gap": null,
            "grid_row": null,
            "grid_template_areas": null,
            "grid_template_columns": null,
            "grid_template_rows": null,
            "height": null,
            "justify_content": null,
            "justify_items": null,
            "left": null,
            "margin": null,
            "max_height": null,
            "max_width": null,
            "min_height": null,
            "min_width": null,
            "object_fit": null,
            "object_position": null,
            "order": null,
            "overflow": null,
            "overflow_x": null,
            "overflow_y": null,
            "padding": null,
            "right": null,
            "top": null,
            "visibility": null,
            "width": null
          }
        },
        "b5b59881711647bc87f0eb1e8d353be9": {
          "model_module": "@jupyter-widgets/base",
          "model_module_version": "1.2.0",
          "model_name": "LayoutModel",
          "state": {
            "_model_module": "@jupyter-widgets/base",
            "_model_module_version": "1.2.0",
            "_model_name": "LayoutModel",
            "_view_count": null,
            "_view_module": "@jupyter-widgets/base",
            "_view_module_version": "1.2.0",
            "_view_name": "LayoutView",
            "align_content": null,
            "align_items": null,
            "align_self": null,
            "border": null,
            "bottom": null,
            "display": null,
            "flex": null,
            "flex_flow": null,
            "grid_area": null,
            "grid_auto_columns": null,
            "grid_auto_flow": null,
            "grid_auto_rows": null,
            "grid_column": null,
            "grid_gap": null,
            "grid_row": null,
            "grid_template_areas": null,
            "grid_template_columns": null,
            "grid_template_rows": null,
            "height": null,
            "justify_content": null,
            "justify_items": null,
            "left": null,
            "margin": null,
            "max_height": null,
            "max_width": null,
            "min_height": null,
            "min_width": null,
            "object_fit": null,
            "object_position": null,
            "order": null,
            "overflow": null,
            "overflow_x": null,
            "overflow_y": null,
            "padding": null,
            "right": null,
            "top": null,
            "visibility": null,
            "width": null
          }
        },
        "b95f2f4892a84d408bd489931a171560": {
          "model_module": "@jupyter-widgets/base",
          "model_module_version": "1.2.0",
          "model_name": "LayoutModel",
          "state": {
            "_model_module": "@jupyter-widgets/base",
            "_model_module_version": "1.2.0",
            "_model_name": "LayoutModel",
            "_view_count": null,
            "_view_module": "@jupyter-widgets/base",
            "_view_module_version": "1.2.0",
            "_view_name": "LayoutView",
            "align_content": null,
            "align_items": null,
            "align_self": null,
            "border": null,
            "bottom": null,
            "display": null,
            "flex": null,
            "flex_flow": null,
            "grid_area": null,
            "grid_auto_columns": null,
            "grid_auto_flow": null,
            "grid_auto_rows": null,
            "grid_column": null,
            "grid_gap": null,
            "grid_row": null,
            "grid_template_areas": null,
            "grid_template_columns": null,
            "grid_template_rows": null,
            "height": null,
            "justify_content": null,
            "justify_items": null,
            "left": null,
            "margin": null,
            "max_height": null,
            "max_width": null,
            "min_height": null,
            "min_width": null,
            "object_fit": null,
            "object_position": null,
            "order": null,
            "overflow": null,
            "overflow_x": null,
            "overflow_y": null,
            "padding": null,
            "right": null,
            "top": null,
            "visibility": null,
            "width": null
          }
        },
        "ba26d58b5fb242109757974492d0cbd1": {
          "model_module": "@jupyter-widgets/controls",
          "model_module_version": "1.5.0",
          "model_name": "HTMLModel",
          "state": {
            "_dom_classes": [],
            "_model_module": "@jupyter-widgets/controls",
            "_model_module_version": "1.5.0",
            "_model_name": "HTMLModel",
            "_view_count": null,
            "_view_module": "@jupyter-widgets/controls",
            "_view_module_version": "1.5.0",
            "_view_name": "HTMLView",
            "description": "",
            "description_tooltip": null,
            "layout": "IPY_MODEL_966b9e9567be4e0b8194e9400e719963",
            "placeholder": "​",
            "style": "IPY_MODEL_d874b8a97562440294747b6aa0606b74",
            "value": "Downloading (…)okenizer_config.json: 100%"
          }
        },
        "ba5bc2624cf04f828b960e0989efe4ba": {
          "model_module": "@jupyter-widgets/base",
          "model_module_version": "1.2.0",
          "model_name": "LayoutModel",
          "state": {
            "_model_module": "@jupyter-widgets/base",
            "_model_module_version": "1.2.0",
            "_model_name": "LayoutModel",
            "_view_count": null,
            "_view_module": "@jupyter-widgets/base",
            "_view_module_version": "1.2.0",
            "_view_name": "LayoutView",
            "align_content": null,
            "align_items": null,
            "align_self": null,
            "border": null,
            "bottom": null,
            "display": null,
            "flex": null,
            "flex_flow": null,
            "grid_area": null,
            "grid_auto_columns": null,
            "grid_auto_flow": null,
            "grid_auto_rows": null,
            "grid_column": null,
            "grid_gap": null,
            "grid_row": null,
            "grid_template_areas": null,
            "grid_template_columns": null,
            "grid_template_rows": null,
            "height": null,
            "justify_content": null,
            "justify_items": null,
            "left": null,
            "margin": null,
            "max_height": null,
            "max_width": null,
            "min_height": null,
            "min_width": null,
            "object_fit": null,
            "object_position": null,
            "order": null,
            "overflow": null,
            "overflow_x": null,
            "overflow_y": null,
            "padding": null,
            "right": null,
            "top": null,
            "visibility": null,
            "width": null
          }
        },
        "c01dbaa395fb4a768f04d3fdd1752e77": {
          "model_module": "@jupyter-widgets/base",
          "model_module_version": "1.2.0",
          "model_name": "LayoutModel",
          "state": {
            "_model_module": "@jupyter-widgets/base",
            "_model_module_version": "1.2.0",
            "_model_name": "LayoutModel",
            "_view_count": null,
            "_view_module": "@jupyter-widgets/base",
            "_view_module_version": "1.2.0",
            "_view_name": "LayoutView",
            "align_content": null,
            "align_items": null,
            "align_self": null,
            "border": null,
            "bottom": null,
            "display": null,
            "flex": null,
            "flex_flow": null,
            "grid_area": null,
            "grid_auto_columns": null,
            "grid_auto_flow": null,
            "grid_auto_rows": null,
            "grid_column": null,
            "grid_gap": null,
            "grid_row": null,
            "grid_template_areas": null,
            "grid_template_columns": null,
            "grid_template_rows": null,
            "height": null,
            "justify_content": null,
            "justify_items": null,
            "left": null,
            "margin": null,
            "max_height": null,
            "max_width": null,
            "min_height": null,
            "min_width": null,
            "object_fit": null,
            "object_position": null,
            "order": null,
            "overflow": null,
            "overflow_x": null,
            "overflow_y": null,
            "padding": null,
            "right": null,
            "top": null,
            "visibility": null,
            "width": null
          }
        },
        "c27bfae6c169426f8ea409c4fd05f8c6": {
          "model_module": "@jupyter-widgets/base",
          "model_module_version": "1.2.0",
          "model_name": "LayoutModel",
          "state": {
            "_model_module": "@jupyter-widgets/base",
            "_model_module_version": "1.2.0",
            "_model_name": "LayoutModel",
            "_view_count": null,
            "_view_module": "@jupyter-widgets/base",
            "_view_module_version": "1.2.0",
            "_view_name": "LayoutView",
            "align_content": null,
            "align_items": null,
            "align_self": null,
            "border": null,
            "bottom": null,
            "display": null,
            "flex": null,
            "flex_flow": null,
            "grid_area": null,
            "grid_auto_columns": null,
            "grid_auto_flow": null,
            "grid_auto_rows": null,
            "grid_column": null,
            "grid_gap": null,
            "grid_row": null,
            "grid_template_areas": null,
            "grid_template_columns": null,
            "grid_template_rows": null,
            "height": null,
            "justify_content": null,
            "justify_items": null,
            "left": null,
            "margin": null,
            "max_height": null,
            "max_width": null,
            "min_height": null,
            "min_width": null,
            "object_fit": null,
            "object_position": null,
            "order": null,
            "overflow": null,
            "overflow_x": null,
            "overflow_y": null,
            "padding": null,
            "right": null,
            "top": null,
            "visibility": null,
            "width": null
          }
        },
        "c8a555f0f0e348b18e32274a597066f8": {
          "model_module": "@jupyter-widgets/controls",
          "model_module_version": "1.5.0",
          "model_name": "FloatProgressModel",
          "state": {
            "_dom_classes": [],
            "_model_module": "@jupyter-widgets/controls",
            "_model_module_version": "1.5.0",
            "_model_name": "FloatProgressModel",
            "_view_count": null,
            "_view_module": "@jupyter-widgets/controls",
            "_view_module_version": "1.5.0",
            "_view_name": "ProgressView",
            "bar_style": "success",
            "description": "",
            "description_tooltip": null,
            "layout": "IPY_MODEL_6104122c3e78420286115d0ada27d046",
            "max": 1306803,
            "min": 0,
            "orientation": "horizontal",
            "style": "IPY_MODEL_0463f8015901443486ed641112d497c6",
            "value": 1306803
          }
        },
        "cfe391d0825a4edcbdfecf5d6806f597": {
          "model_module": "@jupyter-widgets/controls",
          "model_module_version": "1.5.0",
          "model_name": "HBoxModel",
          "state": {
            "_dom_classes": [],
            "_model_module": "@jupyter-widgets/controls",
            "_model_module_version": "1.5.0",
            "_model_name": "HBoxModel",
            "_view_count": null,
            "_view_module": "@jupyter-widgets/controls",
            "_view_module_version": "1.5.0",
            "_view_name": "HBoxView",
            "box_style": "",
            "children": [
              "IPY_MODEL_34556f2466de451690b61ea7c7ad8e24",
              "IPY_MODEL_c8a555f0f0e348b18e32274a597066f8",
              "IPY_MODEL_64496185b0c34a3e8aa2a3ecae7ec251"
            ],
            "layout": "IPY_MODEL_b54c51de0a1c45c0b0914b115e7fb698"
          }
        },
        "d874b8a97562440294747b6aa0606b74": {
          "model_module": "@jupyter-widgets/controls",
          "model_module_version": "1.5.0",
          "model_name": "DescriptionStyleModel",
          "state": {
            "_model_module": "@jupyter-widgets/controls",
            "_model_module_version": "1.5.0",
            "_model_name": "DescriptionStyleModel",
            "_view_count": null,
            "_view_module": "@jupyter-widgets/base",
            "_view_module_version": "1.2.0",
            "_view_name": "StyleView",
            "description_width": ""
          }
        },
        "d9d216fccd364cd18ae8d90fe7ffee0f": {
          "model_module": "@jupyter-widgets/base",
          "model_module_version": "1.2.0",
          "model_name": "LayoutModel",
          "state": {
            "_model_module": "@jupyter-widgets/base",
            "_model_module_version": "1.2.0",
            "_model_name": "LayoutModel",
            "_view_count": null,
            "_view_module": "@jupyter-widgets/base",
            "_view_module_version": "1.2.0",
            "_view_name": "LayoutView",
            "align_content": null,
            "align_items": null,
            "align_self": null,
            "border": null,
            "bottom": null,
            "display": null,
            "flex": null,
            "flex_flow": null,
            "grid_area": null,
            "grid_auto_columns": null,
            "grid_auto_flow": null,
            "grid_auto_rows": null,
            "grid_column": null,
            "grid_gap": null,
            "grid_row": null,
            "grid_template_areas": null,
            "grid_template_columns": null,
            "grid_template_rows": null,
            "height": null,
            "justify_content": null,
            "justify_items": null,
            "left": null,
            "margin": null,
            "max_height": null,
            "max_width": null,
            "min_height": null,
            "min_width": null,
            "object_fit": null,
            "object_position": null,
            "order": null,
            "overflow": null,
            "overflow_x": null,
            "overflow_y": null,
            "padding": null,
            "right": null,
            "top": null,
            "visibility": null,
            "width": null
          }
        },
        "dd9178305e334ae38459ef531896d5b5": {
          "model_module": "@jupyter-widgets/base",
          "model_module_version": "1.2.0",
          "model_name": "LayoutModel",
          "state": {
            "_model_module": "@jupyter-widgets/base",
            "_model_module_version": "1.2.0",
            "_model_name": "LayoutModel",
            "_view_count": null,
            "_view_module": "@jupyter-widgets/base",
            "_view_module_version": "1.2.0",
            "_view_name": "LayoutView",
            "align_content": null,
            "align_items": null,
            "align_self": null,
            "border": null,
            "bottom": null,
            "display": null,
            "flex": null,
            "flex_flow": null,
            "grid_area": null,
            "grid_auto_columns": null,
            "grid_auto_flow": null,
            "grid_auto_rows": null,
            "grid_column": null,
            "grid_gap": null,
            "grid_row": null,
            "grid_template_areas": null,
            "grid_template_columns": null,
            "grid_template_rows": null,
            "height": null,
            "justify_content": null,
            "justify_items": null,
            "left": null,
            "margin": null,
            "max_height": null,
            "max_width": null,
            "min_height": null,
            "min_width": null,
            "object_fit": null,
            "object_position": null,
            "order": null,
            "overflow": null,
            "overflow_x": null,
            "overflow_y": null,
            "padding": null,
            "right": null,
            "top": null,
            "visibility": null,
            "width": null
          }
        },
        "e00eacabe5ac4171bfb0599f81d01c8e": {
          "model_module": "@jupyter-widgets/controls",
          "model_module_version": "1.5.0",
          "model_name": "HTMLModel",
          "state": {
            "_dom_classes": [],
            "_model_module": "@jupyter-widgets/controls",
            "_model_module_version": "1.5.0",
            "_model_name": "HTMLModel",
            "_view_count": null,
            "_view_module": "@jupyter-widgets/controls",
            "_view_module_version": "1.5.0",
            "_view_name": "HTMLView",
            "description": "",
            "description_tooltip": null,
            "layout": "IPY_MODEL_6d6af41d14514cef99687b6a7b9a40e7",
            "placeholder": "​",
            "style": "IPY_MODEL_2288bb8e5a93467886c6a6090ecad0e4",
            "value": " 167/167 [00:00&lt;00:00, 3.18kB/s]"
          }
        },
        "e381908a6a43413c8e6f0aab529a0733": {
          "model_module": "@jupyter-widgets/controls",
          "model_module_version": "1.5.0",
          "model_name": "HBoxModel",
          "state": {
            "_dom_classes": [],
            "_model_module": "@jupyter-widgets/controls",
            "_model_module_version": "1.5.0",
            "_model_name": "HBoxModel",
            "_view_count": null,
            "_view_module": "@jupyter-widgets/controls",
            "_view_module_version": "1.5.0",
            "_view_name": "HBoxView",
            "box_style": "",
            "children": [
              "IPY_MODEL_6b6143a3c4384a4aacddaca1ea741a28",
              "IPY_MODEL_5df06aa4d0f64349ae4bcc096a518aa0",
              "IPY_MODEL_e00eacabe5ac4171bfb0599f81d01c8e"
            ],
            "layout": "IPY_MODEL_b5b59881711647bc87f0eb1e8d353be9"
          }
        },
        "e5deb29e45524628ba66ec049ef03043": {
          "model_module": "@jupyter-widgets/controls",
          "model_module_version": "1.5.0",
          "model_name": "ProgressStyleModel",
          "state": {
            "_model_module": "@jupyter-widgets/controls",
            "_model_module_version": "1.5.0",
            "_model_name": "ProgressStyleModel",
            "_view_count": null,
            "_view_module": "@jupyter-widgets/base",
            "_view_module_version": "1.2.0",
            "_view_name": "StyleView",
            "bar_color": null,
            "description_width": ""
          }
        },
        "ea1bdf34b6654c3fa568de17a927eab9": {
          "model_module": "@jupyter-widgets/controls",
          "model_module_version": "1.5.0",
          "model_name": "HTMLModel",
          "state": {
            "_dom_classes": [],
            "_model_module": "@jupyter-widgets/controls",
            "_model_module_version": "1.5.0",
            "_model_name": "HTMLModel",
            "_view_count": null,
            "_view_module": "@jupyter-widgets/controls",
            "_view_module_version": "1.5.0",
            "_view_name": "HTMLView",
            "description": "",
            "description_tooltip": null,
            "layout": "IPY_MODEL_4d300fb61a4242a5b578aa2dc4dd5176",
            "placeholder": "​",
            "style": "IPY_MODEL_254ea08665d54583a9fb21553cd42493",
            "value": " 384/384 [00:00&lt;00:00, 5.86kB/s]"
          }
        },
        "edc9009781e54ee8a78c5897ad6281f3": {
          "model_module": "@jupyter-widgets/controls",
          "model_module_version": "1.5.0",
          "model_name": "ProgressStyleModel",
          "state": {
            "_model_module": "@jupyter-widgets/controls",
            "_model_module_version": "1.5.0",
            "_model_name": "ProgressStyleModel",
            "_view_count": null,
            "_view_module": "@jupyter-widgets/base",
            "_view_module_version": "1.2.0",
            "_view_name": "StyleView",
            "bar_color": null,
            "description_width": ""
          }
        },
        "edec04d4027d4da58c28d1de65c0e99b": {
          "model_module": "@jupyter-widgets/base",
          "model_module_version": "1.2.0",
          "model_name": "LayoutModel",
          "state": {
            "_model_module": "@jupyter-widgets/base",
            "_model_module_version": "1.2.0",
            "_model_name": "LayoutModel",
            "_view_count": null,
            "_view_module": "@jupyter-widgets/base",
            "_view_module_version": "1.2.0",
            "_view_name": "LayoutView",
            "align_content": null,
            "align_items": null,
            "align_self": null,
            "border": null,
            "bottom": null,
            "display": null,
            "flex": null,
            "flex_flow": null,
            "grid_area": null,
            "grid_auto_columns": null,
            "grid_auto_flow": null,
            "grid_auto_rows": null,
            "grid_column": null,
            "grid_gap": null,
            "grid_row": null,
            "grid_template_areas": null,
            "grid_template_columns": null,
            "grid_template_rows": null,
            "height": null,
            "justify_content": null,
            "justify_items": null,
            "left": null,
            "margin": null,
            "max_height": null,
            "max_width": null,
            "min_height": null,
            "min_width": null,
            "object_fit": null,
            "object_position": null,
            "order": null,
            "overflow": null,
            "overflow_x": null,
            "overflow_y": null,
            "padding": null,
            "right": null,
            "top": null,
            "visibility": null,
            "width": null
          }
        },
        "f64c522dc4ce417dbe23146f12d4995e": {
          "model_module": "@jupyter-widgets/controls",
          "model_module_version": "1.5.0",
          "model_name": "HBoxModel",
          "state": {
            "_dom_classes": [],
            "_model_module": "@jupyter-widgets/controls",
            "_model_module_version": "1.5.0",
            "_model_name": "HBoxModel",
            "_view_count": null,
            "_view_module": "@jupyter-widgets/controls",
            "_view_module_version": "1.5.0",
            "_view_name": "HBoxView",
            "box_style": "",
            "children": [
              "IPY_MODEL_34afc2c1177641feb461c14ee947e009",
              "IPY_MODEL_adfbee39593c4c93aa1a0931839ca935",
              "IPY_MODEL_17c14f25657444c8aa44add2efbd0af3"
            ],
            "layout": "IPY_MODEL_8355a772532a4e0a9c93160117271ae8"
          }
        }
      }
    }
  },
  "nbformat": 4,
  "nbformat_minor": 0
}